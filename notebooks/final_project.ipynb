{
 "cells": [
  {
   "cell_type": "code",
   "execution_count": 1,
   "metadata": {},
   "outputs": [],
   "source": [
    "import requests\n",
    "import pandas as pd\n",
    "import seaborn as sns\n",
    "import numpy as np\n",
    "import matplotlib.pyplot as plt\n",
    "from scipy import stats as st\n",
    "import geopandas as gpd\n",
    "import plotly.express as px\n",
    "import plotly.graph_objects as go"
   ]
  },
  {
   "cell_type": "code",
   "execution_count": 2,
   "metadata": {},
   "outputs": [],
   "source": [
    "# First data frame: airbnb information"
   ]
  },
  {
   "cell_type": "code",
   "execution_count": 3,
   "metadata": {},
   "outputs": [
    {
     "data": {
      "text/plain": [
       "(95461, 75)"
      ]
     },
     "execution_count": 3,
     "metadata": {},
     "output_type": "execute_result"
    }
   ],
   "source": [
    "airbnb = pd.read_csv(\"listings.csv.gz\")\n",
    "airbnb.shape"
   ]
  },
  {
   "cell_type": "code",
   "execution_count": 4,
   "metadata": {},
   "outputs": [
    {
     "name": "stdout",
     "output_type": "stream",
     "text": [
      "<class 'pandas.core.frame.DataFrame'>\n",
      "RangeIndex: 95461 entries, 0 to 95460\n",
      "Data columns (total 75 columns):\n",
      " #   Column                                        Non-Null Count  Dtype  \n",
      "---  ------                                        --------------  -----  \n",
      " 0   id                                            95461 non-null  int64  \n",
      " 1   listing_url                                   95461 non-null  object \n",
      " 2   scrape_id                                     95461 non-null  int64  \n",
      " 3   last_scraped                                  95461 non-null  object \n",
      " 4   source                                        95461 non-null  object \n",
      " 5   name                                          95461 non-null  object \n",
      " 6   description                                   91385 non-null  object \n",
      " 7   neighborhood_overview                         48179 non-null  object \n",
      " 8   picture_url                                   95459 non-null  object \n",
      " 9   host_id                                       95461 non-null  int64  \n",
      " 10  host_url                                      95461 non-null  object \n",
      " 11  host_name                                     95455 non-null  object \n",
      " 12  host_since                                    95455 non-null  object \n",
      " 13  host_location                                 75907 non-null  object \n",
      " 14  host_about                                    41035 non-null  object \n",
      " 15  host_response_time                            54372 non-null  object \n",
      " 16  host_response_rate                            54372 non-null  object \n",
      " 17  host_acceptance_rate                          65048 non-null  object \n",
      " 18  host_is_superhost                             93159 non-null  object \n",
      " 19  host_thumbnail_url                            95455 non-null  object \n",
      " 20  host_picture_url                              95455 non-null  object \n",
      " 21  host_neighbourhood                            33272 non-null  object \n",
      " 22  host_listings_count                           95455 non-null  float64\n",
      " 23  host_total_listings_count                     95455 non-null  float64\n",
      " 24  host_verifications                            95455 non-null  object \n",
      " 25  host_has_profile_pic                          95455 non-null  object \n",
      " 26  host_identity_verified                        95455 non-null  object \n",
      " 27  neighbourhood                                 48179 non-null  object \n",
      " 28  neighbourhood_cleansed                        95461 non-null  object \n",
      " 29  neighbourhood_group_cleansed                  0 non-null      float64\n",
      " 30  latitude                                      95461 non-null  float64\n",
      " 31  longitude                                     95461 non-null  float64\n",
      " 32  property_type                                 95461 non-null  object \n",
      " 33  room_type                                     95461 non-null  object \n",
      " 34  accommodates                                  95461 non-null  int64  \n",
      " 35  bathrooms                                     64222 non-null  float64\n",
      " 36  bathrooms_text                                95371 non-null  object \n",
      " 37  bedrooms                                      88056 non-null  float64\n",
      " 38  beds                                          64101 non-null  float64\n",
      " 39  amenities                                     95461 non-null  object \n",
      " 40  price                                         64230 non-null  object \n",
      " 41  minimum_nights                                95461 non-null  int64  \n",
      " 42  maximum_nights                                95461 non-null  int64  \n",
      " 43  minimum_minimum_nights                        95461 non-null  int64  \n",
      " 44  maximum_minimum_nights                        95461 non-null  int64  \n",
      " 45  minimum_maximum_nights                        95461 non-null  int64  \n",
      " 46  maximum_maximum_nights                        95461 non-null  int64  \n",
      " 47  minimum_nights_avg_ntm                        95461 non-null  float64\n",
      " 48  maximum_nights_avg_ntm                        95461 non-null  float64\n",
      " 49  calendar_updated                              0 non-null      float64\n",
      " 50  has_availability                              90592 non-null  object \n",
      " 51  availability_30                               95461 non-null  int64  \n",
      " 52  availability_60                               95461 non-null  int64  \n",
      " 53  availability_90                               95461 non-null  int64  \n",
      " 54  availability_365                              95461 non-null  int64  \n",
      " 55  calendar_last_scraped                         95461 non-null  object \n",
      " 56  number_of_reviews                             95461 non-null  int64  \n",
      " 57  number_of_reviews_ltm                         95461 non-null  int64  \n",
      " 58  number_of_reviews_l30d                        95461 non-null  int64  \n",
      " 59  first_review                                  68319 non-null  object \n",
      " 60  last_review                                   68319 non-null  object \n",
      " 61  review_scores_rating                          68319 non-null  float64\n",
      " 62  review_scores_accuracy                        68307 non-null  float64\n",
      " 63  review_scores_cleanliness                     68310 non-null  float64\n",
      " 64  review_scores_checkin                         68300 non-null  float64\n",
      " 65  review_scores_communication                   68309 non-null  float64\n",
      " 66  review_scores_location                        68301 non-null  float64\n",
      " 67  review_scores_value                           68299 non-null  float64\n",
      " 68  license                                       76014 non-null  object \n",
      " 69  instant_bookable                              95461 non-null  object \n",
      " 70  calculated_host_listings_count                95461 non-null  int64  \n",
      " 71  calculated_host_listings_count_entire_homes   95461 non-null  int64  \n",
      " 72  calculated_host_listings_count_private_rooms  95461 non-null  int64  \n",
      " 73  calculated_host_listings_count_shared_rooms   95461 non-null  int64  \n",
      " 74  reviews_per_month                             68319 non-null  float64\n",
      "dtypes: float64(19), int64(21), object(35)\n",
      "memory usage: 54.6+ MB\n"
     ]
    }
   ],
   "source": [
    "airbnb.info()"
   ]
  },
  {
   "cell_type": "code",
   "execution_count": 5,
   "metadata": {},
   "outputs": [],
   "source": [
    "# Dropping irrelevant columns for the analysis \n",
    "airbnb_clean = airbnb.drop(columns=[\"host_name\",\"property_type\", \"host_identity_verified\", \"scrape_id\", \"calculated_host_listings_count\", \"license\", \"last_review\", \"reviews_per_month\", \"host_since\", \"picture_url\", \"host_url\", \"host_location\",\"instant_bookable\",\"calculated_host_listings_count_entire_homes\",\"calculated_host_listings_count_private_rooms\",\t\"calculated_host_listings_count_shared_rooms\", \"number_of_reviews_ltm\",\t\"number_of_reviews_l30d\", \"first_review\", \"neighbourhood_group_cleansed\", \"host_about\", \"description\", \"last_scraped\", \"calendar_last_scraped\", \"review_scores_cleanliness\",\"review_scores_checkin\", \"review_scores_location\", \"neighborhood_overview\", \"host_response_time\", \"host_response_rate\",\"availability_30\", \"availability_60\", \"availability_90\", \"availability_365\", \"review_scores_communication\", \"review_scores_accuracy\", \"host_thumbnail_url\", \"host_picture_url\",\"maximum_minimum_nights\", \"minimum_maximum_nights\", \"maximum_maximum_nights\", \"minimum_nights_avg_ntm\", \"maximum_nights_avg_ntm\", \"calendar_updated\", \"name\", \"host_listings_count\", \"host_total_listings_count\",\"neighbourhood\", \"host_has_profile_pic\", \"amenities\", \"minimum_minimum_nights\", \"bathrooms_text\", \"review_scores_value\", \"host_neighbourhood\", \"host_verifications\", \"source\"])"
   ]
  },
  {
   "cell_type": "code",
   "execution_count": 6,
   "metadata": {},
   "outputs": [
    {
     "data": {
      "text/plain": [
       "Index(['id', 'listing_url', 'host_id', 'host_acceptance_rate',\n",
       "       'host_is_superhost', 'neighbourhood_cleansed', 'latitude', 'longitude',\n",
       "       'room_type', 'accommodates', 'bathrooms', 'bedrooms', 'beds', 'price',\n",
       "       'minimum_nights', 'maximum_nights', 'has_availability',\n",
       "       'number_of_reviews', 'review_scores_rating'],\n",
       "      dtype='object')"
      ]
     },
     "execution_count": 6,
     "metadata": {},
     "output_type": "execute_result"
    }
   ],
   "source": [
    "airbnb_clean.columns"
   ]
  },
  {
   "cell_type": "code",
   "execution_count": 7,
   "metadata": {},
   "outputs": [],
   "source": [
    "airbnb_clean.rename(columns={\"neighbourhood_cleansed\":\"neighbourhood\"}, inplace=True)"
   ]
  },
  {
   "cell_type": "code",
   "execution_count": 8,
   "metadata": {},
   "outputs": [
    {
     "data": {
      "text/plain": [
       "id                          0\n",
       "listing_url                 0\n",
       "host_id                     0\n",
       "host_acceptance_rate    30413\n",
       "host_is_superhost        2302\n",
       "neighbourhood               0\n",
       "latitude                    0\n",
       "longitude                   0\n",
       "room_type                   0\n",
       "accommodates                0\n",
       "bathrooms               31239\n",
       "bedrooms                 7405\n",
       "beds                    31360\n",
       "price                   31231\n",
       "minimum_nights              0\n",
       "maximum_nights              0\n",
       "has_availability         4869\n",
       "number_of_reviews           0\n",
       "review_scores_rating    27142\n",
       "dtype: int64"
      ]
     },
     "execution_count": 8,
     "metadata": {},
     "output_type": "execute_result"
    }
   ],
   "source": [
    "airbnb_clean.isnull().sum()"
   ]
  },
  {
   "cell_type": "code",
   "execution_count": 9,
   "metadata": {},
   "outputs": [],
   "source": [
    "airbnb_clean.dropna(inplace=True)"
   ]
  },
  {
   "cell_type": "code",
   "execution_count": 10,
   "metadata": {},
   "outputs": [
    {
     "data": {
      "text/plain": [
       "0"
      ]
     },
     "execution_count": 10,
     "metadata": {},
     "output_type": "execute_result"
    }
   ],
   "source": [
    "airbnb_clean.duplicated().sum()"
   ]
  },
  {
   "cell_type": "code",
   "execution_count": 11,
   "metadata": {},
   "outputs": [],
   "source": [
    "airbnb_clean['price'] = airbnb_clean['price'].str.replace('$', '', regex=False)\n",
    "airbnb_clean['price'] = airbnb_clean['price'].str.replace(',', '', regex=False)\n",
    "airbnb_clean['price'] = pd.to_numeric(airbnb_clean['price'])\n",
    "airbnb_clean['host_acceptance_rate'] = airbnb_clean['host_acceptance_rate'].str.replace('%', '', regex=False)\n",
    "airbnb_clean['host_acceptance_rate'] = pd.to_numeric(airbnb_clean['host_acceptance_rate'])"
   ]
  },
  {
   "cell_type": "code",
   "execution_count": 12,
   "metadata": {},
   "outputs": [],
   "source": [
    "# Filtering the DF to get the best airbnbs\n",
    "\n",
    "airbnb_clean = airbnb_clean[airbnb_clean[\"review_scores_rating\"] >= 5]\n",
    "airbnb_clean = airbnb_clean[airbnb_clean[\"host_acceptance_rate\"] >= 99]"
   ]
  },
  {
   "cell_type": "code",
   "execution_count": 13,
   "metadata": {},
   "outputs": [
    {
     "data": {
      "text/plain": [
       "(4715, 19)"
      ]
     },
     "execution_count": 13,
     "metadata": {},
     "output_type": "execute_result"
    }
   ],
   "source": [
    "airbnb_clean.shape"
   ]
  },
  {
   "cell_type": "code",
   "execution_count": 14,
   "metadata": {},
   "outputs": [
    {
     "data": {
      "text/plain": [
       "Text(0.5, 1.0, 'Airbnbs in Paris')"
      ]
     },
     "execution_count": 14,
     "metadata": {},
     "output_type": "execute_result"
    },
    {
     "data": {
      "image/png": "[encoded data removed]",
      "text/plain": [
       "<Figure size 1000x600 with 1 Axes>"
      ]
     },
     "metadata": {},
     "output_type": "display_data"
    }
   ],
   "source": [
    "# Checking the airbnbs distribution across Paris\n",
    "plt.figure(figsize=(10,6))\n",
    "sns.scatterplot(data=airbnb_clean, x=\"longitude\", y= \"latitude\", c=\"skyblue\")\n",
    "plt.title(\"Airbnbs in Paris\")"
   ]
  },
  {
   "cell_type": "code",
   "execution_count": 15,
   "metadata": {},
   "outputs": [
    {
     "data": {
      "image/png": "[encoded data removed]",
      "text/plain": [
       "<Figure size 640x480 with 1 Axes>"
      ]
     },
     "metadata": {},
     "output_type": "display_data"
    }
   ],
   "source": [
    "sns.histplot(airbnb_clean[\"neighbourhood\"])\n",
    "plt.xticks(rotation=90)\n",
    "plt.title(\"Amount of accomodations by neighbourhood\")\n",
    "plt.show()"
   ]
  },
  {
   "cell_type": "code",
   "execution_count": 16,
   "metadata": {},
   "outputs": [
    {
     "name": "stderr",
     "output_type": "stream",
     "text": [
      "C:\\Users\\crist\\AppData\\Local\\Temp\\ipykernel_37532\\3351226178.py:1: FutureWarning: \n",
      "\n",
      "Passing `palette` without assigning `hue` is deprecated and will be removed in v0.14.0. Assign the `x` variable to `hue` and set `legend=False` for the same effect.\n",
      "\n",
      "  sns.countplot(data=airbnb_clean, x=\"accommodates\", palette=\"Set2\")\n"
     ]
    },
    {
     "data": {
      "image/png": "[encoded data removed]",
      "text/plain": [
       "<Figure size 640x480 with 1 Axes>"
      ]
     },
     "metadata": {},
     "output_type": "display_data"
    }
   ],
   "source": [
    "sns.countplot(data=airbnb_clean, x=\"accommodates\", palette=\"Set2\")\n",
    "plt.title(\"Amount of people that can be hosted\")\n",
    "plt.show()"
   ]
  },
  {
   "cell_type": "code",
   "execution_count": 17,
   "metadata": {},
   "outputs": [
    {
     "name": "stderr",
     "output_type": "stream",
     "text": [
      "C:\\Users\\crist\\AppData\\Local\\Temp\\ipykernel_37532\\4279579100.py:12: FutureWarning: \n",
      "\n",
      "Passing `palette` without assigning `hue` is deprecated and will be removed in v0.14.0. Assign the `x` variable to `hue` and set `legend=False` for the same effect.\n",
      "\n",
      "  sns.countplot(data=airbnb_clean, x=\"price_range\", palette=\"Set2\")\n"
     ]
    },
    {
     "data": {
      "text/plain": [
       "<Axes: xlabel='price_range', ylabel='count'>"
      ]
     },
     "execution_count": 17,
     "metadata": {},
     "output_type": "execute_result"
    },
    {
     "data": {
      "image/png": "[encoded data removed]",
      "text/plain": [
       "<Figure size 640x480 with 1 Axes>"
      ]
     },
     "metadata": {},
     "output_type": "display_data"
    }
   ],
   "source": [
    "def price_range(row):\n",
    "    if row < 100:\n",
    "        return \"Low-cost\"\n",
    "    elif row < 250:\n",
    "        return \"Fair\"\n",
    "    elif row < 500:\n",
    "        return \"Premium\"\n",
    "    else:\n",
    "        return \"Luxury\"\n",
    "    \n",
    "airbnb_clean[\"price_range\"] = airbnb_clean[\"price\"].apply(price_range)\n",
    "sns.countplot(data=airbnb_clean, x=\"price_range\", palette=\"Set2\")"
   ]
  },
  {
   "cell_type": "code",
   "execution_count": 18,
   "metadata": {},
   "outputs": [
    {
     "data": {
      "text/plain": [
       "neighbourhood\n",
       "Luxembourg             500.781250\n",
       "Palais-Bourbon         476.853333\n",
       "Élysée                 410.752525\n",
       "Passy                  400.046243\n",
       "Panthéon               331.987097\n",
       "Hôtel-de-Ville         324.250000\n",
       "Batignolles-Monceau    319.044025\n",
       "Opéra                  312.075697\n",
       "Temple                 297.661538\n",
       "Vaugirard              288.472289\n",
       "Bourse                 284.251429\n",
       "Entrepôt               280.304795\n",
       "Louvre                 262.140351\n",
       "Observatoire           210.736842\n",
       "Popincourt             200.106329\n",
       "Reuilly                199.636872\n",
       "Buttes-Montmartre      182.815490\n",
       "Ménilmontant           169.954128\n",
       "Gobelins               169.748503\n",
       "Buttes-Chaumont        166.379747\n",
       "Name: price, dtype: float64"
      ]
     },
     "execution_count": 18,
     "metadata": {},
     "output_type": "execute_result"
    }
   ],
   "source": [
    "# Most expensive neighbourhoods\n",
    "\n",
    "avg_price_neighborhood = airbnb_clean.groupby(\"neighbourhood\")[\"price\"].mean()\n",
    "avg_price_neighborhood.sort_values(ascending=False)"
   ]
  },
  {
   "cell_type": "code",
   "execution_count": 19,
   "metadata": {},
   "outputs": [
    {
     "data": {
      "image/png": "[encoded data removed]",
      "text/plain": [
       "<Figure size 1000x600 with 1 Axes>"
      ]
     },
     "metadata": {},
     "output_type": "display_data"
    }
   ],
   "source": [
    "avg_price = airbnb_clean[\"price\"].mean()\n",
    "plt.figure(figsize=(10,6))\n",
    "sns.barplot(data=airbnb_clean, x=\"neighbourhood\", y=\"price\",  errorbar=None,color=\"skyblue\")\n",
    "plt.title(\"Average price per neighbourhood\")\n",
    "plt.axhline(avg_price, color=\"blueviolet\", linestyle=\"--\", label=f\"Avg price: {avg_price:.2f}\")\n",
    "plt.xticks(rotation=90)\n",
    "plt.xlabel(\"Neighbourhood\")\n",
    "plt.ylabel(\"Price per night\")\n",
    "plt.show()"
   ]
  },
  {
   "cell_type": "code",
   "execution_count": 20,
   "metadata": {},
   "outputs": [
    {
     "data": {
      "text/plain": [
       "array(['Passy', 'Élysée', 'Buttes-Chaumont', 'Popincourt', 'Panthéon',\n",
       "       'Buttes-Montmartre', 'Bourse', 'Opéra', 'Palais-Bourbon',\n",
       "       'Batignolles-Monceau', 'Gobelins', 'Entrepôt', 'Hôtel-de-Ville',\n",
       "       'Observatoire', 'Ménilmontant', 'Vaugirard', 'Temple', 'Reuilly',\n",
       "       'Luxembourg', 'Louvre'], dtype=object)"
      ]
     },
     "execution_count": 20,
     "metadata": {},
     "output_type": "execute_result"
    }
   ],
   "source": [
    "airbnb_clean[\"neighbourhood\"].unique()"
   ]
  },
  {
   "cell_type": "code",
   "execution_count": 21,
   "metadata": {},
   "outputs": [],
   "source": [
    "# Creation of a new column to determine the arrondissement\n",
    "def det_neighbourhood(row):\n",
    "    if row == 'Observatoire' or row == 75114 or row == 75014:\n",
    "        return \"Paris 14ème\"\n",
    "    elif row == 'Élysée' or row == 75108 or row == 75008:\n",
    "        return 'Paris 8ème'\n",
    "    elif row == 'Passy' or row == 75116 or row == 75016:\n",
    "        return 'Paris 16ème'\n",
    "    elif row == 'Palais-Bourbon' or row == 75107 or row == 75007:\n",
    "        return 'Paris 7ème'\n",
    "    elif row == 'Luxembourg' or row == 75106 or row == 75006:\n",
    "        return 'Paris 6ème'\n",
    "    elif row == 'Buttes-Chaumont' or row == 75119 or row == 75019:\n",
    "        return 'Paris 19ème'\n",
    "    elif row == 'Popincourt' or row == 75111 or row == 75011:\n",
    "        return 'Paris 11ème'\n",
    "    elif row == 'Entrepôt' or row == 75110 or row == 75010:\n",
    "        return 'Paris 10ème'\n",
    "    elif row == 'Ménilmontant' or row == 75120 or row == 75020:\n",
    "        return 'Paris 20ème'\n",
    "    elif row == 'Panthéon' or row == 75105 or row == 75005:\n",
    "        return 'Paris 5ème'\n",
    "    elif row == 'Buttes-Montmartre' or row == 75118 or row == 75018:\n",
    "        return 'Paris 18ème'\n",
    "    elif row == 'Hôtel-de-Ville' or row == 75104 or row == 75004:\n",
    "        return 'Paris 4ème'\n",
    "    elif row == 'Bourse' or row == 75102 or row == 75002:\n",
    "        return 'Paris 2ème'\n",
    "    elif row == 'Batignolles-Monceau' or row == 75117 or row == 75017:\n",
    "        return 'Paris 17ème'\n",
    "    elif row == 'Vaugirard' or row == 75115 or row == 75015:\n",
    "        return 'Paris 15ème'\n",
    "    elif row == 'Reuilly'or row == 75112 or row == 75012:\n",
    "        return 'Paris 12ème'\n",
    "    elif row == 'Opéra'or row == 75109 or row == 75009:\n",
    "        return 'Paris 9ème'\n",
    "    elif row == 'Temple' or row == 75103 or row == 75003:\n",
    "        return 'Paris 3ème'\n",
    "    elif row ==  'Louvre' or row == 75101 or row == 75001:\n",
    "        return 'Paris 1er'\n",
    "    else: \n",
    "        return \"Paris 13ème\"\n",
    "    \n",
    "\n",
    "airbnb_clean[\"Commune nom\"] = airbnb_clean[\"neighbourhood\"].apply(det_neighbourhood)"
   ]
  },
  {
   "cell_type": "code",
   "execution_count": 22,
   "metadata": {},
   "outputs": [],
   "source": [
    "# Second DF: Paris metro stations"
   ]
  },
  {
   "cell_type": "code",
   "execution_count": 23,
   "metadata": {},
   "outputs": [
    {
     "data": {
      "text/plain": [
       "ID Line               0\n",
       "Libelle Line          0\n",
       "Libelle station       0\n",
       "Longitude             0\n",
       "Latitude              0\n",
       "finish                0\n",
       "Commune nom           0\n",
       "Commune code Insee    0\n",
       "dtype: int64"
      ]
     },
     "execution_count": 23,
     "metadata": {},
     "output_type": "execute_result"
    }
   ],
   "source": [
    "metro = pd.read_csv(\"metro-france.csv\", delimiter=';') \n",
    "metro= metro[(metro[\"Commune code Insee\"] >= 75000) & (metro[\"Commune code Insee\"] < 76000)]\n",
    "metro.isnull().sum()"
   ]
  },
  {
   "cell_type": "code",
   "execution_count": 24,
   "metadata": {},
   "outputs": [
    {
     "data": {
      "text/plain": [
       "1"
      ]
     },
     "execution_count": 24,
     "metadata": {},
     "output_type": "execute_result"
    }
   ],
   "source": [
    "metro.duplicated().sum()"
   ]
  },
  {
   "cell_type": "code",
   "execution_count": 25,
   "metadata": {},
   "outputs": [],
   "source": [
    "metro.drop_duplicates(inplace=True)"
   ]
  },
  {
   "cell_type": "code",
   "execution_count": 26,
   "metadata": {},
   "outputs": [
    {
     "data": {
      "text/plain": [
       "array(['Paris 17ème', 'Paris 8ème', 'Paris 1er', 'Paris 4ème',\n",
       "       'Paris 12ème', 'Paris 16ème', 'Paris 18ème', 'Paris 9ème',\n",
       "       'Paris 10ème', 'Paris 19ème', 'Paris 11ème', 'Paris 20ème',\n",
       "       'Paris 2ème', 'Paris 3ème', 'Paris 6ème', 'Paris 15ème',\n",
       "       'Paris 14ème', 'Paris 5ème', 'Paris 13ème', 'Paris 7ème'],\n",
       "      dtype=object)"
      ]
     },
     "execution_count": 26,
     "metadata": {},
     "output_type": "execute_result"
    }
   ],
   "source": [
    "metro[\"Commune nom\"].unique()"
   ]
  },
  {
   "cell_type": "code",
   "execution_count": 27,
   "metadata": {},
   "outputs": [
    {
     "data": {
      "text/plain": [
       "Text(0.5, 1.0, 'Stations in Paris')"
      ]
     },
     "execution_count": 27,
     "metadata": {},
     "output_type": "execute_result"
    },
    {
     "data": {
      "image/png": "[encoded data removed]",
      "text/plain": [
       "<Figure size 1000x600 with 1 Axes>"
      ]
     },
     "metadata": {},
     "output_type": "display_data"
    }
   ],
   "source": [
    "plt.figure(figsize=(10,6))\n",
    "sns.scatterplot(data=metro, x=\"Longitude\", y= \"Latitude\", c=\"red\")\n",
    "plt.title(\"Stations in Paris\")"
   ]
  },
  {
   "cell_type": "code",
   "execution_count": 28,
   "metadata": {},
   "outputs": [],
   "source": [
    "metro.to_excel(\"metro.xlsx\")"
   ]
  },
  {
   "cell_type": "code",
   "execution_count": 29,
   "metadata": {},
   "outputs": [],
   "source": [
    "# Third DF: monuments of Paris"
   ]
  },
  {
   "cell_type": "code",
   "execution_count": 30,
   "metadata": {},
   "outputs": [],
   "source": [
    "monuments = pd.read_csv(\"principaux-sites-touristiques-en-ile-de-france0.csv\", delimiter=\";\")"
   ]
  },
  {
   "cell_type": "code",
   "execution_count": 31,
   "metadata": {},
   "outputs": [],
   "source": [
    "monuments.isnull().sum()\n",
    "monuments.dropna(inplace=True)"
   ]
  },
  {
   "cell_type": "code",
   "execution_count": 32,
   "metadata": {},
   "outputs": [
    {
     "data": {
      "text/plain": [
       "0"
      ]
     },
     "execution_count": 32,
     "metadata": {},
     "output_type": "execute_result"
    }
   ],
   "source": [
    "monuments.duplicated().sum()"
   ]
  },
  {
   "cell_type": "code",
   "execution_count": 33,
   "metadata": {},
   "outputs": [],
   "source": [
    "monuments[\"Geo Point\"] = monuments[\"Geo Point\"].str.split(\",\")\n",
    "monuments[\"latitude\"] = monuments[\"Geo Point\"].apply(lambda x: x[0])\n",
    "monuments[\"longitude\"] = monuments[\"Geo Point\"].apply(lambda x:x[1])"
   ]
  },
  {
   "cell_type": "code",
   "execution_count": 34,
   "metadata": {},
   "outputs": [
    {
     "data": {
      "text/plain": [
       "Index(['Geo Point', 'Geo Shape', 'dep', 'adresse', 'nomcom', 'insee',\n",
       "       'nom_carto', 'typo_niv3', 'objectid', 'latitude', 'longitude'],\n",
       "      dtype='object')"
      ]
     },
     "execution_count": 34,
     "metadata": {},
     "output_type": "execute_result"
    }
   ],
   "source": [
    "monuments.columns"
   ]
  },
  {
   "cell_type": "code",
   "execution_count": 35,
   "metadata": {},
   "outputs": [],
   "source": [
    "monuments = monuments.drop(columns=[\"Geo Point\", \"Geo Shape\", \"objectid\"])"
   ]
  },
  {
   "cell_type": "code",
   "execution_count": 36,
   "metadata": {},
   "outputs": [
    {
     "data": {
      "text/plain": [
       "array([93, 75, 78, 95, 94, 77, 92, 91, 60], dtype=int64)"
      ]
     },
     "execution_count": 36,
     "metadata": {},
     "output_type": "execute_result"
    }
   ],
   "source": [
    "monuments[\"dep\"].unique()"
   ]
  },
  {
   "cell_type": "code",
   "execution_count": 37,
   "metadata": {},
   "outputs": [],
   "source": [
    "monuments_paris =  monuments[monuments[\"dep\"] == 75]"
   ]
  },
  {
   "cell_type": "code",
   "execution_count": 38,
   "metadata": {},
   "outputs": [
    {
     "name": "stderr",
     "output_type": "stream",
     "text": [
      "C:\\Users\\crist\\AppData\\Local\\Temp\\ipykernel_37532\\2015388929.py:1: SettingWithCopyWarning: \n",
      "A value is trying to be set on a copy of a slice from a DataFrame\n",
      "\n",
      "See the caveats in the documentation: https://pandas.pydata.org/pandas-docs/stable/user_guide/indexing.html#returning-a-view-versus-a-copy\n",
      "  monuments_paris.rename(columns={\"nom_carto\": \"name\", \"typo_niv3\":\"category\"}, inplace=True)\n"
     ]
    }
   ],
   "source": [
    "monuments_paris.rename(columns={\"nom_carto\": \"name\", \"typo_niv3\":\"category\"}, inplace=True)"
   ]
  },
  {
   "cell_type": "code",
   "execution_count": 39,
   "metadata": {},
   "outputs": [
    {
     "name": "stderr",
     "output_type": "stream",
     "text": [
      "C:\\Users\\crist\\AppData\\Local\\Temp\\ipykernel_37532\\3050293469.py:1: SettingWithCopyWarning: \n",
      "A value is trying to be set on a copy of a slice from a DataFrame.\n",
      "Try using .loc[row_indexer,col_indexer] = value instead\n",
      "\n",
      "See the caveats in the documentation: https://pandas.pydata.org/pandas-docs/stable/user_guide/indexing.html#returning-a-view-versus-a-copy\n",
      "  monuments_paris[\"latitude\"] = monuments_paris[\"latitude\"].astype(float)\n",
      "C:\\Users\\crist\\AppData\\Local\\Temp\\ipykernel_37532\\3050293469.py:2: SettingWithCopyWarning: \n",
      "A value is trying to be set on a copy of a slice from a DataFrame.\n",
      "Try using .loc[row_indexer,col_indexer] = value instead\n",
      "\n",
      "See the caveats in the documentation: https://pandas.pydata.org/pandas-docs/stable/user_guide/indexing.html#returning-a-view-versus-a-copy\n",
      "  monuments_paris[\"longitude\"] = monuments_paris[\"longitude\"].astype(float)\n",
      "C:\\Users\\crist\\AppData\\Local\\Temp\\ipykernel_37532\\3050293469.py:3: SettingWithCopyWarning: \n",
      "A value is trying to be set on a copy of a slice from a DataFrame.\n",
      "Try using .loc[row_indexer,col_indexer] = value instead\n",
      "\n",
      "See the caveats in the documentation: https://pandas.pydata.org/pandas-docs/stable/user_guide/indexing.html#returning-a-view-versus-a-copy\n",
      "  monuments_paris[\"latitude\"] = monuments_paris[\"latitude\"].round(4)\n",
      "C:\\Users\\crist\\AppData\\Local\\Temp\\ipykernel_37532\\3050293469.py:4: SettingWithCopyWarning: \n",
      "A value is trying to be set on a copy of a slice from a DataFrame.\n",
      "Try using .loc[row_indexer,col_indexer] = value instead\n",
      "\n",
      "See the caveats in the documentation: https://pandas.pydata.org/pandas-docs/stable/user_guide/indexing.html#returning-a-view-versus-a-copy\n",
      "  monuments_paris[\"longitude\"] = monuments_paris[\"longitude\"].round(4)\n"
     ]
    }
   ],
   "source": [
    "monuments_paris[\"latitude\"] = monuments_paris[\"latitude\"].astype(float)\n",
    "monuments_paris[\"longitude\"] = monuments_paris[\"longitude\"].astype(float)\n",
    "monuments_paris[\"latitude\"] = monuments_paris[\"latitude\"].round(4)\n",
    "monuments_paris[\"longitude\"] = monuments_paris[\"longitude\"].round(4)"
   ]
  },
  {
   "cell_type": "code",
   "execution_count": 40,
   "metadata": {},
   "outputs": [
    {
     "name": "stderr",
     "output_type": "stream",
     "text": [
      "C:\\Users\\crist\\AppData\\Local\\Temp\\ipykernel_37532\\1297313215.py:1: SettingWithCopyWarning: \n",
      "A value is trying to be set on a copy of a slice from a DataFrame.\n",
      "Try using .loc[row_indexer,col_indexer] = value instead\n",
      "\n",
      "See the caveats in the documentation: https://pandas.pydata.org/pandas-docs/stable/user_guide/indexing.html#returning-a-view-versus-a-copy\n",
      "  monuments_paris[\"Commune nom\"] = monuments_paris[\"insee\"].apply(det_neighbourhood)\n"
     ]
    }
   ],
   "source": [
    "monuments_paris[\"Commune nom\"] = monuments_paris[\"insee\"].apply(det_neighbourhood)"
   ]
  },
  {
   "cell_type": "code",
   "execution_count": 41,
   "metadata": {},
   "outputs": [],
   "source": [
    "must_see = ['Tour Eiffel', 'Musée du Louvre', 'Arc de triomphe', \"Escale des Champs-Elysées\", \"Place Vendôme\" \"Eglise de la Madeleine\", \"Basilique du sacré-coeur de Montmartre\", \"Panthéon\", \"Sainte-Chapelle\", \"Opéra national de Paris - palais Garnier\",\"Musée d'Orsay\", \"Conciergerie\", \"Hôtel national des Invalides\", \"Centre Pompidou\", \"Place de la Concorde\", \"Musée du Luxembourg\", \"Escale Montebello Notre Dame\"]\n",
    "must_see_monuments = monuments_paris[monuments_paris['name'].isin(must_see)]\n",
    "must_see_monuments.loc[must_see_monuments['name'] == 'Opéra national de Paris - palais Garnier', 'insee'] = 75109\n",
    "must_see_monuments.loc[must_see_monuments['name'] == 'Opéra national de Paris - palais Garnier', 'nomcom'] = \"Paris\""
   ]
  },
  {
   "cell_type": "code",
   "execution_count": 42,
   "metadata": {},
   "outputs": [
    {
     "data": {
      "text/html": [
       "<div>\n",
       "<style scoped>\n",
       "    .dataframe tbody tr th:only-of-type {\n",
       "        vertical-align: middle;\n",
       "    }\n",
       "\n",
       "    .dataframe tbody tr th {\n",
       "        vertical-align: top;\n",
       "    }\n",
       "\n",
       "    .dataframe thead th {\n",
       "        text-align: right;\n",
       "    }\n",
       "</style>\n",
       "<table border=\"1\" class=\"dataframe\">\n",
       "  <thead>\n",
       "    <tr style=\"text-align: right;\">\n",
       "      <th></th>\n",
       "      <th>dep</th>\n",
       "      <th>adresse</th>\n",
       "      <th>nomcom</th>\n",
       "      <th>insee</th>\n",
       "      <th>name</th>\n",
       "      <th>category</th>\n",
       "      <th>latitude</th>\n",
       "      <th>longitude</th>\n",
       "      <th>Commune nom</th>\n",
       "    </tr>\n",
       "  </thead>\n",
       "  <tbody>\n",
       "    <tr>\n",
       "      <th>0</th>\n",
       "      <td>75</td>\n",
       "      <td>ENTRÉE PRINCIPALE PAR LA PYRAMIDE - (OU PAR LA...</td>\n",
       "      <td>Paris</td>\n",
       "      <td>75101</td>\n",
       "      <td>Musée du Louvre</td>\n",
       "      <td>Musée et écomusée</td>\n",
       "      <td>48.86100</td>\n",
       "      <td>2.33580</td>\n",
       "      <td>Paris 1er</td>\n",
       "    </tr>\n",
       "    <tr>\n",
       "      <th>1</th>\n",
       "      <td>75</td>\n",
       "      <td>6 BOULEVARD DU PALAIS</td>\n",
       "      <td>Paris</td>\n",
       "      <td>75101</td>\n",
       "      <td>Sainte-Chapelle</td>\n",
       "      <td>Site et monument</td>\n",
       "      <td>48.85540</td>\n",
       "      <td>2.34510</td>\n",
       "      <td>Paris 1er</td>\n",
       "    </tr>\n",
       "    <tr>\n",
       "      <th>2</th>\n",
       "      <td>75</td>\n",
       "      <td>2 BOULEVARD DU PALAIS - PALAIS DE LA CITÉ</td>\n",
       "      <td>Paris</td>\n",
       "      <td>75101</td>\n",
       "      <td>Conciergerie</td>\n",
       "      <td>Site et monument</td>\n",
       "      <td>48.85590</td>\n",
       "      <td>2.34600</td>\n",
       "      <td>Paris 1er</td>\n",
       "    </tr>\n",
       "    <tr>\n",
       "      <th>3</th>\n",
       "      <td>75</td>\n",
       "      <td>1 RUE DE LA LÉGION D'HONNEUR - ENTRÉE PAR LE P...</td>\n",
       "      <td>Paris</td>\n",
       "      <td>75107</td>\n",
       "      <td>Musée d'Orsay</td>\n",
       "      <td>Musée et écomusée</td>\n",
       "      <td>48.85990</td>\n",
       "      <td>2.32650</td>\n",
       "      <td>Paris 7ème</td>\n",
       "    </tr>\n",
       "    <tr>\n",
       "      <th>4</th>\n",
       "      <td>75</td>\n",
       "      <td>NOTRE DAME</td>\n",
       "      <td>Paris</td>\n",
       "      <td>75105</td>\n",
       "      <td>Escale Montebello Notre Dame</td>\n",
       "      <td>Haltes, escales ou ports fluviaux de plaisance</td>\n",
       "      <td>48.85180</td>\n",
       "      <td>2.35030</td>\n",
       "      <td>Paris 5ème</td>\n",
       "    </tr>\n",
       "    <tr>\n",
       "      <th>5</th>\n",
       "      <td>75</td>\n",
       "      <td>19 RUE DE VAUGIRARD - JARDIN DU LUXEMBOURG</td>\n",
       "      <td>Paris</td>\n",
       "      <td>75106</td>\n",
       "      <td>Musée du Luxembourg</td>\n",
       "      <td>Musée et écomusée</td>\n",
       "      <td>48.84860</td>\n",
       "      <td>2.33400</td>\n",
       "      <td>Paris 6ème</td>\n",
       "    </tr>\n",
       "    <tr>\n",
       "      <th>6</th>\n",
       "      <td>75</td>\n",
       "      <td>PLACE CHARLES DE GAULLE</td>\n",
       "      <td>Paris</td>\n",
       "      <td>75108</td>\n",
       "      <td>Arc de triomphe</td>\n",
       "      <td>Site et monument</td>\n",
       "      <td>48.87370</td>\n",
       "      <td>2.29550</td>\n",
       "      <td>Paris 8ème</td>\n",
       "    </tr>\n",
       "    <tr>\n",
       "      <th>7</th>\n",
       "      <td>75</td>\n",
       "      <td>129 RUE DE GRENELLE - ESPLANADE DES INVALIDES</td>\n",
       "      <td>Paris</td>\n",
       "      <td>75107</td>\n",
       "      <td>Hôtel national des Invalides</td>\n",
       "      <td>Site et monument</td>\n",
       "      <td>48.85770</td>\n",
       "      <td>2.31290</td>\n",
       "      <td>Paris 7ème</td>\n",
       "    </tr>\n",
       "    <tr>\n",
       "      <th>8</th>\n",
       "      <td>75</td>\n",
       "      <td>8 rue Scribe</td>\n",
       "      <td>Paris</td>\n",
       "      <td>75109</td>\n",
       "      <td>Opéra national de Paris - palais Garnier</td>\n",
       "      <td>Diffusion du spectacle vivant</td>\n",
       "      <td>48.87160</td>\n",
       "      <td>2.33050</td>\n",
       "      <td>Paris 13ème</td>\n",
       "    </tr>\n",
       "    <tr>\n",
       "      <th>9</th>\n",
       "      <td>75</td>\n",
       "      <td>CHAMP DE MARS</td>\n",
       "      <td>Paris</td>\n",
       "      <td>75107</td>\n",
       "      <td>Tour Eiffel</td>\n",
       "      <td>Site et monument</td>\n",
       "      <td>48.85790</td>\n",
       "      <td>2.29510</td>\n",
       "      <td>Paris 7ème</td>\n",
       "    </tr>\n",
       "    <tr>\n",
       "      <th>10</th>\n",
       "      <td>75</td>\n",
       "      <td>PORT DES CHAMPS ELYSÉES</td>\n",
       "      <td>Paris</td>\n",
       "      <td>75108</td>\n",
       "      <td>Escale des Champs-Elysées</td>\n",
       "      <td>Haltes, escales ou ports fluviaux de plaisance</td>\n",
       "      <td>48.86430</td>\n",
       "      <td>2.31530</td>\n",
       "      <td>Paris 8ème</td>\n",
       "    </tr>\n",
       "    <tr>\n",
       "      <th>11</th>\n",
       "      <td>75</td>\n",
       "      <td>PLACE GEORGES POMPIDOU</td>\n",
       "      <td>Paris</td>\n",
       "      <td>75104</td>\n",
       "      <td>Centre Pompidou</td>\n",
       "      <td>Site et monument</td>\n",
       "      <td>48.86050</td>\n",
       "      <td>2.35240</td>\n",
       "      <td>Paris 4ème</td>\n",
       "    </tr>\n",
       "    <tr>\n",
       "      <th>12</th>\n",
       "      <td>75</td>\n",
       "      <td>PLACE DU PANTHÉON</td>\n",
       "      <td>Paris</td>\n",
       "      <td>75105</td>\n",
       "      <td>Panthéon</td>\n",
       "      <td>Site et monument</td>\n",
       "      <td>48.84630</td>\n",
       "      <td>2.34560</td>\n",
       "      <td>Paris 5ème</td>\n",
       "    </tr>\n",
       "    <tr>\n",
       "      <th>13</th>\n",
       "      <td>75</td>\n",
       "      <td>PLACE DE LA CONCORDE</td>\n",
       "      <td>Paris</td>\n",
       "      <td>75108</td>\n",
       "      <td>Place de la Concorde</td>\n",
       "      <td>Site et monument</td>\n",
       "      <td>48.86550</td>\n",
       "      <td>2.32120</td>\n",
       "      <td>Paris 8ème</td>\n",
       "    </tr>\n",
       "    <tr>\n",
       "      <th>14</th>\n",
       "      <td>75</td>\n",
       "      <td>35 RUE DU CHEVALIER-DE-LA-BARRE - PARVIS DU SA...</td>\n",
       "      <td>Paris</td>\n",
       "      <td>75118</td>\n",
       "      <td>Basilique du sacré-coeur de Montmartre</td>\n",
       "      <td>Site et monument</td>\n",
       "      <td>48.88720</td>\n",
       "      <td>2.34340</td>\n",
       "      <td>Paris 18ème</td>\n",
       "    </tr>\n",
       "    <tr>\n",
       "      <th>15</th>\n",
       "      <td>75</td>\n",
       "      <td>14 Place Vendôme</td>\n",
       "      <td>Paris</td>\n",
       "      <td>75101</td>\n",
       "      <td>Place Vendôme</td>\n",
       "      <td>Site et monument</td>\n",
       "      <td>48.86757</td>\n",
       "      <td>2.32951</td>\n",
       "      <td>Paris 1er</td>\n",
       "    </tr>\n",
       "  </tbody>\n",
       "</table>\n",
       "</div>"
      ],
      "text/plain": [
       "   dep                                            adresse nomcom  insee  \\\n",
       "0   75  ENTRÉE PRINCIPALE PAR LA PYRAMIDE - (OU PAR LA...  Paris  75101   \n",
       "1   75                              6 BOULEVARD DU PALAIS  Paris  75101   \n",
       "2   75          2 BOULEVARD DU PALAIS - PALAIS DE LA CITÉ  Paris  75101   \n",
       "3   75  1 RUE DE LA LÉGION D'HONNEUR - ENTRÉE PAR LE P...  Paris  75107   \n",
       "4   75                                         NOTRE DAME  Paris  75105   \n",
       "5   75         19 RUE DE VAUGIRARD - JARDIN DU LUXEMBOURG  Paris  75106   \n",
       "6   75                            PLACE CHARLES DE GAULLE  Paris  75108   \n",
       "7   75      129 RUE DE GRENELLE - ESPLANADE DES INVALIDES  Paris  75107   \n",
       "8   75                                       8 rue Scribe  Paris  75109   \n",
       "9   75                                      CHAMP DE MARS  Paris  75107   \n",
       "10  75                            PORT DES CHAMPS ELYSÉES  Paris  75108   \n",
       "11  75                             PLACE GEORGES POMPIDOU  Paris  75104   \n",
       "12  75                                  PLACE DU PANTHÉON  Paris  75105   \n",
       "13  75                               PLACE DE LA CONCORDE  Paris  75108   \n",
       "14  75  35 RUE DU CHEVALIER-DE-LA-BARRE - PARVIS DU SA...  Paris  75118   \n",
       "15  75                                   14 Place Vendôme  Paris  75101   \n",
       "\n",
       "                                        name  \\\n",
       "0                            Musée du Louvre   \n",
       "1                            Sainte-Chapelle   \n",
       "2                               Conciergerie   \n",
       "3                              Musée d'Orsay   \n",
       "4               Escale Montebello Notre Dame   \n",
       "5                        Musée du Luxembourg   \n",
       "6                            Arc de triomphe   \n",
       "7               Hôtel national des Invalides   \n",
       "8   Opéra national de Paris - palais Garnier   \n",
       "9                                Tour Eiffel   \n",
       "10                 Escale des Champs-Elysées   \n",
       "11                           Centre Pompidou   \n",
       "12                                  Panthéon   \n",
       "13                      Place de la Concorde   \n",
       "14    Basilique du sacré-coeur de Montmartre   \n",
       "15                             Place Vendôme   \n",
       "\n",
       "                                          category  latitude  longitude  \\\n",
       "0                                Musée et écomusée  48.86100    2.33580   \n",
       "1                                 Site et monument  48.85540    2.34510   \n",
       "2                                 Site et monument  48.85590    2.34600   \n",
       "3                                Musée et écomusée  48.85990    2.32650   \n",
       "4   Haltes, escales ou ports fluviaux de plaisance  48.85180    2.35030   \n",
       "5                                Musée et écomusée  48.84860    2.33400   \n",
       "6                                 Site et monument  48.87370    2.29550   \n",
       "7                                 Site et monument  48.85770    2.31290   \n",
       "8                    Diffusion du spectacle vivant  48.87160    2.33050   \n",
       "9                                 Site et monument  48.85790    2.29510   \n",
       "10  Haltes, escales ou ports fluviaux de plaisance  48.86430    2.31530   \n",
       "11                                Site et monument  48.86050    2.35240   \n",
       "12                                Site et monument  48.84630    2.34560   \n",
       "13                                Site et monument  48.86550    2.32120   \n",
       "14                                Site et monument  48.88720    2.34340   \n",
       "15                                Site et monument  48.86757    2.32951   \n",
       "\n",
       "    Commune nom  \n",
       "0     Paris 1er  \n",
       "1     Paris 1er  \n",
       "2     Paris 1er  \n",
       "3    Paris 7ème  \n",
       "4    Paris 5ème  \n",
       "5    Paris 6ème  \n",
       "6    Paris 8ème  \n",
       "7    Paris 7ème  \n",
       "8   Paris 13ème  \n",
       "9    Paris 7ème  \n",
       "10   Paris 8ème  \n",
       "11   Paris 4ème  \n",
       "12   Paris 5ème  \n",
       "13   Paris 8ème  \n",
       "14  Paris 18ème  \n",
       "15    Paris 1er  "
      ]
     },
     "execution_count": 42,
     "metadata": {},
     "output_type": "execute_result"
    }
   ],
   "source": [
    "new_row = {\"dep\":\"75\", \"adresse\":\"14 Place Vendôme\", \"nomcom\":\"Paris\", \"insee\": 75101, \"name\":\"Place Vendôme\", \"category\":\"Site et monument\", \"latitude\": 48.86757, \"longitude\":2.32951, \"Commune nom\": \"Paris 1er\"}\n",
    "new_row = pd.DataFrame.from_records([new_row])\n",
    "must_see_monuments = pd.concat([must_see_monuments, new_row], ignore_index=True)\n",
    "must_see_monuments"
   ]
  },
  {
   "cell_type": "code",
   "execution_count": 43,
   "metadata": {},
   "outputs": [],
   "source": [
    "must_see_monuments[\"name\"] = must_see_monuments[\"name\"].replace(\"Escale Montebello Notre Dame\", \"Cathédrale Notre-Dame de Paris\")\n",
    "must_see_monuments[\"latitude\"] = must_see_monuments[\"latitude\"].replace(48.8518, 48.8529)\n",
    "must_see_monuments[\"longitude\"] = must_see_monuments[\"longitude\"].replace(2.3503, 2.3499)\n",
    "must_see_monuments[\"name\"] = must_see_monuments[\"name\"].replace(\"Escale des Champs-Elysées\", \"Avenue des Champs-Élysées\")\n",
    "must_see_monuments[\"latitude\"] = must_see_monuments[\"latitude\"].replace(48.8643, 48.8705)\n",
    "must_see_monuments[\"longitude\"] = must_see_monuments[\"longitude\"].replace(2.3153, 2.3048)"
   ]
  },
  {
   "cell_type": "code",
   "execution_count": 44,
   "metadata": {},
   "outputs": [],
   "source": [
    "must_see_monuments.to_excel(\"monuments.xlsx\")"
   ]
  },
  {
   "cell_type": "code",
   "execution_count": 45,
   "metadata": {},
   "outputs": [],
   "source": [
    "# Merging DF1 and DF3 to get the distance between airbnbs and monuments \n",
    "airbnbs_monuments = pd.merge(airbnb_clean, must_see_monuments, on='Commune nom', suffixes=('_airbnb', '_monument'))"
   ]
  },
  {
   "cell_type": "code",
   "execution_count": 46,
   "metadata": {},
   "outputs": [],
   "source": [
    "airbnbs_monuments[\"latitude_monument\"] = airbnbs_monuments[\"latitude_monument\"].astype(\"float\")\n",
    "airbnbs_monuments[\"longitude_monument\"] = airbnbs_monuments[\"longitude_monument\"].astype(\"float\")\n"
   ]
  },
  {
   "cell_type": "code",
   "execution_count": 47,
   "metadata": {},
   "outputs": [
    {
     "data": {
      "text/html": [
       "<div>\n",
       "<style scoped>\n",
       "    .dataframe tbody tr th:only-of-type {\n",
       "        vertical-align: middle;\n",
       "    }\n",
       "\n",
       "    .dataframe tbody tr th {\n",
       "        vertical-align: top;\n",
       "    }\n",
       "\n",
       "    .dataframe thead th {\n",
       "        text-align: right;\n",
       "    }\n",
       "</style>\n",
       "<table border=\"1\" class=\"dataframe\">\n",
       "  <thead>\n",
       "    <tr style=\"text-align: right;\">\n",
       "      <th></th>\n",
       "      <th>id</th>\n",
       "      <th>listing_url</th>\n",
       "      <th>host_id</th>\n",
       "      <th>host_acceptance_rate</th>\n",
       "      <th>host_is_superhost</th>\n",
       "      <th>neighbourhood</th>\n",
       "      <th>latitude_airbnb</th>\n",
       "      <th>longitude_airbnb</th>\n",
       "      <th>room_type</th>\n",
       "      <th>accommodates</th>\n",
       "      <th>...</th>\n",
       "      <th>dep</th>\n",
       "      <th>adresse</th>\n",
       "      <th>nomcom</th>\n",
       "      <th>insee</th>\n",
       "      <th>name</th>\n",
       "      <th>category</th>\n",
       "      <th>latitude_monument</th>\n",
       "      <th>longitude_monument</th>\n",
       "      <th>monument_dist</th>\n",
       "      <th>near_monument</th>\n",
       "    </tr>\n",
       "  </thead>\n",
       "  <tbody>\n",
       "    <tr>\n",
       "      <th>0</th>\n",
       "      <td>55239</td>\n",
       "      <td>https://www.airbnb.com/rooms/55239</td>\n",
       "      <td>260696</td>\n",
       "      <td>100</td>\n",
       "      <td>f</td>\n",
       "      <td>Élysée</td>\n",
       "      <td>48.87260</td>\n",
       "      <td>2.31477</td>\n",
       "      <td>Entire home/apt</td>\n",
       "      <td>4</td>\n",
       "      <td>...</td>\n",
       "      <td>75</td>\n",
       "      <td>PLACE CHARLES DE GAULLE</td>\n",
       "      <td>Paris</td>\n",
       "      <td>75108</td>\n",
       "      <td>Arc de triomphe</td>\n",
       "      <td>Site et monument</td>\n",
       "      <td>48.8737</td>\n",
       "      <td>2.2955</td>\n",
       "      <td>1.414630</td>\n",
       "      <td>False</td>\n",
       "    </tr>\n",
       "    <tr>\n",
       "      <th>1</th>\n",
       "      <td>55239</td>\n",
       "      <td>https://www.airbnb.com/rooms/55239</td>\n",
       "      <td>260696</td>\n",
       "      <td>100</td>\n",
       "      <td>f</td>\n",
       "      <td>Élysée</td>\n",
       "      <td>48.87260</td>\n",
       "      <td>2.31477</td>\n",
       "      <td>Entire home/apt</td>\n",
       "      <td>4</td>\n",
       "      <td>...</td>\n",
       "      <td>75</td>\n",
       "      <td>PORT DES CHAMPS ELYSÉES</td>\n",
       "      <td>Paris</td>\n",
       "      <td>75108</td>\n",
       "      <td>Avenue des Champs-Élysées</td>\n",
       "      <td>Haltes, escales ou ports fluviaux de plaisance</td>\n",
       "      <td>48.8705</td>\n",
       "      <td>2.3048</td>\n",
       "      <td>0.765666</td>\n",
       "      <td>False</td>\n",
       "    </tr>\n",
       "    <tr>\n",
       "      <th>2</th>\n",
       "      <td>55239</td>\n",
       "      <td>https://www.airbnb.com/rooms/55239</td>\n",
       "      <td>260696</td>\n",
       "      <td>100</td>\n",
       "      <td>f</td>\n",
       "      <td>Élysée</td>\n",
       "      <td>48.87260</td>\n",
       "      <td>2.31477</td>\n",
       "      <td>Entire home/apt</td>\n",
       "      <td>4</td>\n",
       "      <td>...</td>\n",
       "      <td>75</td>\n",
       "      <td>PLACE DE LA CONCORDE</td>\n",
       "      <td>Paris</td>\n",
       "      <td>75108</td>\n",
       "      <td>Place de la Concorde</td>\n",
       "      <td>Site et monument</td>\n",
       "      <td>48.8655</td>\n",
       "      <td>2.3212</td>\n",
       "      <td>0.918951</td>\n",
       "      <td>False</td>\n",
       "    </tr>\n",
       "    <tr>\n",
       "      <th>3</th>\n",
       "      <td>513387</td>\n",
       "      <td>https://www.airbnb.com/rooms/513387</td>\n",
       "      <td>2528877</td>\n",
       "      <td>100</td>\n",
       "      <td>f</td>\n",
       "      <td>Panthéon</td>\n",
       "      <td>48.85176</td>\n",
       "      <td>2.34944</td>\n",
       "      <td>Entire home/apt</td>\n",
       "      <td>6</td>\n",
       "      <td>...</td>\n",
       "      <td>75</td>\n",
       "      <td>NOTRE DAME</td>\n",
       "      <td>Paris</td>\n",
       "      <td>75105</td>\n",
       "      <td>Cathédrale Notre-Dame de Paris</td>\n",
       "      <td>Haltes, escales ou ports fluviaux de plaisance</td>\n",
       "      <td>48.8529</td>\n",
       "      <td>2.3499</td>\n",
       "      <td>0.131154</td>\n",
       "      <td>True</td>\n",
       "    </tr>\n",
       "    <tr>\n",
       "      <th>4</th>\n",
       "      <td>513387</td>\n",
       "      <td>https://www.airbnb.com/rooms/513387</td>\n",
       "      <td>2528877</td>\n",
       "      <td>100</td>\n",
       "      <td>f</td>\n",
       "      <td>Panthéon</td>\n",
       "      <td>48.85176</td>\n",
       "      <td>2.34944</td>\n",
       "      <td>Entire home/apt</td>\n",
       "      <td>6</td>\n",
       "      <td>...</td>\n",
       "      <td>75</td>\n",
       "      <td>PLACE DU PANTHÉON</td>\n",
       "      <td>Paris</td>\n",
       "      <td>75105</td>\n",
       "      <td>Panthéon</td>\n",
       "      <td>Site et monument</td>\n",
       "      <td>48.8463</td>\n",
       "      <td>2.3456</td>\n",
       "      <td>0.668991</td>\n",
       "      <td>False</td>\n",
       "    </tr>\n",
       "  </tbody>\n",
       "</table>\n",
       "<p>5 rows × 31 columns</p>\n",
       "</div>"
      ],
      "text/plain": [
       "       id                          listing_url  host_id  host_acceptance_rate  \\\n",
       "0   55239   https://www.airbnb.com/rooms/55239   260696                   100   \n",
       "1   55239   https://www.airbnb.com/rooms/55239   260696                   100   \n",
       "2   55239   https://www.airbnb.com/rooms/55239   260696                   100   \n",
       "3  513387  https://www.airbnb.com/rooms/513387  2528877                   100   \n",
       "4  513387  https://www.airbnb.com/rooms/513387  2528877                   100   \n",
       "\n",
       "  host_is_superhost neighbourhood  latitude_airbnb  longitude_airbnb  \\\n",
       "0                 f        Élysée         48.87260           2.31477   \n",
       "1                 f        Élysée         48.87260           2.31477   \n",
       "2                 f        Élysée         48.87260           2.31477   \n",
       "3                 f      Panthéon         48.85176           2.34944   \n",
       "4                 f      Panthéon         48.85176           2.34944   \n",
       "\n",
       "         room_type  accommodates  ...  dep                  adresse  nomcom  \\\n",
       "0  Entire home/apt             4  ...   75  PLACE CHARLES DE GAULLE   Paris   \n",
       "1  Entire home/apt             4  ...   75  PORT DES CHAMPS ELYSÉES   Paris   \n",
       "2  Entire home/apt             4  ...   75     PLACE DE LA CONCORDE   Paris   \n",
       "3  Entire home/apt             6  ...   75               NOTRE DAME   Paris   \n",
       "4  Entire home/apt             6  ...   75        PLACE DU PANTHÉON   Paris   \n",
       "\n",
       "   insee                            name  \\\n",
       "0  75108                 Arc de triomphe   \n",
       "1  75108       Avenue des Champs-Élysées   \n",
       "2  75108            Place de la Concorde   \n",
       "3  75105  Cathédrale Notre-Dame de Paris   \n",
       "4  75105                        Panthéon   \n",
       "\n",
       "                                         category latitude_monument  \\\n",
       "0                                Site et monument           48.8737   \n",
       "1  Haltes, escales ou ports fluviaux de plaisance           48.8705   \n",
       "2                                Site et monument           48.8655   \n",
       "3  Haltes, escales ou ports fluviaux de plaisance           48.8529   \n",
       "4                                Site et monument           48.8463   \n",
       "\n",
       "   longitude_monument  monument_dist near_monument  \n",
       "0              2.2955       1.414630         False  \n",
       "1              2.3048       0.765666         False  \n",
       "2              2.3212       0.918951         False  \n",
       "3              2.3499       0.131154          True  \n",
       "4              2.3456       0.668991         False  \n",
       "\n",
       "[5 rows x 31 columns]"
      ]
     },
     "execution_count": 47,
     "metadata": {},
     "output_type": "execute_result"
    }
   ],
   "source": [
    "def haversine(lon1, lat1, lon2, lat2):\n",
    "   \n",
    "    lon1, lat1, lon2, lat2 = map(np.radians, [lon1, lat1, lon2, lat2])\n",
    "    \n",
    "    dlon = lon2 - lon1\n",
    "    dlat = lat2 - lat1\n",
    "    a = np.sin(dlat / 2.0)**2 + np.cos(lat1) * np.cos(lat2) * np.sin(dlon / 2.0)**2\n",
    "    c = 2 * np.arcsin(np.sqrt(a))\n",
    "    r = 6371  \n",
    "    return c * r\n",
    "\n",
    "\n",
    "airbnbs_monuments['monument_dist'] = haversine(\n",
    "    airbnbs_monuments['longitude_airbnb'], \n",
    "    airbnbs_monuments['latitude_airbnb'], \n",
    "    airbnbs_monuments[\"longitude_monument\"], \n",
    "    airbnbs_monuments[\"latitude_monument\"])\n",
    "\n",
    "airbnbs_monuments['near_monument'] = airbnbs_monuments['monument_dist'] < 0.50\n",
    "\n",
    "airbnbs_monuments.head()\n"
   ]
  },
  {
   "cell_type": "code",
   "execution_count": 48,
   "metadata": {},
   "outputs": [
    {
     "data": {
      "text/plain": [
       "near_monument\n",
       "False    2151\n",
       "True      565\n",
       "Name: count, dtype: int64"
      ]
     },
     "execution_count": 48,
     "metadata": {},
     "output_type": "execute_result"
    }
   ],
   "source": [
    "airbnbs_monuments[\"near_monument\"].value_counts()"
   ]
  },
  {
   "cell_type": "code",
   "execution_count": 49,
   "metadata": {},
   "outputs": [
    {
     "data": {
      "image/png": "[encoded data removed]",
      "text/plain": [
       "<Figure size 640x480 with 1 Axes>"
      ]
     },
     "metadata": {},
     "output_type": "display_data"
    }
   ],
   "source": [
    "sns.boxplot(x=\"near_monument\", y=\"price\", data=airbnbs_monuments)\n",
    "plt.title(\"Comparison of Airbnb Prices Near vs. Not Near Monuments\")\n",
    "plt.show()"
   ]
  },
  {
   "cell_type": "code",
   "execution_count": 50,
   "metadata": {},
   "outputs": [],
   "source": [
    "Q1 = airbnbs_monuments['price'].quantile(0.25)  \n",
    "Q3 = airbnbs_monuments['price'].quantile(0.75)  \n",
    "IQR = Q3 - Q1  \n",
    "\n",
    "lower_bound = Q1 - 1.5 * IQR\n",
    "upper_bound = Q3 + 1.5 * IQR\n",
    "\n",
    "airbnbs_monuments_no_outliers = airbnbs_monuments[(airbnbs_monuments['price'] >= lower_bound) & (airbnbs_monuments['price'] <= upper_bound)]"
   ]
  },
  {
   "cell_type": "code",
   "execution_count": 51,
   "metadata": {},
   "outputs": [
    {
     "name": "stdout",
     "output_type": "stream",
     "text": [
      "Reject H0: Airbnbs near monuments are significantly more expensive\n",
      "0.02682289600571864\n"
     ]
    }
   ],
   "source": [
    "#H0: Price of airbnbs near a monument <= price of airbnbs not near a monument\n",
    "#H1: Price of airbnbs near a monument > price of airbnbs not near a monument\n",
    "\n",
    "# Alpha: 0.05\n",
    "\n",
    "airbnbs_monuments_near = airbnbs_monuments_no_outliers[airbnbs_monuments_no_outliers[\"near_monument\"] ==True][\"price\"]\n",
    "airbnbs_monuments_not_near = airbnbs_monuments_no_outliers[airbnbs_monuments_no_outliers[\"near_monument\"] ==False][\"price\"]\n",
    "\n",
    "stat, p = st.ttest_ind(airbnbs_monuments_near, airbnbs_monuments_not_near, alternative=\"greater\", equal_var=False)\n",
    "\n",
    "if p < 0.05:\n",
    "    print(\"Reject H0: Airbnbs near monuments are significantly more expensive\")\n",
    "else:\n",
    "    print(\"Fail to reject H0: No significant difference in price\")\n",
    "print(p)"
   ]
  },
  {
   "cell_type": "code",
   "execution_count": 52,
   "metadata": {},
   "outputs": [],
   "source": [
    "# Merging airbnbs and metro to get the distance between airbnb and metro stations and it's impact on the price\n",
    "\n",
    "airbnbs_metro = pd.merge(airbnb_clean, metro, on='Commune nom', suffixes=('_airbnb', '_metro'))\n",
    "\n",
    "airbnbs_metro['metro_dist'] = haversine(\n",
    "    airbnbs_metro['longitude'], \n",
    "    airbnbs_metro['latitude'], \n",
    "    airbnbs_metro[\"Longitude\"], \n",
    "    airbnbs_metro[\"Latitude\"])\n",
    "\n",
    "airbnbs_metro['near_metro'] = airbnbs_metro['metro_dist'] < 0.1\n"
   ]
  },
  {
   "cell_type": "code",
   "execution_count": 53,
   "metadata": {},
   "outputs": [
    {
     "name": "stdout",
     "output_type": "stream",
     "text": [
      "Fail to reject H0: Insufficient evidence to claim Airbnbs near a metro station are more expensive.\n",
      "0.2612568185123898\n"
     ]
    }
   ],
   "source": [
    "#H0: Price of airbnbs near a metro station <= price of airbnbs not near a metro station\n",
    "#H1: Price of airbnbs near a mentro station > price of airbnbs not near a metro station\n",
    "\n",
    "# Alpha: 0.05\n",
    "\n",
    "airbnbs_metro_near = airbnbs_metro[airbnbs_metro[\"near_metro\"] ==True][\"price\"]\n",
    "airbnbs_metro_not_near = airbnbs_metro[airbnbs_metro[\"near_metro\"] ==False][\"price\"]\n",
    "\n",
    "stat, p = st.ttest_ind(airbnbs_metro_near, airbnbs_metro_not_near, alternative=\"greater\", equal_var=False)\n",
    "\n",
    "if p < 0.05:\n",
    "    print(\"Reject H0: Airbnbs near a metro station are more expensive\")\n",
    "else:\n",
    "    print(\"Fail to reject H0: Insufficient evidence to claim Airbnbs near a metro station are more expensive.\")\n",
    "\n",
    "print(p)"
   ]
  },
  {
   "cell_type": "code",
   "execution_count": 54,
   "metadata": {},
   "outputs": [],
   "source": [
    "##### Weather DF to check the best season to go to Paris"
   ]
  },
  {
   "cell_type": "code",
   "execution_count": 55,
   "metadata": {},
   "outputs": [],
   "source": [
    "url = \"https://archive-api.open-meteo.com/v1/archive\"\n",
    "params = {\n",
    "\t\"latitude\": 48.8534,\n",
    "\t\"longitude\": 2.3488,\n",
    "\t\"start_date\": \"2024-01-01\",\n",
    "\t\"end_date\": \"2024-12-31\",\n",
    "    \"temperature_unit\": \"celsius\",\n",
    "    \"precipitation_unit\": \"mm\",\n",
    "    \"daily\": \"temperature_2m_max,temperature_2m_min,precipitation_sum,precipitation_hours,sunshine_duration\",\n",
    "    \"timezone\": \"Europe/Paris\"}\n",
    "\n",
    "response = requests.get(url, params=params)\n",
    "data = response.json()"
   ]
  },
  {
   "cell_type": "code",
   "execution_count": 56,
   "metadata": {},
   "outputs": [
    {
     "data": {
      "text/html": [
       "<div>\n",
       "<style scoped>\n",
       "    .dataframe tbody tr th:only-of-type {\n",
       "        vertical-align: middle;\n",
       "    }\n",
       "\n",
       "    .dataframe tbody tr th {\n",
       "        vertical-align: top;\n",
       "    }\n",
       "\n",
       "    .dataframe thead th {\n",
       "        text-align: right;\n",
       "    }\n",
       "</style>\n",
       "<table border=\"1\" class=\"dataframe\">\n",
       "  <thead>\n",
       "    <tr style=\"text-align: right;\">\n",
       "      <th></th>\n",
       "      <th>time</th>\n",
       "      <th>temperature_2m_max</th>\n",
       "      <th>temperature_2m_min</th>\n",
       "      <th>precipitation_sum</th>\n",
       "      <th>precipitation_hours</th>\n",
       "      <th>sunshine_duration</th>\n",
       "    </tr>\n",
       "  </thead>\n",
       "  <tbody>\n",
       "    <tr>\n",
       "      <th>0</th>\n",
       "      <td>2024-01-01</td>\n",
       "      <td>9.9</td>\n",
       "      <td>5.9</td>\n",
       "      <td>2.9</td>\n",
       "      <td>4.0</td>\n",
       "      <td>18562.91</td>\n",
       "    </tr>\n",
       "    <tr>\n",
       "      <th>1</th>\n",
       "      <td>2024-01-02</td>\n",
       "      <td>11.9</td>\n",
       "      <td>9.9</td>\n",
       "      <td>13.2</td>\n",
       "      <td>19.0</td>\n",
       "      <td>0.00</td>\n",
       "    </tr>\n",
       "    <tr>\n",
       "      <th>2</th>\n",
       "      <td>2024-01-03</td>\n",
       "      <td>12.0</td>\n",
       "      <td>8.6</td>\n",
       "      <td>2.1</td>\n",
       "      <td>4.0</td>\n",
       "      <td>16952.73</td>\n",
       "    </tr>\n",
       "    <tr>\n",
       "      <th>3</th>\n",
       "      <td>2024-01-04</td>\n",
       "      <td>10.6</td>\n",
       "      <td>6.7</td>\n",
       "      <td>1.3</td>\n",
       "      <td>3.0</td>\n",
       "      <td>13042.03</td>\n",
       "    </tr>\n",
       "    <tr>\n",
       "      <th>4</th>\n",
       "      <td>2024-01-05</td>\n",
       "      <td>9.3</td>\n",
       "      <td>3.9</td>\n",
       "      <td>0.0</td>\n",
       "      <td>0.0</td>\n",
       "      <td>25653.64</td>\n",
       "    </tr>\n",
       "    <tr>\n",
       "      <th>...</th>\n",
       "      <td>...</td>\n",
       "      <td>...</td>\n",
       "      <td>...</td>\n",
       "      <td>...</td>\n",
       "      <td>...</td>\n",
       "      <td>...</td>\n",
       "    </tr>\n",
       "    <tr>\n",
       "      <th>361</th>\n",
       "      <td>2024-12-27</td>\n",
       "      <td>5.6</td>\n",
       "      <td>-1.2</td>\n",
       "      <td>0.0</td>\n",
       "      <td>0.0</td>\n",
       "      <td>25099.32</td>\n",
       "    </tr>\n",
       "    <tr>\n",
       "      <th>362</th>\n",
       "      <td>2024-12-28</td>\n",
       "      <td>2.0</td>\n",
       "      <td>-0.8</td>\n",
       "      <td>0.0</td>\n",
       "      <td>0.0</td>\n",
       "      <td>0.00</td>\n",
       "    </tr>\n",
       "    <tr>\n",
       "      <th>363</th>\n",
       "      <td>2024-12-29</td>\n",
       "      <td>4.5</td>\n",
       "      <td>1.4</td>\n",
       "      <td>0.0</td>\n",
       "      <td>0.0</td>\n",
       "      <td>0.00</td>\n",
       "    </tr>\n",
       "    <tr>\n",
       "      <th>364</th>\n",
       "      <td>2024-12-30</td>\n",
       "      <td>4.1</td>\n",
       "      <td>2.6</td>\n",
       "      <td>0.1</td>\n",
       "      <td>1.0</td>\n",
       "      <td>0.00</td>\n",
       "    </tr>\n",
       "    <tr>\n",
       "      <th>365</th>\n",
       "      <td>2024-12-31</td>\n",
       "      <td>5.6</td>\n",
       "      <td>1.9</td>\n",
       "      <td>0.0</td>\n",
       "      <td>0.0</td>\n",
       "      <td>3600.00</td>\n",
       "    </tr>\n",
       "  </tbody>\n",
       "</table>\n",
       "<p>366 rows × 6 columns</p>\n",
       "</div>"
      ],
      "text/plain": [
       "           time  temperature_2m_max  temperature_2m_min  precipitation_sum  \\\n",
       "0    2024-01-01                 9.9                 5.9                2.9   \n",
       "1    2024-01-02                11.9                 9.9               13.2   \n",
       "2    2024-01-03                12.0                 8.6                2.1   \n",
       "3    2024-01-04                10.6                 6.7                1.3   \n",
       "4    2024-01-05                 9.3                 3.9                0.0   \n",
       "..          ...                 ...                 ...                ...   \n",
       "361  2024-12-27                 5.6                -1.2                0.0   \n",
       "362  2024-12-28                 2.0                -0.8                0.0   \n",
       "363  2024-12-29                 4.5                 1.4                0.0   \n",
       "364  2024-12-30                 4.1                 2.6                0.1   \n",
       "365  2024-12-31                 5.6                 1.9                0.0   \n",
       "\n",
       "     precipitation_hours  sunshine_duration  \n",
       "0                    4.0           18562.91  \n",
       "1                   19.0               0.00  \n",
       "2                    4.0           16952.73  \n",
       "3                    3.0           13042.03  \n",
       "4                    0.0           25653.64  \n",
       "..                   ...                ...  \n",
       "361                  0.0           25099.32  \n",
       "362                  0.0               0.00  \n",
       "363                  0.0               0.00  \n",
       "364                  1.0               0.00  \n",
       "365                  0.0            3600.00  \n",
       "\n",
       "[366 rows x 6 columns]"
      ]
     },
     "execution_count": 56,
     "metadata": {},
     "output_type": "execute_result"
    }
   ],
   "source": [
    "daily_data = data.get(\"daily\", {})\n",
    "weather = pd.DataFrame(daily_data)\n",
    "weather"
   ]
  },
  {
   "cell_type": "code",
   "execution_count": 57,
   "metadata": {},
   "outputs": [
    {
     "name": "stdout",
     "output_type": "stream",
     "text": [
      "<class 'pandas.core.frame.DataFrame'>\n",
      "RangeIndex: 366 entries, 0 to 365\n",
      "Data columns (total 6 columns):\n",
      " #   Column               Non-Null Count  Dtype  \n",
      "---  ------               --------------  -----  \n",
      " 0   time                 366 non-null    object \n",
      " 1   temperature_2m_max   366 non-null    float64\n",
      " 2   temperature_2m_min   366 non-null    float64\n",
      " 3   precipitation_sum    366 non-null    float64\n",
      " 4   precipitation_hours  366 non-null    float64\n",
      " 5   sunshine_duration    366 non-null    float64\n",
      "dtypes: float64(5), object(1)\n",
      "memory usage: 17.3+ KB\n"
     ]
    }
   ],
   "source": [
    "weather.info()"
   ]
  },
  {
   "cell_type": "code",
   "execution_count": 58,
   "metadata": {},
   "outputs": [],
   "source": [
    "weather[\"time\"] = pd.to_datetime(weather[\"time\"])"
   ]
  },
  {
   "cell_type": "code",
   "execution_count": 59,
   "metadata": {},
   "outputs": [
    {
     "data": {
      "text/plain": [
       "25309.305"
      ]
     },
     "execution_count": 59,
     "metadata": {},
     "output_type": "execute_result"
    }
   ],
   "source": [
    "weather[\"sunshine_duration\"].median()"
   ]
  },
  {
   "cell_type": "code",
   "execution_count": 60,
   "metadata": {},
   "outputs": [],
   "source": [
    "weather[\"hours_sun\"] = pd.cut(weather[\"sunshine_duration\"], bins=[0, 14000, 26000, weather[\"sunshine_duration\"].max()], labels=[\"low (0-4h)\", \"moderate (0-7h)\", \"high (+7h)\"], include_lowest=True)"
   ]
  },
  {
   "cell_type": "code",
   "execution_count": 61,
   "metadata": {},
   "outputs": [
    {
     "data": {
      "text/plain": [
       "hours_sun\n",
       "high (+7h)         176\n",
       "low (0-4h)         117\n",
       "moderate (0-7h)     73\n",
       "Name: count, dtype: int64"
      ]
     },
     "execution_count": 61,
     "metadata": {},
     "output_type": "execute_result"
    }
   ],
   "source": [
    "weather[\"hours_sun\"].value_counts()"
   ]
  },
  {
   "cell_type": "code",
   "execution_count": 62,
   "metadata": {},
   "outputs": [
    {
     "data": {
      "text/plain": [
       "<Axes: ylabel='count'>"
      ]
     },
     "execution_count": 62,
     "metadata": {},
     "output_type": "execute_result"
    },
    {
     "data": {
      "image/png": "[encoded data removed]",
      "text/plain": [
       "<Figure size 640x480 with 1 Axes>"
      ]
     },
     "metadata": {},
     "output_type": "display_data"
    }
   ],
   "source": [
    "weather[\"hours_sun\"].value_counts().plot.pie()"
   ]
  },
  {
   "cell_type": "code",
   "execution_count": 63,
   "metadata": {},
   "outputs": [],
   "source": [
    "def get_season(date):\n",
    "    month = date.month\n",
    "    day = date.day\n",
    "\n",
    "    if (month == 12 and day >= 21) or month in [1, 2] or (month == 3 and day <= 20):\n",
    "        return \"Winter\"\n",
    "    elif (month == 3 and day >= 21) or month in [4, 5] or (month == 6 and day <= 20):\n",
    "        return \"Spring\"\n",
    "    elif (month == 6 and day >= 21) or month in [7, 8] or (month == 9 and day <= 22):\n",
    "        return \"Summer\"\n",
    "    else:\n",
    "        return \"Autumn\"\n",
    "\n",
    "weather[\"year_season\"] = weather[\"time\"].apply(get_season)"
   ]
  },
  {
   "cell_type": "code",
   "execution_count": 64,
   "metadata": {},
   "outputs": [
    {
     "data": {
      "text/plain": [
       "year_season\n",
       "Summer    94\n",
       "Spring    92\n",
       "Winter    91\n",
       "Autumn    89\n",
       "Name: count, dtype: int64"
      ]
     },
     "execution_count": 64,
     "metadata": {},
     "output_type": "execute_result"
    }
   ],
   "source": [
    "weather[\"year_season\"].value_counts()"
   ]
  },
  {
   "cell_type": "code",
   "execution_count": 65,
   "metadata": {},
   "outputs": [
    {
     "data": {
      "text/html": [
       "<div>\n",
       "<style scoped>\n",
       "    .dataframe tbody tr th:only-of-type {\n",
       "        vertical-align: middle;\n",
       "    }\n",
       "\n",
       "    .dataframe tbody tr th {\n",
       "        vertical-align: top;\n",
       "    }\n",
       "\n",
       "    .dataframe thead th {\n",
       "        text-align: right;\n",
       "    }\n",
       "</style>\n",
       "<table border=\"1\" class=\"dataframe\">\n",
       "  <thead>\n",
       "    <tr style=\"text-align: right;\">\n",
       "      <th></th>\n",
       "      <th>year_season</th>\n",
       "      <th>hours_sun</th>\n",
       "      <th>count</th>\n",
       "    </tr>\n",
       "  </thead>\n",
       "  <tbody>\n",
       "    <tr>\n",
       "      <th>0</th>\n",
       "      <td>Autumn</td>\n",
       "      <td>low (0-4h)</td>\n",
       "      <td>48</td>\n",
       "    </tr>\n",
       "    <tr>\n",
       "      <th>1</th>\n",
       "      <td>Autumn</td>\n",
       "      <td>moderate (0-7h)</td>\n",
       "      <td>26</td>\n",
       "    </tr>\n",
       "    <tr>\n",
       "      <th>2</th>\n",
       "      <td>Autumn</td>\n",
       "      <td>high (+7h)</td>\n",
       "      <td>15</td>\n",
       "    </tr>\n",
       "    <tr>\n",
       "      <th>3</th>\n",
       "      <td>Spring</td>\n",
       "      <td>high (+7h)</td>\n",
       "      <td>70</td>\n",
       "    </tr>\n",
       "    <tr>\n",
       "      <th>4</th>\n",
       "      <td>Spring</td>\n",
       "      <td>low (0-4h)</td>\n",
       "      <td>14</td>\n",
       "    </tr>\n",
       "    <tr>\n",
       "      <th>5</th>\n",
       "      <td>Spring</td>\n",
       "      <td>moderate (0-7h)</td>\n",
       "      <td>8</td>\n",
       "    </tr>\n",
       "    <tr>\n",
       "      <th>6</th>\n",
       "      <td>Summer</td>\n",
       "      <td>high (+7h)</td>\n",
       "      <td>74</td>\n",
       "    </tr>\n",
       "    <tr>\n",
       "      <th>7</th>\n",
       "      <td>Summer</td>\n",
       "      <td>moderate (0-7h)</td>\n",
       "      <td>12</td>\n",
       "    </tr>\n",
       "    <tr>\n",
       "      <th>8</th>\n",
       "      <td>Summer</td>\n",
       "      <td>low (0-4h)</td>\n",
       "      <td>8</td>\n",
       "    </tr>\n",
       "    <tr>\n",
       "      <th>9</th>\n",
       "      <td>Winter</td>\n",
       "      <td>low (0-4h)</td>\n",
       "      <td>47</td>\n",
       "    </tr>\n",
       "    <tr>\n",
       "      <th>10</th>\n",
       "      <td>Winter</td>\n",
       "      <td>moderate (0-7h)</td>\n",
       "      <td>27</td>\n",
       "    </tr>\n",
       "    <tr>\n",
       "      <th>11</th>\n",
       "      <td>Winter</td>\n",
       "      <td>high (+7h)</td>\n",
       "      <td>17</td>\n",
       "    </tr>\n",
       "  </tbody>\n",
       "</table>\n",
       "</div>"
      ],
      "text/plain": [
       "   year_season        hours_sun  count\n",
       "0       Autumn       low (0-4h)     48\n",
       "1       Autumn  moderate (0-7h)     26\n",
       "2       Autumn       high (+7h)     15\n",
       "3       Spring       high (+7h)     70\n",
       "4       Spring       low (0-4h)     14\n",
       "5       Spring  moderate (0-7h)      8\n",
       "6       Summer       high (+7h)     74\n",
       "7       Summer  moderate (0-7h)     12\n",
       "8       Summer       low (0-4h)      8\n",
       "9       Winter       low (0-4h)     47\n",
       "10      Winter  moderate (0-7h)     27\n",
       "11      Winter       high (+7h)     17"
      ]
     },
     "execution_count": 65,
     "metadata": {},
     "output_type": "execute_result"
    }
   ],
   "source": [
    "sunhours_season = weather.groupby(\"year_season\")[\"hours_sun\"].value_counts().reset_index()\n",
    "sunhours_season"
   ]
  },
  {
   "cell_type": "code",
   "execution_count": 66,
   "metadata": {},
   "outputs": [
    {
     "data": {
      "application/vnd.plotly.v1+json": {
       "config": {
        "plotlyServerURL": "https://plot.ly"
       },
       "data": [
        {
         "alignmentgroup": "True",
         "hovertemplate": "Amount of sun hours=low (0-4h)<br>Season=%{x}<br>Number of Days=%{text}<extra></extra>",
         "legendgroup": "low (0-4h)",
         "marker": {
          "color": "#9CF0A5",
          "pattern": {
           "shape": ""
          }
         },
         "name": "low (0-4h)",
         "offsetgroup": "low (0-4h)",
         "orientation": "v",
         "showlegend": true,
         "text": [
          48,
          14,
          8,
          47
         ],
         "textposition": "inside",
         "type": "bar",
         "x": [
          "Autumn",
          "Spring",
          "Summer",
          "Winter"
         ],
         "xaxis": "x",
         "y": [
          48,
          14,
          8,
          47
         ],
         "yaxis": "y"
        },
        {
         "alignmentgroup": "True",
         "hovertemplate": "Amount of sun hours=moderate (0-7h)<br>Season=%{x}<br>Number of Days=%{text}<extra></extra>",
         "legendgroup": "moderate (0-7h)",
         "marker": {
          "color": "#9d83f7",
          "pattern": {
           "shape": ""
          }
         },
         "name": "moderate (0-7h)",
         "offsetgroup": "moderate (0-7h)",
         "orientation": "v",
         "showlegend": true,
         "text": [
          26,
          8,
          12,
          27
         ],
         "textposition": "inside",
         "type": "bar",
         "x": [
          "Autumn",
          "Spring",
          "Summer",
          "Winter"
         ],
         "xaxis": "x",
         "y": [
          26,
          8,
          12,
          27
         ],
         "yaxis": "y"
        },
        {
         "alignmentgroup": "True",
         "hovertemplate": "Amount of sun hours=high (+7h)<br>Season=%{x}<br>Number of Days=%{text}<extra></extra>",
         "legendgroup": "high (+7h)",
         "marker": {
          "color": "#f0bd57",
          "pattern": {
           "shape": ""
          }
         },
         "name": "high (+7h)",
         "offsetgroup": "high (+7h)",
         "orientation": "v",
         "showlegend": true,
         "text": [
          15,
          70,
          74,
          17
         ],
         "textposition": "inside",
         "type": "bar",
         "x": [
          "Autumn",
          "Spring",
          "Summer",
          "Winter"
         ],
         "xaxis": "x",
         "y": [
          15,
          70,
          74,
          17
         ],
         "yaxis": "y"
        }
       ],
       "layout": {
        "barmode": "group",
        "height": 500,
        "legend": {
         "title": {
          "text": "Amount of sun hours"
         },
         "tracegroupgap": 0
        },
        "plot_bgcolor": "white",
        "template": {
         "data": {
          "bar": [
           {
            "error_x": {
             "color": "#2a3f5f"
            },
            "error_y": {
             "color": "#2a3f5f"
            },
            "marker": {
             "line": {
              "color": "#E5ECF6",
              "width": 0.5
             },
             "pattern": {
              "fillmode": "overlay",
              "size": 10,
              "solidity": 0.2
             }
            },
            "type": "bar"
           }
          ],
          "barpolar": [
           {
            "marker": {
             "line": {
              "color": "#E5ECF6",
              "width": 0.5
             },
             "pattern": {
              "fillmode": "overlay",
              "size": 10,
              "solidity": 0.2
             }
            },
            "type": "barpolar"
           }
          ],
          "carpet": [
           {
            "aaxis": {
             "endlinecolor": "#2a3f5f",
             "gridcolor": "white",
             "linecolor": "white",
             "minorgridcolor": "white",
             "startlinecolor": "#2a3f5f"
            },
            "baxis": {
             "endlinecolor": "#2a3f5f",
             "gridcolor": "white",
             "linecolor": "white",
             "minorgridcolor": "white",
             "startlinecolor": "#2a3f5f"
            },
            "type": "carpet"
           }
          ],
          "choropleth": [
           {
            "colorbar": {
             "outlinewidth": 0,
             "ticks": ""
            },
            "type": "choropleth"
           }
          ],
          "contour": [
           {
            "colorbar": {
             "outlinewidth": 0,
             "ticks": ""
            },
            "colorscale": [
             [
              0,
              "#0d0887"
             ],
             [
              0.1111111111111111,
              "#46039f"
             ],
             [
              0.2222222222222222,
              "#7201a8"
             ],
             [
              0.3333333333333333,
              "#9c179e"
             ],
             [
              0.4444444444444444,
              "#bd3786"
             ],
             [
              0.5555555555555556,
              "#d8576b"
             ],
             [
              0.6666666666666666,
              "#ed7953"
             ],
             [
              0.7777777777777778,
              "#fb9f3a"
             ],
             [
              0.8888888888888888,
              "#fdca26"
             ],
             [
              1,
              "#f0f921"
             ]
            ],
            "type": "contour"
           }
          ],
          "contourcarpet": [
           {
            "colorbar": {
             "outlinewidth": 0,
             "ticks": ""
            },
            "type": "contourcarpet"
           }
          ],
          "heatmap": [
           {
            "colorbar": {
             "outlinewidth": 0,
             "ticks": ""
            },
            "colorscale": [
             [
              0,
              "#0d0887"
             ],
             [
              0.1111111111111111,
              "#46039f"
             ],
             [
              0.2222222222222222,
              "#7201a8"
             ],
             [
              0.3333333333333333,
              "#9c179e"
             ],
             [
              0.4444444444444444,
              "#bd3786"
             ],
             [
              0.5555555555555556,
              "#d8576b"
             ],
             [
              0.6666666666666666,
              "#ed7953"
             ],
             [
              0.7777777777777778,
              "#fb9f3a"
             ],
             [
              0.8888888888888888,
              "#fdca26"
             ],
             [
              1,
              "#f0f921"
             ]
            ],
            "type": "heatmap"
           }
          ],
          "heatmapgl": [
           {
            "colorbar": {
             "outlinewidth": 0,
             "ticks": ""
            },
            "colorscale": [
             [
              0,
              "#0d0887"
             ],
             [
              0.1111111111111111,
              "#46039f"
             ],
             [
              0.2222222222222222,
              "#7201a8"
             ],
             [
              0.3333333333333333,
              "#9c179e"
             ],
             [
              0.4444444444444444,
              "#bd3786"
             ],
             [
              0.5555555555555556,
              "#d8576b"
             ],
             [
              0.6666666666666666,
              "#ed7953"
             ],
             [
              0.7777777777777778,
              "#fb9f3a"
             ],
             [
              0.8888888888888888,
              "#fdca26"
             ],
             [
              1,
              "#f0f921"
             ]
            ],
            "type": "heatmapgl"
           }
          ],
          "histogram": [
           {
            "marker": {
             "pattern": {
              "fillmode": "overlay",
              "size": 10,
              "solidity": 0.2
             }
            },
            "type": "histogram"
           }
          ],
          "histogram2d": [
           {
            "colorbar": {
             "outlinewidth": 0,
             "ticks": ""
            },
            "colorscale": [
             [
              0,
              "#0d0887"
             ],
             [
              0.1111111111111111,
              "#46039f"
             ],
             [
              0.2222222222222222,
              "#7201a8"
             ],
             [
              0.3333333333333333,
              "#9c179e"
             ],
             [
              0.4444444444444444,
              "#bd3786"
             ],
             [
              0.5555555555555556,
              "#d8576b"
             ],
             [
              0.6666666666666666,
              "#ed7953"
             ],
             [
              0.7777777777777778,
              "#fb9f3a"
             ],
             [
              0.8888888888888888,
              "#fdca26"
             ],
             [
              1,
              "#f0f921"
             ]
            ],
            "type": "histogram2d"
           }
          ],
          "histogram2dcontour": [
           {
            "colorbar": {
             "outlinewidth": 0,
             "ticks": ""
            },
            "colorscale": [
             [
              0,
              "#0d0887"
             ],
             [
              0.1111111111111111,
              "#46039f"
             ],
             [
              0.2222222222222222,
              "#7201a8"
             ],
             [
              0.3333333333333333,
              "#9c179e"
             ],
             [
              0.4444444444444444,
              "#bd3786"
             ],
             [
              0.5555555555555556,
              "#d8576b"
             ],
             [
              0.6666666666666666,
              "#ed7953"
             ],
             [
              0.7777777777777778,
              "#fb9f3a"
             ],
             [
              0.8888888888888888,
              "#fdca26"
             ],
             [
              1,
              "#f0f921"
             ]
            ],
            "type": "histogram2dcontour"
           }
          ],
          "mesh3d": [
           {
            "colorbar": {
             "outlinewidth": 0,
             "ticks": ""
            },
            "type": "mesh3d"
           }
          ],
          "parcoords": [
           {
            "line": {
             "colorbar": {
              "outlinewidth": 0,
              "ticks": ""
             }
            },
            "type": "parcoords"
           }
          ],
          "pie": [
           {
            "automargin": true,
            "type": "pie"
           }
          ],
          "scatter": [
           {
            "fillpattern": {
             "fillmode": "overlay",
             "size": 10,
             "solidity": 0.2
            },
            "type": "scatter"
           }
          ],
          "scatter3d": [
           {
            "line": {
             "colorbar": {
              "outlinewidth": 0,
              "ticks": ""
             }
            },
            "marker": {
             "colorbar": {
              "outlinewidth": 0,
              "ticks": ""
             }
            },
            "type": "scatter3d"
           }
          ],
          "scattercarpet": [
           {
            "marker": {
             "colorbar": {
              "outlinewidth": 0,
              "ticks": ""
             }
            },
            "type": "scattercarpet"
           }
          ],
          "scattergeo": [
           {
            "marker": {
             "colorbar": {
              "outlinewidth": 0,
              "ticks": ""
             }
            },
            "type": "scattergeo"
           }
          ],
          "scattergl": [
           {
            "marker": {
             "colorbar": {
              "outlinewidth": 0,
              "ticks": ""
             }
            },
            "type": "scattergl"
           }
          ],
          "scattermapbox": [
           {
            "marker": {
             "colorbar": {
              "outlinewidth": 0,
              "ticks": ""
             }
            },
            "type": "scattermapbox"
           }
          ],
          "scatterpolar": [
           {
            "marker": {
             "colorbar": {
              "outlinewidth": 0,
              "ticks": ""
             }
            },
            "type": "scatterpolar"
           }
          ],
          "scatterpolargl": [
           {
            "marker": {
             "colorbar": {
              "outlinewidth": 0,
              "ticks": ""
             }
            },
            "type": "scatterpolargl"
           }
          ],
          "scatterternary": [
           {
            "marker": {
             "colorbar": {
              "outlinewidth": 0,
              "ticks": ""
             }
            },
            "type": "scatterternary"
           }
          ],
          "surface": [
           {
            "colorbar": {
             "outlinewidth": 0,
             "ticks": ""
            },
            "colorscale": [
             [
              0,
              "#0d0887"
             ],
             [
              0.1111111111111111,
              "#46039f"
             ],
             [
              0.2222222222222222,
              "#7201a8"
             ],
             [
              0.3333333333333333,
              "#9c179e"
             ],
             [
              0.4444444444444444,
              "#bd3786"
             ],
             [
              0.5555555555555556,
              "#d8576b"
             ],
             [
              0.6666666666666666,
              "#ed7953"
             ],
             [
              0.7777777777777778,
              "#fb9f3a"
             ],
             [
              0.8888888888888888,
              "#fdca26"
             ],
             [
              1,
              "#f0f921"
             ]
            ],
            "type": "surface"
           }
          ],
          "table": [
           {
            "cells": {
             "fill": {
              "color": "#EBF0F8"
             },
             "line": {
              "color": "white"
             }
            },
            "header": {
             "fill": {
              "color": "#C8D4E3"
             },
             "line": {
              "color": "white"
             }
            },
            "type": "table"
           }
          ]
         },
         "layout": {
          "annotationdefaults": {
           "arrowcolor": "#2a3f5f",
           "arrowhead": 0,
           "arrowwidth": 1
          },
          "autotypenumbers": "strict",
          "coloraxis": {
           "colorbar": {
            "outlinewidth": 0,
            "ticks": ""
           }
          },
          "colorscale": {
           "diverging": [
            [
             0,
             "#8e0152"
            ],
            [
             0.1,
             "#c51b7d"
            ],
            [
             0.2,
             "#de77ae"
            ],
            [
             0.3,
             "#f1b6da"
            ],
            [
             0.4,
             "#fde0ef"
            ],
            [
             0.5,
             "#f7f7f7"
            ],
            [
             0.6,
             "#e6f5d0"
            ],
            [
             0.7,
             "#b8e186"
            ],
            [
             0.8,
             "#7fbc41"
            ],
            [
             0.9,
             "#4d9221"
            ],
            [
             1,
             "#276419"
            ]
           ],
           "sequential": [
            [
             0,
             "#0d0887"
            ],
            [
             0.1111111111111111,
             "#46039f"
            ],
            [
             0.2222222222222222,
             "#7201a8"
            ],
            [
             0.3333333333333333,
             "#9c179e"
            ],
            [
             0.4444444444444444,
             "#bd3786"
            ],
            [
             0.5555555555555556,
             "#d8576b"
            ],
            [
             0.6666666666666666,
             "#ed7953"
            ],
            [
             0.7777777777777778,
             "#fb9f3a"
            ],
            [
             0.8888888888888888,
             "#fdca26"
            ],
            [
             1,
             "#f0f921"
            ]
           ],
           "sequentialminus": [
            [
             0,
             "#0d0887"
            ],
            [
             0.1111111111111111,
             "#46039f"
            ],
            [
             0.2222222222222222,
             "#7201a8"
            ],
            [
             0.3333333333333333,
             "#9c179e"
            ],
            [
             0.4444444444444444,
             "#bd3786"
            ],
            [
             0.5555555555555556,
             "#d8576b"
            ],
            [
             0.6666666666666666,
             "#ed7953"
            ],
            [
             0.7777777777777778,
             "#fb9f3a"
            ],
            [
             0.8888888888888888,
             "#fdca26"
            ],
            [
             1,
             "#f0f921"
            ]
           ]
          },
          "colorway": [
           "#636efa",
           "#EF553B",
           "#00cc96",
           "#ab63fa",
           "#FFA15A",
           "#19d3f3",
           "#FF6692",
           "#B6E880",
           "#FF97FF",
           "#FECB52"
          ],
          "font": {
           "color": "#2a3f5f"
          },
          "geo": {
           "bgcolor": "white",
           "lakecolor": "white",
           "landcolor": "#E5ECF6",
           "showlakes": true,
           "showland": true,
           "subunitcolor": "white"
          },
          "hoverlabel": {
           "align": "left"
          },
          "hovermode": "closest",
          "mapbox": {
           "style": "light"
          },
          "paper_bgcolor": "white",
          "plot_bgcolor": "#E5ECF6",
          "polar": {
           "angularaxis": {
            "gridcolor": "white",
            "linecolor": "white",
            "ticks": ""
           },
           "bgcolor": "#E5ECF6",
           "radialaxis": {
            "gridcolor": "white",
            "linecolor": "white",
            "ticks": ""
           }
          },
          "scene": {
           "xaxis": {
            "backgroundcolor": "#E5ECF6",
            "gridcolor": "white",
            "gridwidth": 2,
            "linecolor": "white",
            "showbackground": true,
            "ticks": "",
            "zerolinecolor": "white"
           },
           "yaxis": {
            "backgroundcolor": "#E5ECF6",
            "gridcolor": "white",
            "gridwidth": 2,
            "linecolor": "white",
            "showbackground": true,
            "ticks": "",
            "zerolinecolor": "white"
           },
           "zaxis": {
            "backgroundcolor": "#E5ECF6",
            "gridcolor": "white",
            "gridwidth": 2,
            "linecolor": "white",
            "showbackground": true,
            "ticks": "",
            "zerolinecolor": "white"
           }
          },
          "shapedefaults": {
           "line": {
            "color": "#2a3f5f"
           }
          },
          "ternary": {
           "aaxis": {
            "gridcolor": "white",
            "linecolor": "white",
            "ticks": ""
           },
           "baxis": {
            "gridcolor": "white",
            "linecolor": "white",
            "ticks": ""
           },
           "bgcolor": "#E5ECF6",
           "caxis": {
            "gridcolor": "white",
            "linecolor": "white",
            "ticks": ""
           }
          },
          "title": {
           "x": 0.05
          },
          "xaxis": {
           "automargin": true,
           "gridcolor": "white",
           "linecolor": "white",
           "ticks": "",
           "title": {
            "standoff": 15
           },
           "zerolinecolor": "white",
           "zerolinewidth": 2
          },
          "yaxis": {
           "automargin": true,
           "gridcolor": "white",
           "linecolor": "white",
           "ticks": "",
           "title": {
            "standoff": 15
           },
           "zerolinecolor": "white",
           "zerolinewidth": 2
          }
         }
        },
        "title": {
         "text": "Distribution of sunlight hours per season",
         "x": 0.5
        },
        "width": 800,
        "xaxis": {
         "anchor": "y",
         "domain": [
          0,
          1
         ],
         "title": {
          "text": "Season"
         }
        },
        "yaxis": {
         "anchor": "x",
         "domain": [
          0,
          1
         ],
         "gridcolor": "lightgray",
         "showgrid": true,
         "title": {
          "text": "Number of Days"
         }
        }
       }
      }
     },
     "metadata": {},
     "output_type": "display_data"
    }
   ],
   "source": [
    "fig = px.bar(sunhours_season, \n",
    "             x=\"year_season\", \n",
    "             y=\"count\", \n",
    "             color=\"hours_sun\", \n",
    "             barmode=\"group\",\n",
    "             text=\"count\",\n",
    "             color_discrete_map={\"low (0-4h)\": \"#9CF0A5\", \"moderate (0-7h)\": \"#9d83f7\", \"high (+7h)\": \"#f0bd57\"}, \n",
    "             labels={\"year_season\": \"Season\", \"count\": \"Number of Days\", \"hours_sun\": \"Amount of sun hours\"},\n",
    "             title=\"Distribution of sunlight hours per season\",\n",
    "             width=800,\n",
    "             height=500)\n",
    "fig.update_traces(textposition=\"inside\")\n",
    "fig.update_layout(title_x=0.5)\n",
    "fig.update_layout(\n",
    "    plot_bgcolor=\"white\",   yaxis=dict(\n",
    "        showgrid=True, gridcolor=\"lightgray\"),)\n",
    "\n",
    "fig.show()"
   ]
  },
  {
   "cell_type": "code",
   "execution_count": 67,
   "metadata": {},
   "outputs": [
    {
     "data": {
      "text/html": [
       "<div>\n",
       "<style scoped>\n",
       "    .dataframe tbody tr th:only-of-type {\n",
       "        vertical-align: middle;\n",
       "    }\n",
       "\n",
       "    .dataframe tbody tr th {\n",
       "        vertical-align: top;\n",
       "    }\n",
       "\n",
       "    .dataframe thead th {\n",
       "        text-align: right;\n",
       "    }\n",
       "</style>\n",
       "<table border=\"1\" class=\"dataframe\">\n",
       "  <thead>\n",
       "    <tr style=\"text-align: right;\">\n",
       "      <th></th>\n",
       "      <th>year_season</th>\n",
       "      <th>temperature_2m_max</th>\n",
       "      <th>temperature_2m_min</th>\n",
       "    </tr>\n",
       "  </thead>\n",
       "  <tbody>\n",
       "    <tr>\n",
       "      <th>0</th>\n",
       "      <td>Autumn</td>\n",
       "      <td>13.347191</td>\n",
       "      <td>7.446067</td>\n",
       "    </tr>\n",
       "    <tr>\n",
       "      <th>1</th>\n",
       "      <td>Spring</td>\n",
       "      <td>17.188043</td>\n",
       "      <td>8.954348</td>\n",
       "    </tr>\n",
       "    <tr>\n",
       "      <th>2</th>\n",
       "      <td>Summer</td>\n",
       "      <td>24.003191</td>\n",
       "      <td>14.535106</td>\n",
       "    </tr>\n",
       "    <tr>\n",
       "      <th>3</th>\n",
       "      <td>Winter</td>\n",
       "      <td>9.843956</td>\n",
       "      <td>4.091209</td>\n",
       "    </tr>\n",
       "  </tbody>\n",
       "</table>\n",
       "</div>"
      ],
      "text/plain": [
       "  year_season  temperature_2m_max  temperature_2m_min\n",
       "0      Autumn           13.347191            7.446067\n",
       "1      Spring           17.188043            8.954348\n",
       "2      Summer           24.003191           14.535106\n",
       "3      Winter            9.843956            4.091209"
      ]
     },
     "execution_count": 67,
     "metadata": {},
     "output_type": "execute_result"
    }
   ],
   "source": [
    "temperature_mean = weather.groupby(\"year_season\")[[\"temperature_2m_max\", \"temperature_2m_min\"]].mean().reset_index()\n",
    "temperature_mean"
   ]
  },
  {
   "cell_type": "code",
   "execution_count": 68,
   "metadata": {},
   "outputs": [
    {
     "data": {
      "application/vnd.plotly.v1+json": {
       "config": {
        "plotlyServerURL": "https://plot.ly"
       },
       "data": [
        {
         "alignmentgroup": "True",
         "hovertemplate": "Min/Max=temperature_2m_max<br>Season=%{x}<br>Temperature (°C)=%{y}<extra></extra>",
         "legendgroup": "temperature_2m_max",
         "marker": {
          "color": "#fa2a49",
          "pattern": {
           "shape": ""
          }
         },
         "name": "Max temperature",
         "offsetgroup": "temperature_2m_max",
         "orientation": "v",
         "showlegend": true,
         "textposition": "inside",
         "texttemplate": "%{y:.1f}",
         "type": "bar",
         "x": [
          "Autumn",
          "Spring",
          "Summer",
          "Winter"
         ],
         "xaxis": "x",
         "y": [
          13.347191011235957,
          17.18804347826087,
          24.003191489361704,
          9.843956043956043
         ],
         "yaxis": "y"
        },
        {
         "alignmentgroup": "True",
         "hovertemplate": "Min/Max=temperature_2m_min<br>Season=%{x}<br>Temperature (°C)=%{y}<extra></extra>",
         "legendgroup": "temperature_2m_min",
         "marker": {
          "color": "#70c7e5",
          "pattern": {
           "shape": ""
          }
         },
         "name": "Min temperature",
         "offsetgroup": "temperature_2m_min",
         "orientation": "v",
         "showlegend": true,
         "textposition": "inside",
         "texttemplate": "%{y:.1f}",
         "type": "bar",
         "x": [
          "Autumn",
          "Spring",
          "Summer",
          "Winter"
         ],
         "xaxis": "x",
         "y": [
          7.4460674157303375,
          8.954347826086956,
          14.535106382978723,
          4.091208791208792
         ],
         "yaxis": "y"
        }
       ],
       "layout": {
        "barmode": "group",
        "height": 500,
        "legend": {
         "title": {
          "text": "Min/Max"
         },
         "tracegroupgap": 0
        },
        "plot_bgcolor": "white",
        "template": {
         "data": {
          "bar": [
           {
            "error_x": {
             "color": "#2a3f5f"
            },
            "error_y": {
             "color": "#2a3f5f"
            },
            "marker": {
             "line": {
              "color": "#E5ECF6",
              "width": 0.5
             },
             "pattern": {
              "fillmode": "overlay",
              "size": 10,
              "solidity": 0.2
             }
            },
            "type": "bar"
           }
          ],
          "barpolar": [
           {
            "marker": {
             "line": {
              "color": "#E5ECF6",
              "width": 0.5
             },
             "pattern": {
              "fillmode": "overlay",
              "size": 10,
              "solidity": 0.2
             }
            },
            "type": "barpolar"
           }
          ],
          "carpet": [
           {
            "aaxis": {
             "endlinecolor": "#2a3f5f",
             "gridcolor": "white",
             "linecolor": "white",
             "minorgridcolor": "white",
             "startlinecolor": "#2a3f5f"
            },
            "baxis": {
             "endlinecolor": "#2a3f5f",
             "gridcolor": "white",
             "linecolor": "white",
             "minorgridcolor": "white",
             "startlinecolor": "#2a3f5f"
            },
            "type": "carpet"
           }
          ],
          "choropleth": [
           {
            "colorbar": {
             "outlinewidth": 0,
             "ticks": ""
            },
            "type": "choropleth"
           }
          ],
          "contour": [
           {
            "colorbar": {
             "outlinewidth": 0,
             "ticks": ""
            },
            "colorscale": [
             [
              0,
              "#0d0887"
             ],
             [
              0.1111111111111111,
              "#46039f"
             ],
             [
              0.2222222222222222,
              "#7201a8"
             ],
             [
              0.3333333333333333,
              "#9c179e"
             ],
             [
              0.4444444444444444,
              "#bd3786"
             ],
             [
              0.5555555555555556,
              "#d8576b"
             ],
             [
              0.6666666666666666,
              "#ed7953"
             ],
             [
              0.7777777777777778,
              "#fb9f3a"
             ],
             [
              0.8888888888888888,
              "#fdca26"
             ],
             [
              1,
              "#f0f921"
             ]
            ],
            "type": "contour"
           }
          ],
          "contourcarpet": [
           {
            "colorbar": {
             "outlinewidth": 0,
             "ticks": ""
            },
            "type": "contourcarpet"
           }
          ],
          "heatmap": [
           {
            "colorbar": {
             "outlinewidth": 0,
             "ticks": ""
            },
            "colorscale": [
             [
              0,
              "#0d0887"
             ],
             [
              0.1111111111111111,
              "#46039f"
             ],
             [
              0.2222222222222222,
              "#7201a8"
             ],
             [
              0.3333333333333333,
              "#9c179e"
             ],
             [
              0.4444444444444444,
              "#bd3786"
             ],
             [
              0.5555555555555556,
              "#d8576b"
             ],
             [
              0.6666666666666666,
              "#ed7953"
             ],
             [
              0.7777777777777778,
              "#fb9f3a"
             ],
             [
              0.8888888888888888,
              "#fdca26"
             ],
             [
              1,
              "#f0f921"
             ]
            ],
            "type": "heatmap"
           }
          ],
          "heatmapgl": [
           {
            "colorbar": {
             "outlinewidth": 0,
             "ticks": ""
            },
            "colorscale": [
             [
              0,
              "#0d0887"
             ],
             [
              0.1111111111111111,
              "#46039f"
             ],
             [
              0.2222222222222222,
              "#7201a8"
             ],
             [
              0.3333333333333333,
              "#9c179e"
             ],
             [
              0.4444444444444444,
              "#bd3786"
             ],
             [
              0.5555555555555556,
              "#d8576b"
             ],
             [
              0.6666666666666666,
              "#ed7953"
             ],
             [
              0.7777777777777778,
              "#fb9f3a"
             ],
             [
              0.8888888888888888,
              "#fdca26"
             ],
             [
              1,
              "#f0f921"
             ]
            ],
            "type": "heatmapgl"
           }
          ],
          "histogram": [
           {
            "marker": {
             "pattern": {
              "fillmode": "overlay",
              "size": 10,
              "solidity": 0.2
             }
            },
            "type": "histogram"
           }
          ],
          "histogram2d": [
           {
            "colorbar": {
             "outlinewidth": 0,
             "ticks": ""
            },
            "colorscale": [
             [
              0,
              "#0d0887"
             ],
             [
              0.1111111111111111,
              "#46039f"
             ],
             [
              0.2222222222222222,
              "#7201a8"
             ],
             [
              0.3333333333333333,
              "#9c179e"
             ],
             [
              0.4444444444444444,
              "#bd3786"
             ],
             [
              0.5555555555555556,
              "#d8576b"
             ],
             [
              0.6666666666666666,
              "#ed7953"
             ],
             [
              0.7777777777777778,
              "#fb9f3a"
             ],
             [
              0.8888888888888888,
              "#fdca26"
             ],
             [
              1,
              "#f0f921"
             ]
            ],
            "type": "histogram2d"
           }
          ],
          "histogram2dcontour": [
           {
            "colorbar": {
             "outlinewidth": 0,
             "ticks": ""
            },
            "colorscale": [
             [
              0,
              "#0d0887"
             ],
             [
              0.1111111111111111,
              "#46039f"
             ],
             [
              0.2222222222222222,
              "#7201a8"
             ],
             [
              0.3333333333333333,
              "#9c179e"
             ],
             [
              0.4444444444444444,
              "#bd3786"
             ],
             [
              0.5555555555555556,
              "#d8576b"
             ],
             [
              0.6666666666666666,
              "#ed7953"
             ],
             [
              0.7777777777777778,
              "#fb9f3a"
             ],
             [
              0.8888888888888888,
              "#fdca26"
             ],
             [
              1,
              "#f0f921"
             ]
            ],
            "type": "histogram2dcontour"
           }
          ],
          "mesh3d": [
           {
            "colorbar": {
             "outlinewidth": 0,
             "ticks": ""
            },
            "type": "mesh3d"
           }
          ],
          "parcoords": [
           {
            "line": {
             "colorbar": {
              "outlinewidth": 0,
              "ticks": ""
             }
            },
            "type": "parcoords"
           }
          ],
          "pie": [
           {
            "automargin": true,
            "type": "pie"
           }
          ],
          "scatter": [
           {
            "fillpattern": {
             "fillmode": "overlay",
             "size": 10,
             "solidity": 0.2
            },
            "type": "scatter"
           }
          ],
          "scatter3d": [
           {
            "line": {
             "colorbar": {
              "outlinewidth": 0,
              "ticks": ""
             }
            },
            "marker": {
             "colorbar": {
              "outlinewidth": 0,
              "ticks": ""
             }
            },
            "type": "scatter3d"
           }
          ],
          "scattercarpet": [
           {
            "marker": {
             "colorbar": {
              "outlinewidth": 0,
              "ticks": ""
             }
            },
            "type": "scattercarpet"
           }
          ],
          "scattergeo": [
           {
            "marker": {
             "colorbar": {
              "outlinewidth": 0,
              "ticks": ""
             }
            },
            "type": "scattergeo"
           }
          ],
          "scattergl": [
           {
            "marker": {
             "colorbar": {
              "outlinewidth": 0,
              "ticks": ""
             }
            },
            "type": "scattergl"
           }
          ],
          "scattermapbox": [
           {
            "marker": {
             "colorbar": {
              "outlinewidth": 0,
              "ticks": ""
             }
            },
            "type": "scattermapbox"
           }
          ],
          "scatterpolar": [
           {
            "marker": {
             "colorbar": {
              "outlinewidth": 0,
              "ticks": ""
             }
            },
            "type": "scatterpolar"
           }
          ],
          "scatterpolargl": [
           {
            "marker": {
             "colorbar": {
              "outlinewidth": 0,
              "ticks": ""
             }
            },
            "type": "scatterpolargl"
           }
          ],
          "scatterternary": [
           {
            "marker": {
             "colorbar": {
              "outlinewidth": 0,
              "ticks": ""
             }
            },
            "type": "scatterternary"
           }
          ],
          "surface": [
           {
            "colorbar": {
             "outlinewidth": 0,
             "ticks": ""
            },
            "colorscale": [
             [
              0,
              "#0d0887"
             ],
             [
              0.1111111111111111,
              "#46039f"
             ],
             [
              0.2222222222222222,
              "#7201a8"
             ],
             [
              0.3333333333333333,
              "#9c179e"
             ],
             [
              0.4444444444444444,
              "#bd3786"
             ],
             [
              0.5555555555555556,
              "#d8576b"
             ],
             [
              0.6666666666666666,
              "#ed7953"
             ],
             [
              0.7777777777777778,
              "#fb9f3a"
             ],
             [
              0.8888888888888888,
              "#fdca26"
             ],
             [
              1,
              "#f0f921"
             ]
            ],
            "type": "surface"
           }
          ],
          "table": [
           {
            "cells": {
             "fill": {
              "color": "#EBF0F8"
             },
             "line": {
              "color": "white"
             }
            },
            "header": {
             "fill": {
              "color": "#C8D4E3"
             },
             "line": {
              "color": "white"
             }
            },
            "type": "table"
           }
          ]
         },
         "layout": {
          "annotationdefaults": {
           "arrowcolor": "#2a3f5f",
           "arrowhead": 0,
           "arrowwidth": 1
          },
          "autotypenumbers": "strict",
          "coloraxis": {
           "colorbar": {
            "outlinewidth": 0,
            "ticks": ""
           }
          },
          "colorscale": {
           "diverging": [
            [
             0,
             "#8e0152"
            ],
            [
             0.1,
             "#c51b7d"
            ],
            [
             0.2,
             "#de77ae"
            ],
            [
             0.3,
             "#f1b6da"
            ],
            [
             0.4,
             "#fde0ef"
            ],
            [
             0.5,
             "#f7f7f7"
            ],
            [
             0.6,
             "#e6f5d0"
            ],
            [
             0.7,
             "#b8e186"
            ],
            [
             0.8,
             "#7fbc41"
            ],
            [
             0.9,
             "#4d9221"
            ],
            [
             1,
             "#276419"
            ]
           ],
           "sequential": [
            [
             0,
             "#0d0887"
            ],
            [
             0.1111111111111111,
             "#46039f"
            ],
            [
             0.2222222222222222,
             "#7201a8"
            ],
            [
             0.3333333333333333,
             "#9c179e"
            ],
            [
             0.4444444444444444,
             "#bd3786"
            ],
            [
             0.5555555555555556,
             "#d8576b"
            ],
            [
             0.6666666666666666,
             "#ed7953"
            ],
            [
             0.7777777777777778,
             "#fb9f3a"
            ],
            [
             0.8888888888888888,
             "#fdca26"
            ],
            [
             1,
             "#f0f921"
            ]
           ],
           "sequentialminus": [
            [
             0,
             "#0d0887"
            ],
            [
             0.1111111111111111,
             "#46039f"
            ],
            [
             0.2222222222222222,
             "#7201a8"
            ],
            [
             0.3333333333333333,
             "#9c179e"
            ],
            [
             0.4444444444444444,
             "#bd3786"
            ],
            [
             0.5555555555555556,
             "#d8576b"
            ],
            [
             0.6666666666666666,
             "#ed7953"
            ],
            [
             0.7777777777777778,
             "#fb9f3a"
            ],
            [
             0.8888888888888888,
             "#fdca26"
            ],
            [
             1,
             "#f0f921"
            ]
           ]
          },
          "colorway": [
           "#636efa",
           "#EF553B",
           "#00cc96",
           "#ab63fa",
           "#FFA15A",
           "#19d3f3",
           "#FF6692",
           "#B6E880",
           "#FF97FF",
           "#FECB52"
          ],
          "font": {
           "color": "#2a3f5f"
          },
          "geo": {
           "bgcolor": "white",
           "lakecolor": "white",
           "landcolor": "#E5ECF6",
           "showlakes": true,
           "showland": true,
           "subunitcolor": "white"
          },
          "hoverlabel": {
           "align": "left"
          },
          "hovermode": "closest",
          "mapbox": {
           "style": "light"
          },
          "paper_bgcolor": "white",
          "plot_bgcolor": "#E5ECF6",
          "polar": {
           "angularaxis": {
            "gridcolor": "white",
            "linecolor": "white",
            "ticks": ""
           },
           "bgcolor": "#E5ECF6",
           "radialaxis": {
            "gridcolor": "white",
            "linecolor": "white",
            "ticks": ""
           }
          },
          "scene": {
           "xaxis": {
            "backgroundcolor": "#E5ECF6",
            "gridcolor": "white",
            "gridwidth": 2,
            "linecolor": "white",
            "showbackground": true,
            "ticks": "",
            "zerolinecolor": "white"
           },
           "yaxis": {
            "backgroundcolor": "#E5ECF6",
            "gridcolor": "white",
            "gridwidth": 2,
            "linecolor": "white",
            "showbackground": true,
            "ticks": "",
            "zerolinecolor": "white"
           },
           "zaxis": {
            "backgroundcolor": "#E5ECF6",
            "gridcolor": "white",
            "gridwidth": 2,
            "linecolor": "white",
            "showbackground": true,
            "ticks": "",
            "zerolinecolor": "white"
           }
          },
          "shapedefaults": {
           "line": {
            "color": "#2a3f5f"
           }
          },
          "ternary": {
           "aaxis": {
            "gridcolor": "white",
            "linecolor": "white",
            "ticks": ""
           },
           "baxis": {
            "gridcolor": "white",
            "linecolor": "white",
            "ticks": ""
           },
           "bgcolor": "#E5ECF6",
           "caxis": {
            "gridcolor": "white",
            "linecolor": "white",
            "ticks": ""
           }
          },
          "title": {
           "x": 0.05
          },
          "xaxis": {
           "automargin": true,
           "gridcolor": "white",
           "linecolor": "white",
           "ticks": "",
           "title": {
            "standoff": 15
           },
           "zerolinecolor": "white",
           "zerolinewidth": 2
          },
          "yaxis": {
           "automargin": true,
           "gridcolor": "white",
           "linecolor": "white",
           "ticks": "",
           "title": {
            "standoff": 15
           },
           "zerolinecolor": "white",
           "zerolinewidth": 2
          }
         }
        },
        "title": {
         "text": "Average temperatures per season",
         "x": 0.5
        },
        "width": 800,
        "xaxis": {
         "anchor": "y",
         "domain": [
          0,
          1
         ],
         "title": {
          "text": "Season"
         }
        },
        "yaxis": {
         "anchor": "x",
         "domain": [
          0,
          1
         ],
         "gridcolor": "lightgray",
         "showgrid": true,
         "title": {
          "text": "Temperature (°C)"
         }
        }
       }
      }
     },
     "metadata": {},
     "output_type": "display_data"
    }
   ],
   "source": [
    "fig = px.bar(\n",
    "    temperature_mean, \n",
    "    x=\"year_season\", \n",
    "    y=[\"temperature_2m_max\", \"temperature_2m_min\"], \n",
    "    barmode=\"group\",\n",
    "    labels={\"year_season\": \"Season\", \"value\": \"Temperature (°C)\",\"variable\": \"Min/Max\"},\n",
    "    title=\"Average temperatures per season\",\n",
    "    color_discrete_map={\"temperature_2m_max\":\"#fa2a49\", \"temperature_2m_min\": \"#70c7e5\"},\n",
    "    width=800,\n",
    "    height=500)\n",
    "fig.update_traces(\n",
    "    texttemplate='%{y:.1f}',\n",
    "    textposition=\"inside\")\n",
    "fig.for_each_trace(lambda trace: trace.update(name=\"Max temperature\") if trace.name == \"temperature_2m_max\" else trace.update(name=\"Min temperature\"))\n",
    "fig.update_layout(title_x=0.5)\n",
    "fig.update_layout(\n",
    "    plot_bgcolor=\"white\",   yaxis=dict(\n",
    "        showgrid=True, gridcolor=\"lightgray\"))\n",
    "\n",
    "fig.show()"
   ]
  },
  {
   "cell_type": "code",
   "execution_count": 69,
   "metadata": {},
   "outputs": [],
   "source": [
    "days_rain = weather[weather[\"precipitation_sum\"] != 0]\n",
    "frequency_table = days_rain[\"year_season\"].value_counts()"
   ]
  },
  {
   "cell_type": "code",
   "execution_count": 70,
   "metadata": {},
   "outputs": [
    {
     "data": {
      "text/plain": [
       "(244, 8)"
      ]
     },
     "execution_count": 70,
     "metadata": {},
     "output_type": "execute_result"
    }
   ],
   "source": [
    "days_rain.shape"
   ]
  },
  {
   "cell_type": "code",
   "execution_count": 71,
   "metadata": {},
   "outputs": [],
   "source": [
    "days_rain_more_five = weather[weather[\"precipitation_sum\"] > 5]\n",
    "frequency_table_2 = days_rain_more_five[\"year_season\"].value_counts()"
   ]
  },
  {
   "cell_type": "code",
   "execution_count": 72,
   "metadata": {},
   "outputs": [
    {
     "data": {
      "text/plain": [
       "(70, 8)"
      ]
     },
     "execution_count": 72,
     "metadata": {},
     "output_type": "execute_result"
    }
   ],
   "source": [
    "days_rain_more_five.shape"
   ]
  },
  {
   "cell_type": "code",
   "execution_count": 73,
   "metadata": {},
   "outputs": [
    {
     "data": {
      "application/vnd.plotly.v1+json": {
       "config": {
        "plotlyServerURL": "https://plot.ly"
       },
       "data": [
        {
         "marker": {
          "color": "LightSkyBlue"
         },
         "name": "Rainy days",
         "text": [
          73,
          62,
          55,
          54
         ],
         "textposition": "outside",
         "type": "bar",
         "x": [
          "Spring",
          "Summer",
          "Winter",
          "Autumn"
         ],
         "y": [
          73,
          62,
          55,
          54
         ]
        },
        {
         "marker": {
          "color": "MediumPurple"
         },
         "name": "Days with >5h rain",
         "text": [
          21,
          18,
          16,
          15
         ],
         "textposition": "outside",
         "type": "bar",
         "x": [
          "Spring",
          "Winter",
          "Summer",
          "Autumn"
         ],
         "y": [
          21,
          18,
          16,
          15
         ]
        }
       ],
       "layout": {
        "barmode": "overlay",
        "height": 500,
        "paper_bgcolor": "white",
        "plot_bgcolor": "white",
        "template": {
         "data": {
          "bar": [
           {
            "error_x": {
             "color": "#2a3f5f"
            },
            "error_y": {
             "color": "#2a3f5f"
            },
            "marker": {
             "line": {
              "color": "#E5ECF6",
              "width": 0.5
             },
             "pattern": {
              "fillmode": "overlay",
              "size": 10,
              "solidity": 0.2
             }
            },
            "type": "bar"
           }
          ],
          "barpolar": [
           {
            "marker": {
             "line": {
              "color": "#E5ECF6",
              "width": 0.5
             },
             "pattern": {
              "fillmode": "overlay",
              "size": 10,
              "solidity": 0.2
             }
            },
            "type": "barpolar"
           }
          ],
          "carpet": [
           {
            "aaxis": {
             "endlinecolor": "#2a3f5f",
             "gridcolor": "white",
             "linecolor": "white",
             "minorgridcolor": "white",
             "startlinecolor": "#2a3f5f"
            },
            "baxis": {
             "endlinecolor": "#2a3f5f",
             "gridcolor": "white",
             "linecolor": "white",
             "minorgridcolor": "white",
             "startlinecolor": "#2a3f5f"
            },
            "type": "carpet"
           }
          ],
          "choropleth": [
           {
            "colorbar": {
             "outlinewidth": 0,
             "ticks": ""
            },
            "type": "choropleth"
           }
          ],
          "contour": [
           {
            "colorbar": {
             "outlinewidth": 0,
             "ticks": ""
            },
            "colorscale": [
             [
              0,
              "#0d0887"
             ],
             [
              0.1111111111111111,
              "#46039f"
             ],
             [
              0.2222222222222222,
              "#7201a8"
             ],
             [
              0.3333333333333333,
              "#9c179e"
             ],
             [
              0.4444444444444444,
              "#bd3786"
             ],
             [
              0.5555555555555556,
              "#d8576b"
             ],
             [
              0.6666666666666666,
              "#ed7953"
             ],
             [
              0.7777777777777778,
              "#fb9f3a"
             ],
             [
              0.8888888888888888,
              "#fdca26"
             ],
             [
              1,
              "#f0f921"
             ]
            ],
            "type": "contour"
           }
          ],
          "contourcarpet": [
           {
            "colorbar": {
             "outlinewidth": 0,
             "ticks": ""
            },
            "type": "contourcarpet"
           }
          ],
          "heatmap": [
           {
            "colorbar": {
             "outlinewidth": 0,
             "ticks": ""
            },
            "colorscale": [
             [
              0,
              "#0d0887"
             ],
             [
              0.1111111111111111,
              "#46039f"
             ],
             [
              0.2222222222222222,
              "#7201a8"
             ],
             [
              0.3333333333333333,
              "#9c179e"
             ],
             [
              0.4444444444444444,
              "#bd3786"
             ],
             [
              0.5555555555555556,
              "#d8576b"
             ],
             [
              0.6666666666666666,
              "#ed7953"
             ],
             [
              0.7777777777777778,
              "#fb9f3a"
             ],
             [
              0.8888888888888888,
              "#fdca26"
             ],
             [
              1,
              "#f0f921"
             ]
            ],
            "type": "heatmap"
           }
          ],
          "heatmapgl": [
           {
            "colorbar": {
             "outlinewidth": 0,
             "ticks": ""
            },
            "colorscale": [
             [
              0,
              "#0d0887"
             ],
             [
              0.1111111111111111,
              "#46039f"
             ],
             [
              0.2222222222222222,
              "#7201a8"
             ],
             [
              0.3333333333333333,
              "#9c179e"
             ],
             [
              0.4444444444444444,
              "#bd3786"
             ],
             [
              0.5555555555555556,
              "#d8576b"
             ],
             [
              0.6666666666666666,
              "#ed7953"
             ],
             [
              0.7777777777777778,
              "#fb9f3a"
             ],
             [
              0.8888888888888888,
              "#fdca26"
             ],
             [
              1,
              "#f0f921"
             ]
            ],
            "type": "heatmapgl"
           }
          ],
          "histogram": [
           {
            "marker": {
             "pattern": {
              "fillmode": "overlay",
              "size": 10,
              "solidity": 0.2
             }
            },
            "type": "histogram"
           }
          ],
          "histogram2d": [
           {
            "colorbar": {
             "outlinewidth": 0,
             "ticks": ""
            },
            "colorscale": [
             [
              0,
              "#0d0887"
             ],
             [
              0.1111111111111111,
              "#46039f"
             ],
             [
              0.2222222222222222,
              "#7201a8"
             ],
             [
              0.3333333333333333,
              "#9c179e"
             ],
             [
              0.4444444444444444,
              "#bd3786"
             ],
             [
              0.5555555555555556,
              "#d8576b"
             ],
             [
              0.6666666666666666,
              "#ed7953"
             ],
             [
              0.7777777777777778,
              "#fb9f3a"
             ],
             [
              0.8888888888888888,
              "#fdca26"
             ],
             [
              1,
              "#f0f921"
             ]
            ],
            "type": "histogram2d"
           }
          ],
          "histogram2dcontour": [
           {
            "colorbar": {
             "outlinewidth": 0,
             "ticks": ""
            },
            "colorscale": [
             [
              0,
              "#0d0887"
             ],
             [
              0.1111111111111111,
              "#46039f"
             ],
             [
              0.2222222222222222,
              "#7201a8"
             ],
             [
              0.3333333333333333,
              "#9c179e"
             ],
             [
              0.4444444444444444,
              "#bd3786"
             ],
             [
              0.5555555555555556,
              "#d8576b"
             ],
             [
              0.6666666666666666,
              "#ed7953"
             ],
             [
              0.7777777777777778,
              "#fb9f3a"
             ],
             [
              0.8888888888888888,
              "#fdca26"
             ],
             [
              1,
              "#f0f921"
             ]
            ],
            "type": "histogram2dcontour"
           }
          ],
          "mesh3d": [
           {
            "colorbar": {
             "outlinewidth": 0,
             "ticks": ""
            },
            "type": "mesh3d"
           }
          ],
          "parcoords": [
           {
            "line": {
             "colorbar": {
              "outlinewidth": 0,
              "ticks": ""
             }
            },
            "type": "parcoords"
           }
          ],
          "pie": [
           {
            "automargin": true,
            "type": "pie"
           }
          ],
          "scatter": [
           {
            "fillpattern": {
             "fillmode": "overlay",
             "size": 10,
             "solidity": 0.2
            },
            "type": "scatter"
           }
          ],
          "scatter3d": [
           {
            "line": {
             "colorbar": {
              "outlinewidth": 0,
              "ticks": ""
             }
            },
            "marker": {
             "colorbar": {
              "outlinewidth": 0,
              "ticks": ""
             }
            },
            "type": "scatter3d"
           }
          ],
          "scattercarpet": [
           {
            "marker": {
             "colorbar": {
              "outlinewidth": 0,
              "ticks": ""
             }
            },
            "type": "scattercarpet"
           }
          ],
          "scattergeo": [
           {
            "marker": {
             "colorbar": {
              "outlinewidth": 0,
              "ticks": ""
             }
            },
            "type": "scattergeo"
           }
          ],
          "scattergl": [
           {
            "marker": {
             "colorbar": {
              "outlinewidth": 0,
              "ticks": ""
             }
            },
            "type": "scattergl"
           }
          ],
          "scattermapbox": [
           {
            "marker": {
             "colorbar": {
              "outlinewidth": 0,
              "ticks": ""
             }
            },
            "type": "scattermapbox"
           }
          ],
          "scatterpolar": [
           {
            "marker": {
             "colorbar": {
              "outlinewidth": 0,
              "ticks": ""
             }
            },
            "type": "scatterpolar"
           }
          ],
          "scatterpolargl": [
           {
            "marker": {
             "colorbar": {
              "outlinewidth": 0,
              "ticks": ""
             }
            },
            "type": "scatterpolargl"
           }
          ],
          "scatterternary": [
           {
            "marker": {
             "colorbar": {
              "outlinewidth": 0,
              "ticks": ""
             }
            },
            "type": "scatterternary"
           }
          ],
          "surface": [
           {
            "colorbar": {
             "outlinewidth": 0,
             "ticks": ""
            },
            "colorscale": [
             [
              0,
              "#0d0887"
             ],
             [
              0.1111111111111111,
              "#46039f"
             ],
             [
              0.2222222222222222,
              "#7201a8"
             ],
             [
              0.3333333333333333,
              "#9c179e"
             ],
             [
              0.4444444444444444,
              "#bd3786"
             ],
             [
              0.5555555555555556,
              "#d8576b"
             ],
             [
              0.6666666666666666,
              "#ed7953"
             ],
             [
              0.7777777777777778,
              "#fb9f3a"
             ],
             [
              0.8888888888888888,
              "#fdca26"
             ],
             [
              1,
              "#f0f921"
             ]
            ],
            "type": "surface"
           }
          ],
          "table": [
           {
            "cells": {
             "fill": {
              "color": "#EBF0F8"
             },
             "line": {
              "color": "white"
             }
            },
            "header": {
             "fill": {
              "color": "#C8D4E3"
             },
             "line": {
              "color": "white"
             }
            },
            "type": "table"
           }
          ]
         },
         "layout": {
          "annotationdefaults": {
           "arrowcolor": "#2a3f5f",
           "arrowhead": 0,
           "arrowwidth": 1
          },
          "autotypenumbers": "strict",
          "coloraxis": {
           "colorbar": {
            "outlinewidth": 0,
            "ticks": ""
           }
          },
          "colorscale": {
           "diverging": [
            [
             0,
             "#8e0152"
            ],
            [
             0.1,
             "#c51b7d"
            ],
            [
             0.2,
             "#de77ae"
            ],
            [
             0.3,
             "#f1b6da"
            ],
            [
             0.4,
             "#fde0ef"
            ],
            [
             0.5,
             "#f7f7f7"
            ],
            [
             0.6,
             "#e6f5d0"
            ],
            [
             0.7,
             "#b8e186"
            ],
            [
             0.8,
             "#7fbc41"
            ],
            [
             0.9,
             "#4d9221"
            ],
            [
             1,
             "#276419"
            ]
           ],
           "sequential": [
            [
             0,
             "#0d0887"
            ],
            [
             0.1111111111111111,
             "#46039f"
            ],
            [
             0.2222222222222222,
             "#7201a8"
            ],
            [
             0.3333333333333333,
             "#9c179e"
            ],
            [
             0.4444444444444444,
             "#bd3786"
            ],
            [
             0.5555555555555556,
             "#d8576b"
            ],
            [
             0.6666666666666666,
             "#ed7953"
            ],
            [
             0.7777777777777778,
             "#fb9f3a"
            ],
            [
             0.8888888888888888,
             "#fdca26"
            ],
            [
             1,
             "#f0f921"
            ]
           ],
           "sequentialminus": [
            [
             0,
             "#0d0887"
            ],
            [
             0.1111111111111111,
             "#46039f"
            ],
            [
             0.2222222222222222,
             "#7201a8"
            ],
            [
             0.3333333333333333,
             "#9c179e"
            ],
            [
             0.4444444444444444,
             "#bd3786"
            ],
            [
             0.5555555555555556,
             "#d8576b"
            ],
            [
             0.6666666666666666,
             "#ed7953"
            ],
            [
             0.7777777777777778,
             "#fb9f3a"
            ],
            [
             0.8888888888888888,
             "#fdca26"
            ],
            [
             1,
             "#f0f921"
            ]
           ]
          },
          "colorway": [
           "#636efa",
           "#EF553B",
           "#00cc96",
           "#ab63fa",
           "#FFA15A",
           "#19d3f3",
           "#FF6692",
           "#B6E880",
           "#FF97FF",
           "#FECB52"
          ],
          "font": {
           "color": "#2a3f5f"
          },
          "geo": {
           "bgcolor": "white",
           "lakecolor": "white",
           "landcolor": "#E5ECF6",
           "showlakes": true,
           "showland": true,
           "subunitcolor": "white"
          },
          "hoverlabel": {
           "align": "left"
          },
          "hovermode": "closest",
          "mapbox": {
           "style": "light"
          },
          "paper_bgcolor": "white",
          "plot_bgcolor": "#E5ECF6",
          "polar": {
           "angularaxis": {
            "gridcolor": "white",
            "linecolor": "white",
            "ticks": ""
           },
           "bgcolor": "#E5ECF6",
           "radialaxis": {
            "gridcolor": "white",
            "linecolor": "white",
            "ticks": ""
           }
          },
          "scene": {
           "xaxis": {
            "backgroundcolor": "#E5ECF6",
            "gridcolor": "white",
            "gridwidth": 2,
            "linecolor": "white",
            "showbackground": true,
            "ticks": "",
            "zerolinecolor": "white"
           },
           "yaxis": {
            "backgroundcolor": "#E5ECF6",
            "gridcolor": "white",
            "gridwidth": 2,
            "linecolor": "white",
            "showbackground": true,
            "ticks": "",
            "zerolinecolor": "white"
           },
           "zaxis": {
            "backgroundcolor": "#E5ECF6",
            "gridcolor": "white",
            "gridwidth": 2,
            "linecolor": "white",
            "showbackground": true,
            "ticks": "",
            "zerolinecolor": "white"
           }
          },
          "shapedefaults": {
           "line": {
            "color": "#2a3f5f"
           }
          },
          "ternary": {
           "aaxis": {
            "gridcolor": "white",
            "linecolor": "white",
            "ticks": ""
           },
           "baxis": {
            "gridcolor": "white",
            "linecolor": "white",
            "ticks": ""
           },
           "bgcolor": "#E5ECF6",
           "caxis": {
            "gridcolor": "white",
            "linecolor": "white",
            "ticks": ""
           }
          },
          "title": {
           "x": 0.05
          },
          "xaxis": {
           "automargin": true,
           "gridcolor": "white",
           "linecolor": "white",
           "ticks": "",
           "title": {
            "standoff": 15
           },
           "zerolinecolor": "white",
           "zerolinewidth": 2
          },
          "yaxis": {
           "automargin": true,
           "gridcolor": "white",
           "linecolor": "white",
           "ticks": "",
           "title": {
            "standoff": 15
           },
           "zerolinecolor": "white",
           "zerolinewidth": 2
          }
         }
        },
        "title": {
         "text": "Rainy days in Paris",
         "x": 0.5
        },
        "width": 750,
        "xaxis": {
         "title": {
          "text": "Season"
         }
        },
        "yaxis": {
         "gridcolor": "lightgray",
         "showgrid": true,
         "title": {
          "text": "Amount of days"
         }
        }
       }
      }
     },
     "metadata": {},
     "output_type": "display_data"
    }
   ],
   "source": [
    "fig = go.Figure()\n",
    "\n",
    "fig.add_trace(go.Bar(\n",
    "    x=frequency_table.index, \n",
    "    y=frequency_table.values, \n",
    "    text=frequency_table.values, \n",
    "    textposition=\"outside\",\n",
    "    name=\"Rainy days\",\n",
    "    marker_color=\"LightSkyBlue\"\n",
    "))\n",
    "\n",
    "fig.add_trace(go.Bar(\n",
    "    x=frequency_table_2.index, \n",
    "    y=frequency_table_2.values, \n",
    "    text=frequency_table_2.values, \n",
    "    textposition=\"outside\",\n",
    "    name=\"Days with >5h rain\",\n",
    "    marker_color=\"MediumPurple\"\n",
    "))\n",
    "\n",
    "fig.update_layout(\n",
    "    title=\"Rainy days in Paris\",\n",
    "    xaxis_title=\"Season\",\n",
    "    yaxis_title=\"Amount of days\",\n",
    "    barmode=\"overlay\",\n",
    "    plot_bgcolor=\"white\",\n",
    "    paper_bgcolor=\"white\",\n",
    "    yaxis=dict(showgrid=True, gridcolor=\"lightgray\"),\n",
    "    title_x=0.5,\n",
    "    width=750,height=500 \n",
    ")\n",
    "\n",
    "fig.show()\n"
   ]
  },
  {
   "cell_type": "code",
   "execution_count": 74,
   "metadata": {},
   "outputs": [],
   "source": [
    "### Nightclubs in Paris "
   ]
  },
  {
   "cell_type": "code",
   "execution_count": 75,
   "metadata": {},
   "outputs": [],
   "source": [
    "nightclubs = pd.read_csv(\"nightclubs.csv\")"
   ]
  },
  {
   "cell_type": "code",
   "execution_count": 76,
   "metadata": {},
   "outputs": [],
   "source": [
    "nightclubs = nightclubs.dropna(subset=\"addr:postcode\")\n",
    "nightclubs[\"addr:postcode\"] = nightclubs[\"addr:postcode\"].astype(int)\n",
    "nightclubs[\"Commune nom\"] = nightclubs[\"addr:postcode\"].apply(det_neighbourhood)"
   ]
  },
  {
   "cell_type": "code",
   "execution_count": 77,
   "metadata": {},
   "outputs": [],
   "source": [
    "nightclubs = nightclubs.drop(columns=['@id', 'addr:city', 'addr:country', 'addr:housenumber',\n",
    "       'addr:street', 'alcohol', 'alt_name', 'amenity',\n",
    "        'building:levels', 'check_date',\n",
    "       'check_date:opening_hours', 'concert', 'contact:city',\n",
    "       'contact:email', 'contact:facebook', 'contact:housenumber',\n",
    "       'contact:instagram', 'contact:mastodon', 'contact:phone',\n",
    "       'contact:postcode', 'contact:ra', 'contact:street', 'contact:twitter',\n",
    "       'contact:website', 'email', 'entrance', 'facebook',\n",
    "       'image', 'level', 'lgbtq', 'lgbtq:men', 'musical_instrument:piano', 'note',\n",
    "       'old_name', 'opening_hours:covid19',\n",
    "       'opening_hours:signed', 'operator', 'phone', 'room', \"music\", \"description\", \"live_music\", \"wheelchair\", \"opening_hours\",\n",
    "       'smoking', 'source', 'survey:date', 'toilets:wheelchair', 'website', 'wikidata', 'wikipedia', '@geometry', \"name:fr\", \"restaurant\", \"bar\", \"area\", \"building\", \"club\", \"min_age\"])"
   ]
  },
  {
   "cell_type": "code",
   "execution_count": 78,
   "metadata": {},
   "outputs": [],
   "source": [
    "nightclubs = nightclubs.rename(columns={\"X\":\"longitude\", \"Y\":\"latitude\"})\n",
    "nightlife_neighbourhoods = nightclubs.groupby(\"Commune nom\")[\"id\"].count().sort_values(ascending=False)[:3]"
   ]
  },
  {
   "cell_type": "code",
   "execution_count": 79,
   "metadata": {},
   "outputs": [
    {
     "data": {
      "text/plain": [
       "Commune nom\n",
       "Paris 6ème     4\n",
       "Paris 11ème    3\n",
       "Paris 19ème    3\n",
       "Name: id, dtype: int64"
      ]
     },
     "execution_count": 79,
     "metadata": {},
     "output_type": "execute_result"
    }
   ],
   "source": [
    "nightlife_neighbourhoods"
   ]
  },
  {
   "cell_type": "code",
   "execution_count": 80,
   "metadata": {},
   "outputs": [],
   "source": [
    "#### Cultural"
   ]
  },
  {
   "cell_type": "code",
   "execution_count": 81,
   "metadata": {},
   "outputs": [],
   "source": [
    "museums = monuments_paris[monuments_paris[\"category\"] == \"Musée et écomusée\"]\n",
    "cultural_neighbourhoods = museums.groupby(\"Commune nom\")[\"nomcom\"].count().sort_values(ascending=False)[:4]"
   ]
  },
  {
   "cell_type": "code",
   "execution_count": 82,
   "metadata": {},
   "outputs": [
    {
     "data": {
      "text/plain": [
       "Commune nom\n",
       "Paris 16ème    18\n",
       "Paris 7ème     12\n",
       "Paris 6ème     11\n",
       "Paris 5ème     10\n",
       "Name: nomcom, dtype: int64"
      ]
     },
     "execution_count": 82,
     "metadata": {},
     "output_type": "execute_result"
    }
   ],
   "source": [
    "cultural_neighbourhoods"
   ]
  },
  {
   "cell_type": "code",
   "execution_count": 83,
   "metadata": {},
   "outputs": [],
   "source": [
    "#### Luxury"
   ]
  },
  {
   "cell_type": "code",
   "execution_count": 84,
   "metadata": {},
   "outputs": [],
   "source": [
    "luxury = pd.read_csv(\"luxury.csv\", delimiter=\";\")\n",
    "luxury = luxury.rename(columns={\"@lon.1\":\"longitude\", \"@lat\":\"latitude\"})\n",
    "luxury = luxury.drop(columns=[\"lat\", \"@lon\"])\n",
    "luxury[\"Commune nom\"] = luxury[\"postal_code\"].apply(det_neighbourhood)"
   ]
  },
  {
   "cell_type": "code",
   "execution_count": 85,
   "metadata": {},
   "outputs": [
    {
     "data": {
      "text/html": [
       "<div>\n",
       "<style scoped>\n",
       "    .dataframe tbody tr th:only-of-type {\n",
       "        vertical-align: middle;\n",
       "    }\n",
       "\n",
       "    .dataframe tbody tr th {\n",
       "        vertical-align: top;\n",
       "    }\n",
       "\n",
       "    .dataframe thead th {\n",
       "        text-align: right;\n",
       "    }\n",
       "</style>\n",
       "<table border=\"1\" class=\"dataframe\">\n",
       "  <thead>\n",
       "    <tr style=\"text-align: right;\">\n",
       "      <th></th>\n",
       "      <th>@id</th>\n",
       "      <th>name</th>\n",
       "      <th>shop</th>\n",
       "      <th>brand</th>\n",
       "      <th>latitude</th>\n",
       "      <th>longitude</th>\n",
       "      <th>postal_code</th>\n",
       "    </tr>\n",
       "    <tr>\n",
       "      <th>Commune nom</th>\n",
       "      <th></th>\n",
       "      <th></th>\n",
       "      <th></th>\n",
       "      <th></th>\n",
       "      <th></th>\n",
       "      <th></th>\n",
       "      <th></th>\n",
       "    </tr>\n",
       "  </thead>\n",
       "  <tbody>\n",
       "    <tr>\n",
       "      <th>Paris 12ème</th>\n",
       "      <td>3</td>\n",
       "      <td>3</td>\n",
       "      <td>3</td>\n",
       "      <td>3</td>\n",
       "      <td>3</td>\n",
       "      <td>3</td>\n",
       "      <td>3</td>\n",
       "    </tr>\n",
       "    <tr>\n",
       "      <th>Paris 15ème</th>\n",
       "      <td>2</td>\n",
       "      <td>2</td>\n",
       "      <td>2</td>\n",
       "      <td>2</td>\n",
       "      <td>2</td>\n",
       "      <td>2</td>\n",
       "      <td>2</td>\n",
       "    </tr>\n",
       "    <tr>\n",
       "      <th>Paris 7ème</th>\n",
       "      <td>1</td>\n",
       "      <td>1</td>\n",
       "      <td>1</td>\n",
       "      <td>1</td>\n",
       "      <td>1</td>\n",
       "      <td>1</td>\n",
       "      <td>1</td>\n",
       "    </tr>\n",
       "    <tr>\n",
       "      <th>Paris 8ème</th>\n",
       "      <td>36</td>\n",
       "      <td>36</td>\n",
       "      <td>36</td>\n",
       "      <td>36</td>\n",
       "      <td>36</td>\n",
       "      <td>36</td>\n",
       "      <td>36</td>\n",
       "    </tr>\n",
       "  </tbody>\n",
       "</table>\n",
       "</div>"
      ],
      "text/plain": [
       "             @id  name  shop  brand  latitude  longitude  postal_code\n",
       "Commune nom                                                          \n",
       "Paris 12ème    3     3     3      3         3          3            3\n",
       "Paris 15ème    2     2     2      2         2          2            2\n",
       "Paris 7ème     1     1     1      1         1          1            1\n",
       "Paris 8ème    36    36    36     36        36         36           36"
      ]
     },
     "execution_count": 85,
     "metadata": {},
     "output_type": "execute_result"
    }
   ],
   "source": [
    "luxury.groupby(\"Commune nom\").count()"
   ]
  },
  {
   "cell_type": "code",
   "execution_count": 86,
   "metadata": {},
   "outputs": [],
   "source": [
    "#Bohemian"
   ]
  },
  {
   "cell_type": "code",
   "execution_count": 87,
   "metadata": {},
   "outputs": [],
   "source": [
    "boho = pd.read_csv(\"boho.csv\")"
   ]
  },
  {
   "cell_type": "code",
   "execution_count": 88,
   "metadata": {},
   "outputs": [
    {
     "data": {
      "text/plain": [
       "Commune nom\n",
       "Paris 18ème    7\n",
       "Paris 19ème    6\n",
       "Paris 4ème     5\n",
       "Name: @id, dtype: int64"
      ]
     },
     "execution_count": 88,
     "metadata": {},
     "output_type": "execute_result"
    }
   ],
   "source": [
    "boho = boho[[\"@id\", \"addr:postcode\", \"name\"]]\n",
    "boho = boho.dropna(subset=\"addr:postcode\")\n",
    "boho[\"Commune nom\"] = boho[\"addr:postcode\"].apply(det_neighbourhood)\n",
    "bohemian_neightbourhoods = boho.groupby(\"Commune nom\")[\"@id\"].count().sort_values(ascending=False)[:3]\n",
    "bohemian_neightbourhoods"
   ]
  },
  {
   "cell_type": "code",
   "execution_count": 89,
   "metadata": {},
   "outputs": [],
   "source": [
    "def det_experience(row):\n",
    "    if row == \"Paris 6ème\" or row == \"Paris 11ème\" or row == \"Paris 19ème\":\n",
    "        return \"Nightlife\"\n",
    "    if row == \"Paris 16ème\" or row == \"Paris 7ème\" or row == \"Paris 6ème\" or row == \"Paris 5ème\":\n",
    "        return \"Cultural\"\n",
    "    if row == \"Paris 18ème\" or row == \"Paris 19ème\" or row == \"Paris 4ème\":\n",
    "        return \"Bohemian\"\n",
    "    if row == \"Paris 8ème\":\n",
    "        return \"Luxury\""
   ]
  },
  {
   "cell_type": "code",
   "execution_count": 90,
   "metadata": {},
   "outputs": [],
   "source": [
    "airbnb_clean[\"experience\"] = airbnb_clean[\"Commune nom\"].apply(det_experience)"
   ]
  },
  {
   "cell_type": "code",
   "execution_count": 91,
   "metadata": {},
   "outputs": [
    {
     "name": "stderr",
     "output_type": "stream",
     "text": [
      "C:\\Users\\crist\\AppData\\Local\\Temp\\ipykernel_37532\\4266109968.py:4: FutureWarning:\n",
      "\n",
      "A value is trying to be set on a copy of a DataFrame or Series through chained assignment using an inplace method.\n",
      "The behavior will change in pandas 3.0. This inplace method will never work because the intermediate object on which we are setting values always behaves as a copy.\n",
      "\n",
      "For example, when doing 'df[col].method(value, inplace=True)', try using 'df.method({col: value}, inplace=True)' or df[col] = df[col].method(value) instead, to perform the operation inplace on the original object.\n",
      "\n",
      "\n",
      "\n",
      "C:\\Users\\crist\\AppData\\Local\\Temp\\ipykernel_37532\\4266109968.py:5: FutureWarning:\n",
      "\n",
      "A value is trying to be set on a copy of a DataFrame or Series through chained assignment using an inplace method.\n",
      "The behavior will change in pandas 3.0. This inplace method will never work because the intermediate object on which we are setting values always behaves as a copy.\n",
      "\n",
      "For example, when doing 'df[col].method(value, inplace=True)', try using 'df.method({col: value}, inplace=True)' or df[col] = df[col].method(value) instead, to perform the operation inplace on the original object.\n",
      "\n",
      "\n",
      "\n"
     ]
    }
   ],
   "source": [
    "airbnb_clean[\"airbnb_monument\"] = \"airbnb\"\n",
    "must_see_monuments[\"airbnb_monument\"] = \"monument\"\n",
    "final_df = pd.concat([airbnb_clean, must_see_monuments])\n",
    "final_df[\"name\"].fillna(\"airbnb\", inplace = True)\n",
    "final_df[\"price_range\"].fillna(\"Monument\", inplace=True)\n",
    "final_df.loc[final_df['airbnb_monument'] == 'monument', 'experience'] = final_df.loc[final_df['airbnb_monument'] == 'monument', 'experience'].fillna('Monument') \n",
    "final_df.to_csv(\"airbnb_monument_fortableau.csv\", index = False)\n",
    "final_df.to_excel(\"airbnb_monument_fortableau.xlsx\", index = False)"
   ]
  },
  {
   "cell_type": "code",
   "execution_count": 92,
   "metadata": {},
   "outputs": [
    {
     "data": {
      "text/html": [
       "<div>\n",
       "<style scoped>\n",
       "    .dataframe tbody tr th:only-of-type {\n",
       "        vertical-align: middle;\n",
       "    }\n",
       "\n",
       "    .dataframe tbody tr th {\n",
       "        vertical-align: top;\n",
       "    }\n",
       "\n",
       "    .dataframe thead th {\n",
       "        text-align: right;\n",
       "    }\n",
       "</style>\n",
       "<table border=\"1\" class=\"dataframe\">\n",
       "  <thead>\n",
       "    <tr style=\"text-align: right;\">\n",
       "      <th></th>\n",
       "      <th>id</th>\n",
       "      <th>listing_url</th>\n",
       "      <th>host_id</th>\n",
       "      <th>host_acceptance_rate</th>\n",
       "      <th>host_is_superhost</th>\n",
       "      <th>neighbourhood</th>\n",
       "      <th>latitude</th>\n",
       "      <th>longitude</th>\n",
       "      <th>room_type</th>\n",
       "      <th>accommodates</th>\n",
       "      <th>...</th>\n",
       "      <th>price_range</th>\n",
       "      <th>Commune nom</th>\n",
       "      <th>experience</th>\n",
       "      <th>airbnb_monument</th>\n",
       "      <th>dep</th>\n",
       "      <th>adresse</th>\n",
       "      <th>nomcom</th>\n",
       "      <th>insee</th>\n",
       "      <th>name</th>\n",
       "      <th>category</th>\n",
       "    </tr>\n",
       "  </thead>\n",
       "  <tbody>\n",
       "    <tr>\n",
       "      <th>91</th>\n",
       "      <td>139074.0</td>\n",
       "      <td>https://www.airbnb.com/rooms/139074</td>\n",
       "      <td>4450132.0</td>\n",
       "      <td>100.0</td>\n",
       "      <td>f</td>\n",
       "      <td>Passy</td>\n",
       "      <td>48.87173</td>\n",
       "      <td>2.29071</td>\n",
       "      <td>Entire home/apt</td>\n",
       "      <td>2.0</td>\n",
       "      <td>...</td>\n",
       "      <td>Fair</td>\n",
       "      <td>Paris 16ème</td>\n",
       "      <td>Cultural</td>\n",
       "      <td>airbnb</td>\n",
       "      <td>NaN</td>\n",
       "      <td>NaN</td>\n",
       "      <td>NaN</td>\n",
       "      <td>NaN</td>\n",
       "      <td>airbnb</td>\n",
       "      <td>NaN</td>\n",
       "    </tr>\n",
       "    <tr>\n",
       "      <th>164</th>\n",
       "      <td>55239.0</td>\n",
       "      <td>https://www.airbnb.com/rooms/55239</td>\n",
       "      <td>260696.0</td>\n",
       "      <td>100.0</td>\n",
       "      <td>f</td>\n",
       "      <td>Élysée</td>\n",
       "      <td>48.87260</td>\n",
       "      <td>2.31477</td>\n",
       "      <td>Entire home/apt</td>\n",
       "      <td>4.0</td>\n",
       "      <td>...</td>\n",
       "      <td>Luxury</td>\n",
       "      <td>Paris 8ème</td>\n",
       "      <td>Luxury</td>\n",
       "      <td>airbnb</td>\n",
       "      <td>NaN</td>\n",
       "      <td>NaN</td>\n",
       "      <td>NaN</td>\n",
       "      <td>NaN</td>\n",
       "      <td>airbnb</td>\n",
       "      <td>NaN</td>\n",
       "    </tr>\n",
       "    <tr>\n",
       "      <th>245</th>\n",
       "      <td>310103.0</td>\n",
       "      <td>https://www.airbnb.com/rooms/310103</td>\n",
       "      <td>1317183.0</td>\n",
       "      <td>100.0</td>\n",
       "      <td>f</td>\n",
       "      <td>Buttes-Chaumont</td>\n",
       "      <td>48.87373</td>\n",
       "      <td>2.37575</td>\n",
       "      <td>Entire home/apt</td>\n",
       "      <td>6.0</td>\n",
       "      <td>...</td>\n",
       "      <td>Premium</td>\n",
       "      <td>Paris 19ème</td>\n",
       "      <td>Nightlife</td>\n",
       "      <td>airbnb</td>\n",
       "      <td>NaN</td>\n",
       "      <td>NaN</td>\n",
       "      <td>NaN</td>\n",
       "      <td>NaN</td>\n",
       "      <td>airbnb</td>\n",
       "      <td>NaN</td>\n",
       "    </tr>\n",
       "    <tr>\n",
       "      <th>251</th>\n",
       "      <td>314903.0</td>\n",
       "      <td>https://www.airbnb.com/rooms/314903</td>\n",
       "      <td>1617534.0</td>\n",
       "      <td>100.0</td>\n",
       "      <td>f</td>\n",
       "      <td>Popincourt</td>\n",
       "      <td>48.85294</td>\n",
       "      <td>2.37536</td>\n",
       "      <td>Entire home/apt</td>\n",
       "      <td>3.0</td>\n",
       "      <td>...</td>\n",
       "      <td>Fair</td>\n",
       "      <td>Paris 11ème</td>\n",
       "      <td>Nightlife</td>\n",
       "      <td>airbnb</td>\n",
       "      <td>NaN</td>\n",
       "      <td>NaN</td>\n",
       "      <td>NaN</td>\n",
       "      <td>NaN</td>\n",
       "      <td>airbnb</td>\n",
       "      <td>NaN</td>\n",
       "    </tr>\n",
       "    <tr>\n",
       "      <th>352</th>\n",
       "      <td>513387.0</td>\n",
       "      <td>https://www.airbnb.com/rooms/513387</td>\n",
       "      <td>2528877.0</td>\n",
       "      <td>100.0</td>\n",
       "      <td>f</td>\n",
       "      <td>Panthéon</td>\n",
       "      <td>48.85176</td>\n",
       "      <td>2.34944</td>\n",
       "      <td>Entire home/apt</td>\n",
       "      <td>6.0</td>\n",
       "      <td>...</td>\n",
       "      <td>Luxury</td>\n",
       "      <td>Paris 5ème</td>\n",
       "      <td>Cultural</td>\n",
       "      <td>airbnb</td>\n",
       "      <td>NaN</td>\n",
       "      <td>NaN</td>\n",
       "      <td>NaN</td>\n",
       "      <td>NaN</td>\n",
       "      <td>airbnb</td>\n",
       "      <td>NaN</td>\n",
       "    </tr>\n",
       "    <tr>\n",
       "      <th>...</th>\n",
       "      <td>...</td>\n",
       "      <td>...</td>\n",
       "      <td>...</td>\n",
       "      <td>...</td>\n",
       "      <td>...</td>\n",
       "      <td>...</td>\n",
       "      <td>...</td>\n",
       "      <td>...</td>\n",
       "      <td>...</td>\n",
       "      <td>...</td>\n",
       "      <td>...</td>\n",
       "      <td>...</td>\n",
       "      <td>...</td>\n",
       "      <td>...</td>\n",
       "      <td>...</td>\n",
       "      <td>...</td>\n",
       "      <td>...</td>\n",
       "      <td>...</td>\n",
       "      <td>...</td>\n",
       "      <td>...</td>\n",
       "      <td>...</td>\n",
       "    </tr>\n",
       "    <tr>\n",
       "      <th>11</th>\n",
       "      <td>NaN</td>\n",
       "      <td>NaN</td>\n",
       "      <td>NaN</td>\n",
       "      <td>NaN</td>\n",
       "      <td>NaN</td>\n",
       "      <td>NaN</td>\n",
       "      <td>48.86050</td>\n",
       "      <td>2.35240</td>\n",
       "      <td>NaN</td>\n",
       "      <td>NaN</td>\n",
       "      <td>...</td>\n",
       "      <td>Monument</td>\n",
       "      <td>Paris 4ème</td>\n",
       "      <td>Monument</td>\n",
       "      <td>monument</td>\n",
       "      <td>75</td>\n",
       "      <td>PLACE GEORGES POMPIDOU</td>\n",
       "      <td>Paris</td>\n",
       "      <td>75104.0</td>\n",
       "      <td>Centre Pompidou</td>\n",
       "      <td>Site et monument</td>\n",
       "    </tr>\n",
       "    <tr>\n",
       "      <th>12</th>\n",
       "      <td>NaN</td>\n",
       "      <td>NaN</td>\n",
       "      <td>NaN</td>\n",
       "      <td>NaN</td>\n",
       "      <td>NaN</td>\n",
       "      <td>NaN</td>\n",
       "      <td>48.84630</td>\n",
       "      <td>2.34560</td>\n",
       "      <td>NaN</td>\n",
       "      <td>NaN</td>\n",
       "      <td>...</td>\n",
       "      <td>Monument</td>\n",
       "      <td>Paris 5ème</td>\n",
       "      <td>Monument</td>\n",
       "      <td>monument</td>\n",
       "      <td>75</td>\n",
       "      <td>PLACE DU PANTHÉON</td>\n",
       "      <td>Paris</td>\n",
       "      <td>75105.0</td>\n",
       "      <td>Panthéon</td>\n",
       "      <td>Site et monument</td>\n",
       "    </tr>\n",
       "    <tr>\n",
       "      <th>13</th>\n",
       "      <td>NaN</td>\n",
       "      <td>NaN</td>\n",
       "      <td>NaN</td>\n",
       "      <td>NaN</td>\n",
       "      <td>NaN</td>\n",
       "      <td>NaN</td>\n",
       "      <td>48.86550</td>\n",
       "      <td>2.32120</td>\n",
       "      <td>NaN</td>\n",
       "      <td>NaN</td>\n",
       "      <td>...</td>\n",
       "      <td>Monument</td>\n",
       "      <td>Paris 8ème</td>\n",
       "      <td>Monument</td>\n",
       "      <td>monument</td>\n",
       "      <td>75</td>\n",
       "      <td>PLACE DE LA CONCORDE</td>\n",
       "      <td>Paris</td>\n",
       "      <td>75108.0</td>\n",
       "      <td>Place de la Concorde</td>\n",
       "      <td>Site et monument</td>\n",
       "    </tr>\n",
       "    <tr>\n",
       "      <th>14</th>\n",
       "      <td>NaN</td>\n",
       "      <td>NaN</td>\n",
       "      <td>NaN</td>\n",
       "      <td>NaN</td>\n",
       "      <td>NaN</td>\n",
       "      <td>NaN</td>\n",
       "      <td>48.88720</td>\n",
       "      <td>2.34340</td>\n",
       "      <td>NaN</td>\n",
       "      <td>NaN</td>\n",
       "      <td>...</td>\n",
       "      <td>Monument</td>\n",
       "      <td>Paris 18ème</td>\n",
       "      <td>Monument</td>\n",
       "      <td>monument</td>\n",
       "      <td>75</td>\n",
       "      <td>35 RUE DU CHEVALIER-DE-LA-BARRE - PARVIS DU SA...</td>\n",
       "      <td>Paris</td>\n",
       "      <td>75118.0</td>\n",
       "      <td>Basilique du sacré-coeur de Montmartre</td>\n",
       "      <td>Site et monument</td>\n",
       "    </tr>\n",
       "    <tr>\n",
       "      <th>15</th>\n",
       "      <td>NaN</td>\n",
       "      <td>NaN</td>\n",
       "      <td>NaN</td>\n",
       "      <td>NaN</td>\n",
       "      <td>NaN</td>\n",
       "      <td>NaN</td>\n",
       "      <td>48.86757</td>\n",
       "      <td>2.32951</td>\n",
       "      <td>NaN</td>\n",
       "      <td>NaN</td>\n",
       "      <td>...</td>\n",
       "      <td>Monument</td>\n",
       "      <td>Paris 1er</td>\n",
       "      <td>Monument</td>\n",
       "      <td>monument</td>\n",
       "      <td>75</td>\n",
       "      <td>14 Place Vendôme</td>\n",
       "      <td>Paris</td>\n",
       "      <td>75101.0</td>\n",
       "      <td>Place Vendôme</td>\n",
       "      <td>Site et monument</td>\n",
       "    </tr>\n",
       "  </tbody>\n",
       "</table>\n",
       "<p>4731 rows × 29 columns</p>\n",
       "</div>"
      ],
      "text/plain": [
       "           id                          listing_url    host_id  \\\n",
       "91   139074.0  https://www.airbnb.com/rooms/139074  4450132.0   \n",
       "164   55239.0   https://www.airbnb.com/rooms/55239   260696.0   \n",
       "245  310103.0  https://www.airbnb.com/rooms/310103  1317183.0   \n",
       "251  314903.0  https://www.airbnb.com/rooms/314903  1617534.0   \n",
       "352  513387.0  https://www.airbnb.com/rooms/513387  2528877.0   \n",
       "..        ...                                  ...        ...   \n",
       "11        NaN                                  NaN        NaN   \n",
       "12        NaN                                  NaN        NaN   \n",
       "13        NaN                                  NaN        NaN   \n",
       "14        NaN                                  NaN        NaN   \n",
       "15        NaN                                  NaN        NaN   \n",
       "\n",
       "     host_acceptance_rate host_is_superhost    neighbourhood  latitude  \\\n",
       "91                  100.0                 f            Passy  48.87173   \n",
       "164                 100.0                 f           Élysée  48.87260   \n",
       "245                 100.0                 f  Buttes-Chaumont  48.87373   \n",
       "251                 100.0                 f       Popincourt  48.85294   \n",
       "352                 100.0                 f         Panthéon  48.85176   \n",
       "..                    ...               ...              ...       ...   \n",
       "11                    NaN               NaN              NaN  48.86050   \n",
       "12                    NaN               NaN              NaN  48.84630   \n",
       "13                    NaN               NaN              NaN  48.86550   \n",
       "14                    NaN               NaN              NaN  48.88720   \n",
       "15                    NaN               NaN              NaN  48.86757   \n",
       "\n",
       "     longitude        room_type  accommodates  ...  price_range  Commune nom  \\\n",
       "91     2.29071  Entire home/apt           2.0  ...         Fair  Paris 16ème   \n",
       "164    2.31477  Entire home/apt           4.0  ...       Luxury   Paris 8ème   \n",
       "245    2.37575  Entire home/apt           6.0  ...      Premium  Paris 19ème   \n",
       "251    2.37536  Entire home/apt           3.0  ...         Fair  Paris 11ème   \n",
       "352    2.34944  Entire home/apt           6.0  ...       Luxury   Paris 5ème   \n",
       "..         ...              ...           ...  ...          ...          ...   \n",
       "11     2.35240              NaN           NaN  ...     Monument   Paris 4ème   \n",
       "12     2.34560              NaN           NaN  ...     Monument   Paris 5ème   \n",
       "13     2.32120              NaN           NaN  ...     Monument   Paris 8ème   \n",
       "14     2.34340              NaN           NaN  ...     Monument  Paris 18ème   \n",
       "15     2.32951              NaN           NaN  ...     Monument    Paris 1er   \n",
       "\n",
       "     experience  airbnb_monument  dep  \\\n",
       "91     Cultural           airbnb  NaN   \n",
       "164      Luxury           airbnb  NaN   \n",
       "245   Nightlife           airbnb  NaN   \n",
       "251   Nightlife           airbnb  NaN   \n",
       "352    Cultural           airbnb  NaN   \n",
       "..          ...              ...  ...   \n",
       "11     Monument         monument   75   \n",
       "12     Monument         monument   75   \n",
       "13     Monument         monument   75   \n",
       "14     Monument         monument   75   \n",
       "15     Monument         monument   75   \n",
       "\n",
       "                                               adresse nomcom    insee  \\\n",
       "91                                                 NaN    NaN      NaN   \n",
       "164                                                NaN    NaN      NaN   \n",
       "245                                                NaN    NaN      NaN   \n",
       "251                                                NaN    NaN      NaN   \n",
       "352                                                NaN    NaN      NaN   \n",
       "..                                                 ...    ...      ...   \n",
       "11                              PLACE GEORGES POMPIDOU  Paris  75104.0   \n",
       "12                                   PLACE DU PANTHÉON  Paris  75105.0   \n",
       "13                                PLACE DE LA CONCORDE  Paris  75108.0   \n",
       "14   35 RUE DU CHEVALIER-DE-LA-BARRE - PARVIS DU SA...  Paris  75118.0   \n",
       "15                                    14 Place Vendôme  Paris  75101.0   \n",
       "\n",
       "                                       name          category  \n",
       "91                                   airbnb               NaN  \n",
       "164                                  airbnb               NaN  \n",
       "245                                  airbnb               NaN  \n",
       "251                                  airbnb               NaN  \n",
       "352                                  airbnb               NaN  \n",
       "..                                      ...               ...  \n",
       "11                          Centre Pompidou  Site et monument  \n",
       "12                                 Panthéon  Site et monument  \n",
       "13                     Place de la Concorde  Site et monument  \n",
       "14   Basilique du sacré-coeur de Montmartre  Site et monument  \n",
       "15                            Place Vendôme  Site et monument  \n",
       "\n",
       "[4731 rows x 29 columns]"
      ]
     },
     "execution_count": 92,
     "metadata": {},
     "output_type": "execute_result"
    }
   ],
   "source": [
    "final_df"
   ]
  },
  {
   "cell_type": "code",
   "execution_count": 93,
   "metadata": {},
   "outputs": [],
   "source": [
    "# taking a look at Paris' population\n",
    "popu = pd.read_csv(\"base-comparateur-de-territoires.csv\", delimiter=\";\")"
   ]
  },
  {
   "cell_type": "code",
   "execution_count": 94,
   "metadata": {},
   "outputs": [
    {
     "data": {
      "text/plain": [
       "Index(['CODGEO', 'NOM_COMMUNE', 'P20_POP', 'P14_POP', 'SUPERF', 'NAIS1420',\n",
       "       'DECE1420', 'P20_MEN', 'NAISD22', 'DECESD22', 'P20_LOG', 'P20_RP',\n",
       "       'P20_RSECOCC', 'P20_LOGVAC', 'P20_RP_PROP', 'NBMENFISC20', 'PIMP20',\n",
       "       'MED20', 'TP6020', 'P20_EMPLT', 'P20_EMPLT_SAL', 'P14_EMPLT',\n",
       "       'P20_POP1564', 'P20_CHOM1564', 'P20_ACT1564', 'ETTOT21', 'ETAZ21',\n",
       "       'ETBE21', 'ETFZ21', 'ETGU21', 'ETGZ21', 'ETOQ21', 'ETTEF121',\n",
       "       'ETTEFP1021', 'IDF', 'Geo Point', 'Geo Shape'],\n",
       "      dtype='object')"
      ]
     },
     "execution_count": 94,
     "metadata": {},
     "output_type": "execute_result"
    }
   ],
   "source": [
    "popu.columns"
   ]
  },
  {
   "cell_type": "code",
   "execution_count": 95,
   "metadata": {},
   "outputs": [],
   "source": [
    "paris = popu[\"NOM_COMMUNE\"].str.contains(\"Arrondissement\", case=False, na=False)"
   ]
  },
  {
   "cell_type": "code",
   "execution_count": 96,
   "metadata": {},
   "outputs": [],
   "source": [
    "paris_pop = popu[paris]"
   ]
  },
  {
   "cell_type": "code",
   "execution_count": 97,
   "metadata": {},
   "outputs": [
    {
     "data": {
      "text/plain": [
       "Index(['CODGEO', 'NOM_COMMUNE', 'P20_POP', 'P14_POP', 'SUPERF', 'NAIS1420',\n",
       "       'DECE1420', 'P20_MEN', 'NAISD22', 'DECESD22', 'P20_LOG', 'P20_RP',\n",
       "       'P20_RSECOCC', 'P20_LOGVAC', 'P20_RP_PROP', 'NBMENFISC20', 'PIMP20',\n",
       "       'MED20', 'TP6020', 'P20_EMPLT', 'P20_EMPLT_SAL', 'P14_EMPLT',\n",
       "       'P20_POP1564', 'P20_CHOM1564', 'P20_ACT1564', 'ETTOT21', 'ETAZ21',\n",
       "       'ETBE21', 'ETFZ21', 'ETGU21', 'ETGZ21', 'ETOQ21', 'ETTEF121',\n",
       "       'ETTEFP1021', 'IDF', 'Geo Point', 'Geo Shape'],\n",
       "      dtype='object')"
      ]
     },
     "execution_count": 97,
     "metadata": {},
     "output_type": "execute_result"
    }
   ],
   "source": [
    "paris_pop.columns"
   ]
  },
  {
   "cell_type": "code",
   "execution_count": 98,
   "metadata": {},
   "outputs": [
    {
     "name": "stderr",
     "output_type": "stream",
     "text": [
      "C:\\Users\\crist\\AppData\\Local\\Temp\\ipykernel_37532\\3475751079.py:1: SettingWithCopyWarning:\n",
      "\n",
      "\n",
      "A value is trying to be set on a copy of a slice from a DataFrame.\n",
      "Try using .loc[row_indexer,col_indexer] = value instead\n",
      "\n",
      "See the caveats in the documentation: https://pandas.pydata.org/pandas-docs/stable/user_guide/indexing.html#returning-a-view-versus-a-copy\n",
      "\n"
     ]
    }
   ],
   "source": [
    "paris_pop[\"arrondissement_number\"] = paris_pop[\"NOM_COMMUNE\"].str.extract(r'(\\d+)').astype(int)\n",
    "paris_pop = paris_pop.sort_values(by=\"arrondissement_number\")"
   ]
  },
  {
   "cell_type": "code",
   "execution_count": 99,
   "metadata": {},
   "outputs": [
    {
     "data": {
      "application/vnd.plotly.v1+json": {
       "config": {
        "plotlyServerURL": "https://plot.ly"
       },
       "data": [
        {
         "alignmentgroup": "True",
         "hovertemplate": "District=%{x}<br>Population=%{y}<extra></extra>",
         "legendgroup": "",
         "marker": {
          "color": "#F4A460",
          "pattern": {
           "shape": ""
          }
         },
         "name": "",
         "offsetgroup": "",
         "orientation": "v",
         "showlegend": false,
         "textposition": "auto",
         "type": "bar",
         "x": [
          "Paris 1er Arrondissement",
          "Paris 2e Arrondissement",
          "Paris 3e Arrondissement",
          "Paris 4e Arrondissement",
          "Paris 5e Arrondissement",
          "Paris 6e Arrondissement",
          "Paris 7e Arrondissement",
          "Paris 8e Arrondissement",
          "Paris 9e Arrondissement",
          "Paris 10e Arrondissement",
          "Paris 11e Arrondissement",
          "Paris 12e Arrondissement",
          "Paris 13e Arrondissement",
          "Paris 14e Arrondissement",
          "Paris 15e Arrondissement",
          "Paris 16e Arrondissement",
          "Paris 17e Arrondissement",
          "Paris 18e Arrondissement",
          "Paris 19e Arrondissement",
          "Paris 20e Arrondissement"
         ],
         "xaxis": "x",
         "y": [
          16030,
          21130,
          33402,
          29064,
          57380,
          39625,
          48520,
          35631,
          60168,
          83459,
          144292,
          140311,
          177833,
          133967,
          229472,
          162820,
          166336,
          191135,
          183211,
          192120
         ],
         "yaxis": "y"
        }
       ],
       "layout": {
        "barmode": "relative",
        "height": 600,
        "legend": {
         "tracegroupgap": 0
        },
        "plot_bgcolor": "white",
        "template": {
         "data": {
          "bar": [
           {
            "error_x": {
             "color": "#2a3f5f"
            },
            "error_y": {
             "color": "#2a3f5f"
            },
            "marker": {
             "line": {
              "color": "#E5ECF6",
              "width": 0.5
             },
             "pattern": {
              "fillmode": "overlay",
              "size": 10,
              "solidity": 0.2
             }
            },
            "type": "bar"
           }
          ],
          "barpolar": [
           {
            "marker": {
             "line": {
              "color": "#E5ECF6",
              "width": 0.5
             },
             "pattern": {
              "fillmode": "overlay",
              "size": 10,
              "solidity": 0.2
             }
            },
            "type": "barpolar"
           }
          ],
          "carpet": [
           {
            "aaxis": {
             "endlinecolor": "#2a3f5f",
             "gridcolor": "white",
             "linecolor": "white",
             "minorgridcolor": "white",
             "startlinecolor": "#2a3f5f"
            },
            "baxis": {
             "endlinecolor": "#2a3f5f",
             "gridcolor": "white",
             "linecolor": "white",
             "minorgridcolor": "white",
             "startlinecolor": "#2a3f5f"
            },
            "type": "carpet"
           }
          ],
          "choropleth": [
           {
            "colorbar": {
             "outlinewidth": 0,
             "ticks": ""
            },
            "type": "choropleth"
           }
          ],
          "contour": [
           {
            "colorbar": {
             "outlinewidth": 0,
             "ticks": ""
            },
            "colorscale": [
             [
              0,
              "#0d0887"
             ],
             [
              0.1111111111111111,
              "#46039f"
             ],
             [
              0.2222222222222222,
              "#7201a8"
             ],
             [
              0.3333333333333333,
              "#9c179e"
             ],
             [
              0.4444444444444444,
              "#bd3786"
             ],
             [
              0.5555555555555556,
              "#d8576b"
             ],
             [
              0.6666666666666666,
              "#ed7953"
             ],
             [
              0.7777777777777778,
              "#fb9f3a"
             ],
             [
              0.8888888888888888,
              "#fdca26"
             ],
             [
              1,
              "#f0f921"
             ]
            ],
            "type": "contour"
           }
          ],
          "contourcarpet": [
           {
            "colorbar": {
             "outlinewidth": 0,
             "ticks": ""
            },
            "type": "contourcarpet"
           }
          ],
          "heatmap": [
           {
            "colorbar": {
             "outlinewidth": 0,
             "ticks": ""
            },
            "colorscale": [
             [
              0,
              "#0d0887"
             ],
             [
              0.1111111111111111,
              "#46039f"
             ],
             [
              0.2222222222222222,
              "#7201a8"
             ],
             [
              0.3333333333333333,
              "#9c179e"
             ],
             [
              0.4444444444444444,
              "#bd3786"
             ],
             [
              0.5555555555555556,
              "#d8576b"
             ],
             [
              0.6666666666666666,
              "#ed7953"
             ],
             [
              0.7777777777777778,
              "#fb9f3a"
             ],
             [
              0.8888888888888888,
              "#fdca26"
             ],
             [
              1,
              "#f0f921"
             ]
            ],
            "type": "heatmap"
           }
          ],
          "heatmapgl": [
           {
            "colorbar": {
             "outlinewidth": 0,
             "ticks": ""
            },
            "colorscale": [
             [
              0,
              "#0d0887"
             ],
             [
              0.1111111111111111,
              "#46039f"
             ],
             [
              0.2222222222222222,
              "#7201a8"
             ],
             [
              0.3333333333333333,
              "#9c179e"
             ],
             [
              0.4444444444444444,
              "#bd3786"
             ],
             [
              0.5555555555555556,
              "#d8576b"
             ],
             [
              0.6666666666666666,
              "#ed7953"
             ],
             [
              0.7777777777777778,
              "#fb9f3a"
             ],
             [
              0.8888888888888888,
              "#fdca26"
             ],
             [
              1,
              "#f0f921"
             ]
            ],
            "type": "heatmapgl"
           }
          ],
          "histogram": [
           {
            "marker": {
             "pattern": {
              "fillmode": "overlay",
              "size": 10,
              "solidity": 0.2
             }
            },
            "type": "histogram"
           }
          ],
          "histogram2d": [
           {
            "colorbar": {
             "outlinewidth": 0,
             "ticks": ""
            },
            "colorscale": [
             [
              0,
              "#0d0887"
             ],
             [
              0.1111111111111111,
              "#46039f"
             ],
             [
              0.2222222222222222,
              "#7201a8"
             ],
             [
              0.3333333333333333,
              "#9c179e"
             ],
             [
              0.4444444444444444,
              "#bd3786"
             ],
             [
              0.5555555555555556,
              "#d8576b"
             ],
             [
              0.6666666666666666,
              "#ed7953"
             ],
             [
              0.7777777777777778,
              "#fb9f3a"
             ],
             [
              0.8888888888888888,
              "#fdca26"
             ],
             [
              1,
              "#f0f921"
             ]
            ],
            "type": "histogram2d"
           }
          ],
          "histogram2dcontour": [
           {
            "colorbar": {
             "outlinewidth": 0,
             "ticks": ""
            },
            "colorscale": [
             [
              0,
              "#0d0887"
             ],
             [
              0.1111111111111111,
              "#46039f"
             ],
             [
              0.2222222222222222,
              "#7201a8"
             ],
             [
              0.3333333333333333,
              "#9c179e"
             ],
             [
              0.4444444444444444,
              "#bd3786"
             ],
             [
              0.5555555555555556,
              "#d8576b"
             ],
             [
              0.6666666666666666,
              "#ed7953"
             ],
             [
              0.7777777777777778,
              "#fb9f3a"
             ],
             [
              0.8888888888888888,
              "#fdca26"
             ],
             [
              1,
              "#f0f921"
             ]
            ],
            "type": "histogram2dcontour"
           }
          ],
          "mesh3d": [
           {
            "colorbar": {
             "outlinewidth": 0,
             "ticks": ""
            },
            "type": "mesh3d"
           }
          ],
          "parcoords": [
           {
            "line": {
             "colorbar": {
              "outlinewidth": 0,
              "ticks": ""
             }
            },
            "type": "parcoords"
           }
          ],
          "pie": [
           {
            "automargin": true,
            "type": "pie"
           }
          ],
          "scatter": [
           {
            "fillpattern": {
             "fillmode": "overlay",
             "size": 10,
             "solidity": 0.2
            },
            "type": "scatter"
           }
          ],
          "scatter3d": [
           {
            "line": {
             "colorbar": {
              "outlinewidth": 0,
              "ticks": ""
             }
            },
            "marker": {
             "colorbar": {
              "outlinewidth": 0,
              "ticks": ""
             }
            },
            "type": "scatter3d"
           }
          ],
          "scattercarpet": [
           {
            "marker": {
             "colorbar": {
              "outlinewidth": 0,
              "ticks": ""
             }
            },
            "type": "scattercarpet"
           }
          ],
          "scattergeo": [
           {
            "marker": {
             "colorbar": {
              "outlinewidth": 0,
              "ticks": ""
             }
            },
            "type": "scattergeo"
           }
          ],
          "scattergl": [
           {
            "marker": {
             "colorbar": {
              "outlinewidth": 0,
              "ticks": ""
             }
            },
            "type": "scattergl"
           }
          ],
          "scattermapbox": [
           {
            "marker": {
             "colorbar": {
              "outlinewidth": 0,
              "ticks": ""
             }
            },
            "type": "scattermapbox"
           }
          ],
          "scatterpolar": [
           {
            "marker": {
             "colorbar": {
              "outlinewidth": 0,
              "ticks": ""
             }
            },
            "type": "scatterpolar"
           }
          ],
          "scatterpolargl": [
           {
            "marker": {
             "colorbar": {
              "outlinewidth": 0,
              "ticks": ""
             }
            },
            "type": "scatterpolargl"
           }
          ],
          "scatterternary": [
           {
            "marker": {
             "colorbar": {
              "outlinewidth": 0,
              "ticks": ""
             }
            },
            "type": "scatterternary"
           }
          ],
          "surface": [
           {
            "colorbar": {
             "outlinewidth": 0,
             "ticks": ""
            },
            "colorscale": [
             [
              0,
              "#0d0887"
             ],
             [
              0.1111111111111111,
              "#46039f"
             ],
             [
              0.2222222222222222,
              "#7201a8"
             ],
             [
              0.3333333333333333,
              "#9c179e"
             ],
             [
              0.4444444444444444,
              "#bd3786"
             ],
             [
              0.5555555555555556,
              "#d8576b"
             ],
             [
              0.6666666666666666,
              "#ed7953"
             ],
             [
              0.7777777777777778,
              "#fb9f3a"
             ],
             [
              0.8888888888888888,
              "#fdca26"
             ],
             [
              1,
              "#f0f921"
             ]
            ],
            "type": "surface"
           }
          ],
          "table": [
           {
            "cells": {
             "fill": {
              "color": "#EBF0F8"
             },
             "line": {
              "color": "white"
             }
            },
            "header": {
             "fill": {
              "color": "#C8D4E3"
             },
             "line": {
              "color": "white"
             }
            },
            "type": "table"
           }
          ]
         },
         "layout": {
          "annotationdefaults": {
           "arrowcolor": "#2a3f5f",
           "arrowhead": 0,
           "arrowwidth": 1
          },
          "autotypenumbers": "strict",
          "coloraxis": {
           "colorbar": {
            "outlinewidth": 0,
            "ticks": ""
           }
          },
          "colorscale": {
           "diverging": [
            [
             0,
             "#8e0152"
            ],
            [
             0.1,
             "#c51b7d"
            ],
            [
             0.2,
             "#de77ae"
            ],
            [
             0.3,
             "#f1b6da"
            ],
            [
             0.4,
             "#fde0ef"
            ],
            [
             0.5,
             "#f7f7f7"
            ],
            [
             0.6,
             "#e6f5d0"
            ],
            [
             0.7,
             "#b8e186"
            ],
            [
             0.8,
             "#7fbc41"
            ],
            [
             0.9,
             "#4d9221"
            ],
            [
             1,
             "#276419"
            ]
           ],
           "sequential": [
            [
             0,
             "#0d0887"
            ],
            [
             0.1111111111111111,
             "#46039f"
            ],
            [
             0.2222222222222222,
             "#7201a8"
            ],
            [
             0.3333333333333333,
             "#9c179e"
            ],
            [
             0.4444444444444444,
             "#bd3786"
            ],
            [
             0.5555555555555556,
             "#d8576b"
            ],
            [
             0.6666666666666666,
             "#ed7953"
            ],
            [
             0.7777777777777778,
             "#fb9f3a"
            ],
            [
             0.8888888888888888,
             "#fdca26"
            ],
            [
             1,
             "#f0f921"
            ]
           ],
           "sequentialminus": [
            [
             0,
             "#0d0887"
            ],
            [
             0.1111111111111111,
             "#46039f"
            ],
            [
             0.2222222222222222,
             "#7201a8"
            ],
            [
             0.3333333333333333,
             "#9c179e"
            ],
            [
             0.4444444444444444,
             "#bd3786"
            ],
            [
             0.5555555555555556,
             "#d8576b"
            ],
            [
             0.6666666666666666,
             "#ed7953"
            ],
            [
             0.7777777777777778,
             "#fb9f3a"
            ],
            [
             0.8888888888888888,
             "#fdca26"
            ],
            [
             1,
             "#f0f921"
            ]
           ]
          },
          "colorway": [
           "#636efa",
           "#EF553B",
           "#00cc96",
           "#ab63fa",
           "#FFA15A",
           "#19d3f3",
           "#FF6692",
           "#B6E880",
           "#FF97FF",
           "#FECB52"
          ],
          "font": {
           "color": "#2a3f5f"
          },
          "geo": {
           "bgcolor": "white",
           "lakecolor": "white",
           "landcolor": "#E5ECF6",
           "showlakes": true,
           "showland": true,
           "subunitcolor": "white"
          },
          "hoverlabel": {
           "align": "left"
          },
          "hovermode": "closest",
          "mapbox": {
           "style": "light"
          },
          "paper_bgcolor": "white",
          "plot_bgcolor": "#E5ECF6",
          "polar": {
           "angularaxis": {
            "gridcolor": "white",
            "linecolor": "white",
            "ticks": ""
           },
           "bgcolor": "#E5ECF6",
           "radialaxis": {
            "gridcolor": "white",
            "linecolor": "white",
            "ticks": ""
           }
          },
          "scene": {
           "xaxis": {
            "backgroundcolor": "#E5ECF6",
            "gridcolor": "white",
            "gridwidth": 2,
            "linecolor": "white",
            "showbackground": true,
            "ticks": "",
            "zerolinecolor": "white"
           },
           "yaxis": {
            "backgroundcolor": "#E5ECF6",
            "gridcolor": "white",
            "gridwidth": 2,
            "linecolor": "white",
            "showbackground": true,
            "ticks": "",
            "zerolinecolor": "white"
           },
           "zaxis": {
            "backgroundcolor": "#E5ECF6",
            "gridcolor": "white",
            "gridwidth": 2,
            "linecolor": "white",
            "showbackground": true,
            "ticks": "",
            "zerolinecolor": "white"
           }
          },
          "shapedefaults": {
           "line": {
            "color": "#2a3f5f"
           }
          },
          "ternary": {
           "aaxis": {
            "gridcolor": "white",
            "linecolor": "white",
            "ticks": ""
           },
           "baxis": {
            "gridcolor": "white",
            "linecolor": "white",
            "ticks": ""
           },
           "bgcolor": "#E5ECF6",
           "caxis": {
            "gridcolor": "white",
            "linecolor": "white",
            "ticks": ""
           }
          },
          "title": {
           "x": 0.05
          },
          "xaxis": {
           "automargin": true,
           "gridcolor": "white",
           "linecolor": "white",
           "ticks": "",
           "title": {
            "standoff": 15
           },
           "zerolinecolor": "white",
           "zerolinewidth": 2
          },
          "yaxis": {
           "automargin": true,
           "gridcolor": "white",
           "linecolor": "white",
           "ticks": "",
           "title": {
            "standoff": 15
           },
           "zerolinecolor": "white",
           "zerolinewidth": 2
          }
         }
        },
        "title": {
         "text": "Population by district"
        },
        "width": 1000,
        "xaxis": {
         "anchor": "y",
         "domain": [
          0,
          1
         ],
         "title": {
          "text": "District"
         }
        },
        "yaxis": {
         "anchor": "x",
         "domain": [
          0,
          1
         ],
         "gridcolor": "lightgray",
         "showgrid": true,
         "title": {
          "text": "Population"
         }
        }
       }
      }
     },
     "metadata": {},
     "output_type": "display_data"
    }
   ],
   "source": [
    "fig = px.bar(paris_pop, x='NOM_COMMUNE', y='P20_POP', title=\"Population by district\", labels={\n",
    "                     \"NOM_COMMUNE\": \"District\",\n",
    "                     \"P20_POP\": \"Population\"},\n",
    "                     height=600,\n",
    "                     width=1000,\n",
    "                     color_discrete_sequence=[\"#F4A460\"])\n",
    "fig.update_layout(\n",
    "    plot_bgcolor=\"white\",   yaxis=dict(\n",
    "        showgrid=True, gridcolor=\"lightgray\"),\n",
    "    )\n",
    "\n",
    "fig.show()"
   ]
  },
  {
   "cell_type": "code",
   "execution_count": 100,
   "metadata": {},
   "outputs": [],
   "source": [
    "paris_pop[\"TP6020\"] = paris_pop[\"TP6020\"].str.replace(r'\\,0', '', regex=True)\n",
    "paris_pop[\"TP6020\"] = pd.to_numeric(paris_pop['TP6020'])"
   ]
  },
  {
   "cell_type": "code",
   "execution_count": 101,
   "metadata": {},
   "outputs": [
    {
     "data": {
      "application/vnd.plotly.v1+json": {
       "config": {
        "plotlyServerURL": "https://plot.ly"
       },
       "data": [
        {
         "alignmentgroup": "True",
         "hovertemplate": "NOM_COMMUNE=%{x}<br>TP6020=%{y}<extra></extra>",
         "legendgroup": "",
         "marker": {
          "color": "#636efa",
          "pattern": {
           "shape": ""
          }
         },
         "name": "",
         "offsetgroup": "",
         "orientation": "v",
         "showlegend": false,
         "textposition": "auto",
         "type": "bar",
         "x": [
          "Paris 1er Arrondissement",
          "Paris 2e Arrondissement",
          "Paris 3e Arrondissement",
          "Paris 4e Arrondissement",
          "Paris 5e Arrondissement",
          "Paris 6e Arrondissement",
          "Paris 7e Arrondissement",
          "Paris 8e Arrondissement",
          "Paris 9e Arrondissement",
          "Paris 10e Arrondissement",
          "Paris 11e Arrondissement",
          "Paris 12e Arrondissement",
          "Paris 13e Arrondissement",
          "Paris 14e Arrondissement",
          "Paris 15e Arrondissement",
          "Paris 16e Arrondissement",
          "Paris 17e Arrondissement",
          "Paris 18e Arrondissement",
          "Paris 19e Arrondissement",
          "Paris 20e Arrondissement"
         ],
         "xaxis": "x",
         "y": [
          12,
          14,
          13,
          14,
          11,
          11,
          9,
          10,
          11,
          17,
          15,
          13,
          17,
          13,
          12,
          11,
          14,
          21,
          22,
          20
         ],
         "yaxis": "y"
        }
       ],
       "layout": {
        "barmode": "relative",
        "legend": {
         "tracegroupgap": 0
        },
        "margin": {
         "t": 60
        },
        "template": {
         "data": {
          "bar": [
           {
            "error_x": {
             "color": "#2a3f5f"
            },
            "error_y": {
             "color": "#2a3f5f"
            },
            "marker": {
             "line": {
              "color": "#E5ECF6",
              "width": 0.5
             },
             "pattern": {
              "fillmode": "overlay",
              "size": 10,
              "solidity": 0.2
             }
            },
            "type": "bar"
           }
          ],
          "barpolar": [
           {
            "marker": {
             "line": {
              "color": "#E5ECF6",
              "width": 0.5
             },
             "pattern": {
              "fillmode": "overlay",
              "size": 10,
              "solidity": 0.2
             }
            },
            "type": "barpolar"
           }
          ],
          "carpet": [
           {
            "aaxis": {
             "endlinecolor": "#2a3f5f",
             "gridcolor": "white",
             "linecolor": "white",
             "minorgridcolor": "white",
             "startlinecolor": "#2a3f5f"
            },
            "baxis": {
             "endlinecolor": "#2a3f5f",
             "gridcolor": "white",
             "linecolor": "white",
             "minorgridcolor": "white",
             "startlinecolor": "#2a3f5f"
            },
            "type": "carpet"
           }
          ],
          "choropleth": [
           {
            "colorbar": {
             "outlinewidth": 0,
             "ticks": ""
            },
            "type": "choropleth"
           }
          ],
          "contour": [
           {
            "colorbar": {
             "outlinewidth": 0,
             "ticks": ""
            },
            "colorscale": [
             [
              0,
              "#0d0887"
             ],
             [
              0.1111111111111111,
              "#46039f"
             ],
             [
              0.2222222222222222,
              "#7201a8"
             ],
             [
              0.3333333333333333,
              "#9c179e"
             ],
             [
              0.4444444444444444,
              "#bd3786"
             ],
             [
              0.5555555555555556,
              "#d8576b"
             ],
             [
              0.6666666666666666,
              "#ed7953"
             ],
             [
              0.7777777777777778,
              "#fb9f3a"
             ],
             [
              0.8888888888888888,
              "#fdca26"
             ],
             [
              1,
              "#f0f921"
             ]
            ],
            "type": "contour"
           }
          ],
          "contourcarpet": [
           {
            "colorbar": {
             "outlinewidth": 0,
             "ticks": ""
            },
            "type": "contourcarpet"
           }
          ],
          "heatmap": [
           {
            "colorbar": {
             "outlinewidth": 0,
             "ticks": ""
            },
            "colorscale": [
             [
              0,
              "#0d0887"
             ],
             [
              0.1111111111111111,
              "#46039f"
             ],
             [
              0.2222222222222222,
              "#7201a8"
             ],
             [
              0.3333333333333333,
              "#9c179e"
             ],
             [
              0.4444444444444444,
              "#bd3786"
             ],
             [
              0.5555555555555556,
              "#d8576b"
             ],
             [
              0.6666666666666666,
              "#ed7953"
             ],
             [
              0.7777777777777778,
              "#fb9f3a"
             ],
             [
              0.8888888888888888,
              "#fdca26"
             ],
             [
              1,
              "#f0f921"
             ]
            ],
            "type": "heatmap"
           }
          ],
          "heatmapgl": [
           {
            "colorbar": {
             "outlinewidth": 0,
             "ticks": ""
            },
            "colorscale": [
             [
              0,
              "#0d0887"
             ],
             [
              0.1111111111111111,
              "#46039f"
             ],
             [
              0.2222222222222222,
              "#7201a8"
             ],
             [
              0.3333333333333333,
              "#9c179e"
             ],
             [
              0.4444444444444444,
              "#bd3786"
             ],
             [
              0.5555555555555556,
              "#d8576b"
             ],
             [
              0.6666666666666666,
              "#ed7953"
             ],
             [
              0.7777777777777778,
              "#fb9f3a"
             ],
             [
              0.8888888888888888,
              "#fdca26"
             ],
             [
              1,
              "#f0f921"
             ]
            ],
            "type": "heatmapgl"
           }
          ],
          "histogram": [
           {
            "marker": {
             "pattern": {
              "fillmode": "overlay",
              "size": 10,
              "solidity": 0.2
             }
            },
            "type": "histogram"
           }
          ],
          "histogram2d": [
           {
            "colorbar": {
             "outlinewidth": 0,
             "ticks": ""
            },
            "colorscale": [
             [
              0,
              "#0d0887"
             ],
             [
              0.1111111111111111,
              "#46039f"
             ],
             [
              0.2222222222222222,
              "#7201a8"
             ],
             [
              0.3333333333333333,
              "#9c179e"
             ],
             [
              0.4444444444444444,
              "#bd3786"
             ],
             [
              0.5555555555555556,
              "#d8576b"
             ],
             [
              0.6666666666666666,
              "#ed7953"
             ],
             [
              0.7777777777777778,
              "#fb9f3a"
             ],
             [
              0.8888888888888888,
              "#fdca26"
             ],
             [
              1,
              "#f0f921"
             ]
            ],
            "type": "histogram2d"
           }
          ],
          "histogram2dcontour": [
           {
            "colorbar": {
             "outlinewidth": 0,
             "ticks": ""
            },
            "colorscale": [
             [
              0,
              "#0d0887"
             ],
             [
              0.1111111111111111,
              "#46039f"
             ],
             [
              0.2222222222222222,
              "#7201a8"
             ],
             [
              0.3333333333333333,
              "#9c179e"
             ],
             [
              0.4444444444444444,
              "#bd3786"
             ],
             [
              0.5555555555555556,
              "#d8576b"
             ],
             [
              0.6666666666666666,
              "#ed7953"
             ],
             [
              0.7777777777777778,
              "#fb9f3a"
             ],
             [
              0.8888888888888888,
              "#fdca26"
             ],
             [
              1,
              "#f0f921"
             ]
            ],
            "type": "histogram2dcontour"
           }
          ],
          "mesh3d": [
           {
            "colorbar": {
             "outlinewidth": 0,
             "ticks": ""
            },
            "type": "mesh3d"
           }
          ],
          "parcoords": [
           {
            "line": {
             "colorbar": {
              "outlinewidth": 0,
              "ticks": ""
             }
            },
            "type": "parcoords"
           }
          ],
          "pie": [
           {
            "automargin": true,
            "type": "pie"
           }
          ],
          "scatter": [
           {
            "fillpattern": {
             "fillmode": "overlay",
             "size": 10,
             "solidity": 0.2
            },
            "type": "scatter"
           }
          ],
          "scatter3d": [
           {
            "line": {
             "colorbar": {
              "outlinewidth": 0,
              "ticks": ""
             }
            },
            "marker": {
             "colorbar": {
              "outlinewidth": 0,
              "ticks": ""
             }
            },
            "type": "scatter3d"
           }
          ],
          "scattercarpet": [
           {
            "marker": {
             "colorbar": {
              "outlinewidth": 0,
              "ticks": ""
             }
            },
            "type": "scattercarpet"
           }
          ],
          "scattergeo": [
           {
            "marker": {
             "colorbar": {
              "outlinewidth": 0,
              "ticks": ""
             }
            },
            "type": "scattergeo"
           }
          ],
          "scattergl": [
           {
            "marker": {
             "colorbar": {
              "outlinewidth": 0,
              "ticks": ""
             }
            },
            "type": "scattergl"
           }
          ],
          "scattermapbox": [
           {
            "marker": {
             "colorbar": {
              "outlinewidth": 0,
              "ticks": ""
             }
            },
            "type": "scattermapbox"
           }
          ],
          "scatterpolar": [
           {
            "marker": {
             "colorbar": {
              "outlinewidth": 0,
              "ticks": ""
             }
            },
            "type": "scatterpolar"
           }
          ],
          "scatterpolargl": [
           {
            "marker": {
             "colorbar": {
              "outlinewidth": 0,
              "ticks": ""
             }
            },
            "type": "scatterpolargl"
           }
          ],
          "scatterternary": [
           {
            "marker": {
             "colorbar": {
              "outlinewidth": 0,
              "ticks": ""
             }
            },
            "type": "scatterternary"
           }
          ],
          "surface": [
           {
            "colorbar": {
             "outlinewidth": 0,
             "ticks": ""
            },
            "colorscale": [
             [
              0,
              "#0d0887"
             ],
             [
              0.1111111111111111,
              "#46039f"
             ],
             [
              0.2222222222222222,
              "#7201a8"
             ],
             [
              0.3333333333333333,
              "#9c179e"
             ],
             [
              0.4444444444444444,
              "#bd3786"
             ],
             [
              0.5555555555555556,
              "#d8576b"
             ],
             [
              0.6666666666666666,
              "#ed7953"
             ],
             [
              0.7777777777777778,
              "#fb9f3a"
             ],
             [
              0.8888888888888888,
              "#fdca26"
             ],
             [
              1,
              "#f0f921"
             ]
            ],
            "type": "surface"
           }
          ],
          "table": [
           {
            "cells": {
             "fill": {
              "color": "#EBF0F8"
             },
             "line": {
              "color": "white"
             }
            },
            "header": {
             "fill": {
              "color": "#C8D4E3"
             },
             "line": {
              "color": "white"
             }
            },
            "type": "table"
           }
          ]
         },
         "layout": {
          "annotationdefaults": {
           "arrowcolor": "#2a3f5f",
           "arrowhead": 0,
           "arrowwidth": 1
          },
          "autotypenumbers": "strict",
          "coloraxis": {
           "colorbar": {
            "outlinewidth": 0,
            "ticks": ""
           }
          },
          "colorscale": {
           "diverging": [
            [
             0,
             "#8e0152"
            ],
            [
             0.1,
             "#c51b7d"
            ],
            [
             0.2,
             "#de77ae"
            ],
            [
             0.3,
             "#f1b6da"
            ],
            [
             0.4,
             "#fde0ef"
            ],
            [
             0.5,
             "#f7f7f7"
            ],
            [
             0.6,
             "#e6f5d0"
            ],
            [
             0.7,
             "#b8e186"
            ],
            [
             0.8,
             "#7fbc41"
            ],
            [
             0.9,
             "#4d9221"
            ],
            [
             1,
             "#276419"
            ]
           ],
           "sequential": [
            [
             0,
             "#0d0887"
            ],
            [
             0.1111111111111111,
             "#46039f"
            ],
            [
             0.2222222222222222,
             "#7201a8"
            ],
            [
             0.3333333333333333,
             "#9c179e"
            ],
            [
             0.4444444444444444,
             "#bd3786"
            ],
            [
             0.5555555555555556,
             "#d8576b"
            ],
            [
             0.6666666666666666,
             "#ed7953"
            ],
            [
             0.7777777777777778,
             "#fb9f3a"
            ],
            [
             0.8888888888888888,
             "#fdca26"
            ],
            [
             1,
             "#f0f921"
            ]
           ],
           "sequentialminus": [
            [
             0,
             "#0d0887"
            ],
            [
             0.1111111111111111,
             "#46039f"
            ],
            [
             0.2222222222222222,
             "#7201a8"
            ],
            [
             0.3333333333333333,
             "#9c179e"
            ],
            [
             0.4444444444444444,
             "#bd3786"
            ],
            [
             0.5555555555555556,
             "#d8576b"
            ],
            [
             0.6666666666666666,
             "#ed7953"
            ],
            [
             0.7777777777777778,
             "#fb9f3a"
            ],
            [
             0.8888888888888888,
             "#fdca26"
            ],
            [
             1,
             "#f0f921"
            ]
           ]
          },
          "colorway": [
           "#636efa",
           "#EF553B",
           "#00cc96",
           "#ab63fa",
           "#FFA15A",
           "#19d3f3",
           "#FF6692",
           "#B6E880",
           "#FF97FF",
           "#FECB52"
          ],
          "font": {
           "color": "#2a3f5f"
          },
          "geo": {
           "bgcolor": "white",
           "lakecolor": "white",
           "landcolor": "#E5ECF6",
           "showlakes": true,
           "showland": true,
           "subunitcolor": "white"
          },
          "hoverlabel": {
           "align": "left"
          },
          "hovermode": "closest",
          "mapbox": {
           "style": "light"
          },
          "paper_bgcolor": "white",
          "plot_bgcolor": "#E5ECF6",
          "polar": {
           "angularaxis": {
            "gridcolor": "white",
            "linecolor": "white",
            "ticks": ""
           },
           "bgcolor": "#E5ECF6",
           "radialaxis": {
            "gridcolor": "white",
            "linecolor": "white",
            "ticks": ""
           }
          },
          "scene": {
           "xaxis": {
            "backgroundcolor": "#E5ECF6",
            "gridcolor": "white",
            "gridwidth": 2,
            "linecolor": "white",
            "showbackground": true,
            "ticks": "",
            "zerolinecolor": "white"
           },
           "yaxis": {
            "backgroundcolor": "#E5ECF6",
            "gridcolor": "white",
            "gridwidth": 2,
            "linecolor": "white",
            "showbackground": true,
            "ticks": "",
            "zerolinecolor": "white"
           },
           "zaxis": {
            "backgroundcolor": "#E5ECF6",
            "gridcolor": "white",
            "gridwidth": 2,
            "linecolor": "white",
            "showbackground": true,
            "ticks": "",
            "zerolinecolor": "white"
           }
          },
          "shapedefaults": {
           "line": {
            "color": "#2a3f5f"
           }
          },
          "ternary": {
           "aaxis": {
            "gridcolor": "white",
            "linecolor": "white",
            "ticks": ""
           },
           "baxis": {
            "gridcolor": "white",
            "linecolor": "white",
            "ticks": ""
           },
           "bgcolor": "#E5ECF6",
           "caxis": {
            "gridcolor": "white",
            "linecolor": "white",
            "ticks": ""
           }
          },
          "title": {
           "x": 0.05
          },
          "xaxis": {
           "automargin": true,
           "gridcolor": "white",
           "linecolor": "white",
           "ticks": "",
           "title": {
            "standoff": 15
           },
           "zerolinecolor": "white",
           "zerolinewidth": 2
          },
          "yaxis": {
           "automargin": true,
           "gridcolor": "white",
           "linecolor": "white",
           "ticks": "",
           "title": {
            "standoff": 15
           },
           "zerolinecolor": "white",
           "zerolinewidth": 2
          }
         }
        },
        "xaxis": {
         "anchor": "y",
         "domain": [
          0,
          1
         ],
         "title": {
          "text": "NOM_COMMUNE"
         }
        },
        "yaxis": {
         "anchor": "x",
         "domain": [
          0,
          1
         ],
         "title": {
          "text": "TP6020"
         }
        }
       }
      }
     },
     "metadata": {},
     "output_type": "display_data"
    }
   ],
   "source": [
    "fig = px.bar(paris_pop, x='NOM_COMMUNE', y='TP6020')\n",
    "fig.show()"
   ]
  },
  {
   "cell_type": "code",
   "execution_count": 102,
   "metadata": {},
   "outputs": [
    {
     "data": {
      "application/vnd.plotly.v1+json": {
       "config": {
        "plotlyServerURL": "https://plot.ly"
       },
       "data": [
        {
         "alignmentgroup": "True",
         "hovertemplate": "variable=P20_ACT1564<br>NOM_COMMUNE=%{x}<br>value=%{y}<extra></extra>",
         "legendgroup": "P20_ACT1564",
         "marker": {
          "color": "#636efa",
          "pattern": {
           "shape": ""
          }
         },
         "name": "P20_ACT1564",
         "offsetgroup": "P20_ACT1564",
         "orientation": "v",
         "showlegend": true,
         "textposition": "auto",
         "type": "bar",
         "x": [
          "Paris 1er Arrondissement",
          "Paris 2e Arrondissement",
          "Paris 3e Arrondissement",
          "Paris 4e Arrondissement",
          "Paris 5e Arrondissement",
          "Paris 6e Arrondissement",
          "Paris 7e Arrondissement",
          "Paris 8e Arrondissement",
          "Paris 9e Arrondissement",
          "Paris 10e Arrondissement",
          "Paris 11e Arrondissement",
          "Paris 12e Arrondissement",
          "Paris 13e Arrondissement",
          "Paris 14e Arrondissement",
          "Paris 15e Arrondissement",
          "Paris 16e Arrondissement",
          "Paris 17e Arrondissement",
          "Paris 18e Arrondissement",
          "Paris 19e Arrondissement",
          "Paris 20e Arrondissement"
         ],
         "xaxis": "x",
         "y": [
          9201.21968648948,
          13877.553049695,
          20203.7328187162,
          16371.5703866132,
          28069.2131176366,
          18112.1544196565,
          23459.8049361468,
          18882.8413562697,
          36570.6153424761,
          49752.7602930724,
          87022.6954994447,
          77460.886083785,
          93781.0568055507,
          69761.5847627565,
          121459.087369389,
          76006.1409964865,
          92936.849755005,
          111467.81965553,
          96792.9273563638,
          104927.37027013
         ],
         "yaxis": "y"
        },
        {
         "alignmentgroup": "True",
         "hovertemplate": "variable=P20_CHOM1564<br>NOM_COMMUNE=%{x}<br>value=%{y}<extra></extra>",
         "legendgroup": "P20_CHOM1564",
         "marker": {
          "color": "#EF553B",
          "pattern": {
           "shape": ""
          }
         },
         "name": "P20_CHOM1564",
         "offsetgroup": "P20_CHOM1564",
         "orientation": "v",
         "showlegend": true,
         "textposition": "auto",
         "type": "bar",
         "x": [
          "Paris 1er Arrondissement",
          "Paris 2e Arrondissement",
          "Paris 3e Arrondissement",
          "Paris 4e Arrondissement",
          "Paris 5e Arrondissement",
          "Paris 6e Arrondissement",
          "Paris 7e Arrondissement",
          "Paris 8e Arrondissement",
          "Paris 9e Arrondissement",
          "Paris 10e Arrondissement",
          "Paris 11e Arrondissement",
          "Paris 12e Arrondissement",
          "Paris 13e Arrondissement",
          "Paris 14e Arrondissement",
          "Paris 15e Arrondissement",
          "Paris 16e Arrondissement",
          "Paris 17e Arrondissement",
          "Paris 18e Arrondissement",
          "Paris 19e Arrondissement",
          "Paris 20e Arrondissement"
         ],
         "xaxis": "x",
         "y": [
          898.232661489608,
          1325.98419289405,
          1974.54031701932,
          1857.15422129856,
          2431.62638113359,
          1635.3640614044,
          1930.41472974185,
          1546.66079111171,
          3369.39309335726,
          5862.24868345687,
          9364.03563146827,
          7591.71617290367,
          11530.4274451782,
          7313.92750756422,
          11704.7349569801,
          7126.24437832851,
          9654.81766500508,
          12818.5036574904,
          14660.229111125,
          14498.958367929
         ],
         "yaxis": "y"
        }
       ],
       "layout": {
        "barmode": "relative",
        "legend": {
         "title": {
          "text": "variable"
         },
         "tracegroupgap": 0
        },
        "template": {
         "data": {
          "bar": [
           {
            "error_x": {
             "color": "#2a3f5f"
            },
            "error_y": {
             "color": "#2a3f5f"
            },
            "marker": {
             "line": {
              "color": "#E5ECF6",
              "width": 0.5
             },
             "pattern": {
              "fillmode": "overlay",
              "size": 10,
              "solidity": 0.2
             }
            },
            "type": "bar"
           }
          ],
          "barpolar": [
           {
            "marker": {
             "line": {
              "color": "#E5ECF6",
              "width": 0.5
             },
             "pattern": {
              "fillmode": "overlay",
              "size": 10,
              "solidity": 0.2
             }
            },
            "type": "barpolar"
           }
          ],
          "carpet": [
           {
            "aaxis": {
             "endlinecolor": "#2a3f5f",
             "gridcolor": "white",
             "linecolor": "white",
             "minorgridcolor": "white",
             "startlinecolor": "#2a3f5f"
            },
            "baxis": {
             "endlinecolor": "#2a3f5f",
             "gridcolor": "white",
             "linecolor": "white",
             "minorgridcolor": "white",
             "startlinecolor": "#2a3f5f"
            },
            "type": "carpet"
           }
          ],
          "choropleth": [
           {
            "colorbar": {
             "outlinewidth": 0,
             "ticks": ""
            },
            "type": "choropleth"
           }
          ],
          "contour": [
           {
            "colorbar": {
             "outlinewidth": 0,
             "ticks": ""
            },
            "colorscale": [
             [
              0,
              "#0d0887"
             ],
             [
              0.1111111111111111,
              "#46039f"
             ],
             [
              0.2222222222222222,
              "#7201a8"
             ],
             [
              0.3333333333333333,
              "#9c179e"
             ],
             [
              0.4444444444444444,
              "#bd3786"
             ],
             [
              0.5555555555555556,
              "#d8576b"
             ],
             [
              0.6666666666666666,
              "#ed7953"
             ],
             [
              0.7777777777777778,
              "#fb9f3a"
             ],
             [
              0.8888888888888888,
              "#fdca26"
             ],
             [
              1,
              "#f0f921"
             ]
            ],
            "type": "contour"
           }
          ],
          "contourcarpet": [
           {
            "colorbar": {
             "outlinewidth": 0,
             "ticks": ""
            },
            "type": "contourcarpet"
           }
          ],
          "heatmap": [
           {
            "colorbar": {
             "outlinewidth": 0,
             "ticks": ""
            },
            "colorscale": [
             [
              0,
              "#0d0887"
             ],
             [
              0.1111111111111111,
              "#46039f"
             ],
             [
              0.2222222222222222,
              "#7201a8"
             ],
             [
              0.3333333333333333,
              "#9c179e"
             ],
             [
              0.4444444444444444,
              "#bd3786"
             ],
             [
              0.5555555555555556,
              "#d8576b"
             ],
             [
              0.6666666666666666,
              "#ed7953"
             ],
             [
              0.7777777777777778,
              "#fb9f3a"
             ],
             [
              0.8888888888888888,
              "#fdca26"
             ],
             [
              1,
              "#f0f921"
             ]
            ],
            "type": "heatmap"
           }
          ],
          "heatmapgl": [
           {
            "colorbar": {
             "outlinewidth": 0,
             "ticks": ""
            },
            "colorscale": [
             [
              0,
              "#0d0887"
             ],
             [
              0.1111111111111111,
              "#46039f"
             ],
             [
              0.2222222222222222,
              "#7201a8"
             ],
             [
              0.3333333333333333,
              "#9c179e"
             ],
             [
              0.4444444444444444,
              "#bd3786"
             ],
             [
              0.5555555555555556,
              "#d8576b"
             ],
             [
              0.6666666666666666,
              "#ed7953"
             ],
             [
              0.7777777777777778,
              "#fb9f3a"
             ],
             [
              0.8888888888888888,
              "#fdca26"
             ],
             [
              1,
              "#f0f921"
             ]
            ],
            "type": "heatmapgl"
           }
          ],
          "histogram": [
           {
            "marker": {
             "pattern": {
              "fillmode": "overlay",
              "size": 10,
              "solidity": 0.2
             }
            },
            "type": "histogram"
           }
          ],
          "histogram2d": [
           {
            "colorbar": {
             "outlinewidth": 0,
             "ticks": ""
            },
            "colorscale": [
             [
              0,
              "#0d0887"
             ],
             [
              0.1111111111111111,
              "#46039f"
             ],
             [
              0.2222222222222222,
              "#7201a8"
             ],
             [
              0.3333333333333333,
              "#9c179e"
             ],
             [
              0.4444444444444444,
              "#bd3786"
             ],
             [
              0.5555555555555556,
              "#d8576b"
             ],
             [
              0.6666666666666666,
              "#ed7953"
             ],
             [
              0.7777777777777778,
              "#fb9f3a"
             ],
             [
              0.8888888888888888,
              "#fdca26"
             ],
             [
              1,
              "#f0f921"
             ]
            ],
            "type": "histogram2d"
           }
          ],
          "histogram2dcontour": [
           {
            "colorbar": {
             "outlinewidth": 0,
             "ticks": ""
            },
            "colorscale": [
             [
              0,
              "#0d0887"
             ],
             [
              0.1111111111111111,
              "#46039f"
             ],
             [
              0.2222222222222222,
              "#7201a8"
             ],
             [
              0.3333333333333333,
              "#9c179e"
             ],
             [
              0.4444444444444444,
              "#bd3786"
             ],
             [
              0.5555555555555556,
              "#d8576b"
             ],
             [
              0.6666666666666666,
              "#ed7953"
             ],
             [
              0.7777777777777778,
              "#fb9f3a"
             ],
             [
              0.8888888888888888,
              "#fdca26"
             ],
             [
              1,
              "#f0f921"
             ]
            ],
            "type": "histogram2dcontour"
           }
          ],
          "mesh3d": [
           {
            "colorbar": {
             "outlinewidth": 0,
             "ticks": ""
            },
            "type": "mesh3d"
           }
          ],
          "parcoords": [
           {
            "line": {
             "colorbar": {
              "outlinewidth": 0,
              "ticks": ""
             }
            },
            "type": "parcoords"
           }
          ],
          "pie": [
           {
            "automargin": true,
            "type": "pie"
           }
          ],
          "scatter": [
           {
            "fillpattern": {
             "fillmode": "overlay",
             "size": 10,
             "solidity": 0.2
            },
            "type": "scatter"
           }
          ],
          "scatter3d": [
           {
            "line": {
             "colorbar": {
              "outlinewidth": 0,
              "ticks": ""
             }
            },
            "marker": {
             "colorbar": {
              "outlinewidth": 0,
              "ticks": ""
             }
            },
            "type": "scatter3d"
           }
          ],
          "scattercarpet": [
           {
            "marker": {
             "colorbar": {
              "outlinewidth": 0,
              "ticks": ""
             }
            },
            "type": "scattercarpet"
           }
          ],
          "scattergeo": [
           {
            "marker": {
             "colorbar": {
              "outlinewidth": 0,
              "ticks": ""
             }
            },
            "type": "scattergeo"
           }
          ],
          "scattergl": [
           {
            "marker": {
             "colorbar": {
              "outlinewidth": 0,
              "ticks": ""
             }
            },
            "type": "scattergl"
           }
          ],
          "scattermapbox": [
           {
            "marker": {
             "colorbar": {
              "outlinewidth": 0,
              "ticks": ""
             }
            },
            "type": "scattermapbox"
           }
          ],
          "scatterpolar": [
           {
            "marker": {
             "colorbar": {
              "outlinewidth": 0,
              "ticks": ""
             }
            },
            "type": "scatterpolar"
           }
          ],
          "scatterpolargl": [
           {
            "marker": {
             "colorbar": {
              "outlinewidth": 0,
              "ticks": ""
             }
            },
            "type": "scatterpolargl"
           }
          ],
          "scatterternary": [
           {
            "marker": {
             "colorbar": {
              "outlinewidth": 0,
              "ticks": ""
             }
            },
            "type": "scatterternary"
           }
          ],
          "surface": [
           {
            "colorbar": {
             "outlinewidth": 0,
             "ticks": ""
            },
            "colorscale": [
             [
              0,
              "#0d0887"
             ],
             [
              0.1111111111111111,
              "#46039f"
             ],
             [
              0.2222222222222222,
              "#7201a8"
             ],
             [
              0.3333333333333333,
              "#9c179e"
             ],
             [
              0.4444444444444444,
              "#bd3786"
             ],
             [
              0.5555555555555556,
              "#d8576b"
             ],
             [
              0.6666666666666666,
              "#ed7953"
             ],
             [
              0.7777777777777778,
              "#fb9f3a"
             ],
             [
              0.8888888888888888,
              "#fdca26"
             ],
             [
              1,
              "#f0f921"
             ]
            ],
            "type": "surface"
           }
          ],
          "table": [
           {
            "cells": {
             "fill": {
              "color": "#EBF0F8"
             },
             "line": {
              "color": "white"
             }
            },
            "header": {
             "fill": {
              "color": "#C8D4E3"
             },
             "line": {
              "color": "white"
             }
            },
            "type": "table"
           }
          ]
         },
         "layout": {
          "annotationdefaults": {
           "arrowcolor": "#2a3f5f",
           "arrowhead": 0,
           "arrowwidth": 1
          },
          "autotypenumbers": "strict",
          "coloraxis": {
           "colorbar": {
            "outlinewidth": 0,
            "ticks": ""
           }
          },
          "colorscale": {
           "diverging": [
            [
             0,
             "#8e0152"
            ],
            [
             0.1,
             "#c51b7d"
            ],
            [
             0.2,
             "#de77ae"
            ],
            [
             0.3,
             "#f1b6da"
            ],
            [
             0.4,
             "#fde0ef"
            ],
            [
             0.5,
             "#f7f7f7"
            ],
            [
             0.6,
             "#e6f5d0"
            ],
            [
             0.7,
             "#b8e186"
            ],
            [
             0.8,
             "#7fbc41"
            ],
            [
             0.9,
             "#4d9221"
            ],
            [
             1,
             "#276419"
            ]
           ],
           "sequential": [
            [
             0,
             "#0d0887"
            ],
            [
             0.1111111111111111,
             "#46039f"
            ],
            [
             0.2222222222222222,
             "#7201a8"
            ],
            [
             0.3333333333333333,
             "#9c179e"
            ],
            [
             0.4444444444444444,
             "#bd3786"
            ],
            [
             0.5555555555555556,
             "#d8576b"
            ],
            [
             0.6666666666666666,
             "#ed7953"
            ],
            [
             0.7777777777777778,
             "#fb9f3a"
            ],
            [
             0.8888888888888888,
             "#fdca26"
            ],
            [
             1,
             "#f0f921"
            ]
           ],
           "sequentialminus": [
            [
             0,
             "#0d0887"
            ],
            [
             0.1111111111111111,
             "#46039f"
            ],
            [
             0.2222222222222222,
             "#7201a8"
            ],
            [
             0.3333333333333333,
             "#9c179e"
            ],
            [
             0.4444444444444444,
             "#bd3786"
            ],
            [
             0.5555555555555556,
             "#d8576b"
            ],
            [
             0.6666666666666666,
             "#ed7953"
            ],
            [
             0.7777777777777778,
             "#fb9f3a"
            ],
            [
             0.8888888888888888,
             "#fdca26"
            ],
            [
             1,
             "#f0f921"
            ]
           ]
          },
          "colorway": [
           "#636efa",
           "#EF553B",
           "#00cc96",
           "#ab63fa",
           "#FFA15A",
           "#19d3f3",
           "#FF6692",
           "#B6E880",
           "#FF97FF",
           "#FECB52"
          ],
          "font": {
           "color": "#2a3f5f"
          },
          "geo": {
           "bgcolor": "white",
           "lakecolor": "white",
           "landcolor": "#E5ECF6",
           "showlakes": true,
           "showland": true,
           "subunitcolor": "white"
          },
          "hoverlabel": {
           "align": "left"
          },
          "hovermode": "closest",
          "mapbox": {
           "style": "light"
          },
          "paper_bgcolor": "white",
          "plot_bgcolor": "#E5ECF6",
          "polar": {
           "angularaxis": {
            "gridcolor": "white",
            "linecolor": "white",
            "ticks": ""
           },
           "bgcolor": "#E5ECF6",
           "radialaxis": {
            "gridcolor": "white",
            "linecolor": "white",
            "ticks": ""
           }
          },
          "scene": {
           "xaxis": {
            "backgroundcolor": "#E5ECF6",
            "gridcolor": "white",
            "gridwidth": 2,
            "linecolor": "white",
            "showbackground": true,
            "ticks": "",
            "zerolinecolor": "white"
           },
           "yaxis": {
            "backgroundcolor": "#E5ECF6",
            "gridcolor": "white",
            "gridwidth": 2,
            "linecolor": "white",
            "showbackground": true,
            "ticks": "",
            "zerolinecolor": "white"
           },
           "zaxis": {
            "backgroundcolor": "#E5ECF6",
            "gridcolor": "white",
            "gridwidth": 2,
            "linecolor": "white",
            "showbackground": true,
            "ticks": "",
            "zerolinecolor": "white"
           }
          },
          "shapedefaults": {
           "line": {
            "color": "#2a3f5f"
           }
          },
          "ternary": {
           "aaxis": {
            "gridcolor": "white",
            "linecolor": "white",
            "ticks": ""
           },
           "baxis": {
            "gridcolor": "white",
            "linecolor": "white",
            "ticks": ""
           },
           "bgcolor": "#E5ECF6",
           "caxis": {
            "gridcolor": "white",
            "linecolor": "white",
            "ticks": ""
           }
          },
          "title": {
           "x": 0.05
          },
          "xaxis": {
           "automargin": true,
           "gridcolor": "white",
           "linecolor": "white",
           "ticks": "",
           "title": {
            "standoff": 15
           },
           "zerolinecolor": "white",
           "zerolinewidth": 2
          },
          "yaxis": {
           "automargin": true,
           "gridcolor": "white",
           "linecolor": "white",
           "ticks": "",
           "title": {
            "standoff": 15
           },
           "zerolinecolor": "white",
           "zerolinewidth": 2
          }
         }
        },
        "title": {
         "text": "Status of population(15-64yo)"
        },
        "xaxis": {
         "anchor": "y",
         "domain": [
          0,
          1
         ],
         "title": {
          "text": "NOM_COMMUNE"
         }
        },
        "yaxis": {
         "anchor": "x",
         "domain": [
          0,
          1
         ],
         "title": {
          "text": "value"
         }
        }
       }
      }
     },
     "metadata": {},
     "output_type": "display_data"
    }
   ],
   "source": [
    "fig = px.bar(paris_pop, x=\"NOM_COMMUNE\", y=[\"P20_ACT1564\", \"P20_CHOM1564\"], title=\"Status of population(15-64yo)\")\n",
    "fig.show()"
   ]
  },
  {
   "cell_type": "code",
   "execution_count": 103,
   "metadata": {},
   "outputs": [
    {
     "data": {
      "application/vnd.plotly.v1+json": {
       "config": {
        "plotlyServerURL": "https://plot.ly"
       },
       "data": [
        {
         "alignmentgroup": "True",
         "hovertemplate": "variable=P20_RSECOCC<br>NOM_COMMUNE=%{x}<br>value=%{y}<extra></extra>",
         "legendgroup": "P20_RSECOCC",
         "marker": {
          "color": "#636efa",
          "pattern": {
           "shape": ""
          }
         },
         "name": "P20_RSECOCC",
         "offsetgroup": "P20_RSECOCC",
         "orientation": "v",
         "showlegend": true,
         "textposition": "auto",
         "type": "bar",
         "x": [
          "Paris 1er Arrondissement",
          "Paris 2e Arrondissement",
          "Paris 3e Arrondissement",
          "Paris 4e Arrondissement",
          "Paris 5e Arrondissement",
          "Paris 6e Arrondissement",
          "Paris 7e Arrondissement",
          "Paris 8e Arrondissement",
          "Paris 9e Arrondissement",
          "Paris 10e Arrondissement",
          "Paris 11e Arrondissement",
          "Paris 12e Arrondissement",
          "Paris 13e Arrondissement",
          "Paris 14e Arrondissement",
          "Paris 15e Arrondissement",
          "Paris 16e Arrondissement",
          "Paris 17e Arrondissement",
          "Paris 18e Arrondissement",
          "Paris 19e Arrondissement",
          "Paris 20e Arrondissement"
         ],
         "xaxis": "x",
         "y": [
          3016.88561570738,
          2928.68908140769,
          4000.42680521071,
          4393.31295297983,
          5796.72565794299,
          7643.03801733629,
          9805.43305095373,
          6247.73743725571,
          5379.924853351,
          5719.60279945263,
          7130.6118732715,
          7211.65137568158,
          6983.35883184772,
          7846.10661735529,
          14883.1556238893,
          12104.6736766864,
          8340.01260526202,
          7976.55853764236,
          3933.01761392666,
          2869.61559173738
         ],
         "yaxis": "y"
        },
        {
         "alignmentgroup": "True",
         "hovertemplate": "variable=P20_RP_PROP<br>NOM_COMMUNE=%{x}<br>value=%{y}<extra></extra>",
         "legendgroup": "P20_RP_PROP",
         "marker": {
          "color": "#EF553B",
          "pattern": {
           "shape": ""
          }
         },
         "name": "P20_RP_PROP",
         "offsetgroup": "P20_RP_PROP",
         "orientation": "v",
         "showlegend": true,
         "textposition": "auto",
         "type": "bar",
         "x": [
          "Paris 1er Arrondissement",
          "Paris 2e Arrondissement",
          "Paris 3e Arrondissement",
          "Paris 4e Arrondissement",
          "Paris 5e Arrondissement",
          "Paris 6e Arrondissement",
          "Paris 7e Arrondissement",
          "Paris 8e Arrondissement",
          "Paris 9e Arrondissement",
          "Paris 10e Arrondissement",
          "Paris 11e Arrondissement",
          "Paris 12e Arrondissement",
          "Paris 13e Arrondissement",
          "Paris 14e Arrondissement",
          "Paris 15e Arrondissement",
          "Paris 16e Arrondissement",
          "Paris 17e Arrondissement",
          "Paris 18e Arrondissement",
          "Paris 19e Arrondissement",
          "Paris 20e Arrondissement"
         ],
         "xaxis": "x",
         "y": [
          3120.0550453441,
          4192.50616538039,
          6859.49366328557,
          5141.48347893335,
          10926.4076297492,
          8710.67106075808,
          10923.0521172344,
          6817.41515030042,
          12804.283086681,
          16452.827752641,
          28779.3752787235,
          23490.2307434042,
          24796.6850076953,
          22195.634969625,
          40116.9039639624,
          36562.8566527188,
          31002.281664413,
          33678.6809262192,
          23937.371958709,
          26966.6529095089
         ],
         "yaxis": "y"
        }
       ],
       "layout": {
        "barmode": "relative",
        "legend": {
         "title": {
          "text": "variable"
         },
         "tracegroupgap": 0
        },
        "template": {
         "data": {
          "bar": [
           {
            "error_x": {
             "color": "#2a3f5f"
            },
            "error_y": {
             "color": "#2a3f5f"
            },
            "marker": {
             "line": {
              "color": "#E5ECF6",
              "width": 0.5
             },
             "pattern": {
              "fillmode": "overlay",
              "size": 10,
              "solidity": 0.2
             }
            },
            "type": "bar"
           }
          ],
          "barpolar": [
           {
            "marker": {
             "line": {
              "color": "#E5ECF6",
              "width": 0.5
             },
             "pattern": {
              "fillmode": "overlay",
              "size": 10,
              "solidity": 0.2
             }
            },
            "type": "barpolar"
           }
          ],
          "carpet": [
           {
            "aaxis": {
             "endlinecolor": "#2a3f5f",
             "gridcolor": "white",
             "linecolor": "white",
             "minorgridcolor": "white",
             "startlinecolor": "#2a3f5f"
            },
            "baxis": {
             "endlinecolor": "#2a3f5f",
             "gridcolor": "white",
             "linecolor": "white",
             "minorgridcolor": "white",
             "startlinecolor": "#2a3f5f"
            },
            "type": "carpet"
           }
          ],
          "choropleth": [
           {
            "colorbar": {
             "outlinewidth": 0,
             "ticks": ""
            },
            "type": "choropleth"
           }
          ],
          "contour": [
           {
            "colorbar": {
             "outlinewidth": 0,
             "ticks": ""
            },
            "colorscale": [
             [
              0,
              "#0d0887"
             ],
             [
              0.1111111111111111,
              "#46039f"
             ],
             [
              0.2222222222222222,
              "#7201a8"
             ],
             [
              0.3333333333333333,
              "#9c179e"
             ],
             [
              0.4444444444444444,
              "#bd3786"
             ],
             [
              0.5555555555555556,
              "#d8576b"
             ],
             [
              0.6666666666666666,
              "#ed7953"
             ],
             [
              0.7777777777777778,
              "#fb9f3a"
             ],
             [
              0.8888888888888888,
              "#fdca26"
             ],
             [
              1,
              "#f0f921"
             ]
            ],
            "type": "contour"
           }
          ],
          "contourcarpet": [
           {
            "colorbar": {
             "outlinewidth": 0,
             "ticks": ""
            },
            "type": "contourcarpet"
           }
          ],
          "heatmap": [
           {
            "colorbar": {
             "outlinewidth": 0,
             "ticks": ""
            },
            "colorscale": [
             [
              0,
              "#0d0887"
             ],
             [
              0.1111111111111111,
              "#46039f"
             ],
             [
              0.2222222222222222,
              "#7201a8"
             ],
             [
              0.3333333333333333,
              "#9c179e"
             ],
             [
              0.4444444444444444,
              "#bd3786"
             ],
             [
              0.5555555555555556,
              "#d8576b"
             ],
             [
              0.6666666666666666,
              "#ed7953"
             ],
             [
              0.7777777777777778,
              "#fb9f3a"
             ],
             [
              0.8888888888888888,
              "#fdca26"
             ],
             [
              1,
              "#f0f921"
             ]
            ],
            "type": "heatmap"
           }
          ],
          "heatmapgl": [
           {
            "colorbar": {
             "outlinewidth": 0,
             "ticks": ""
            },
            "colorscale": [
             [
              0,
              "#0d0887"
             ],
             [
              0.1111111111111111,
              "#46039f"
             ],
             [
              0.2222222222222222,
              "#7201a8"
             ],
             [
              0.3333333333333333,
              "#9c179e"
             ],
             [
              0.4444444444444444,
              "#bd3786"
             ],
             [
              0.5555555555555556,
              "#d8576b"
             ],
             [
              0.6666666666666666,
              "#ed7953"
             ],
             [
              0.7777777777777778,
              "#fb9f3a"
             ],
             [
              0.8888888888888888,
              "#fdca26"
             ],
             [
              1,
              "#f0f921"
             ]
            ],
            "type": "heatmapgl"
           }
          ],
          "histogram": [
           {
            "marker": {
             "pattern": {
              "fillmode": "overlay",
              "size": 10,
              "solidity": 0.2
             }
            },
            "type": "histogram"
           }
          ],
          "histogram2d": [
           {
            "colorbar": {
             "outlinewidth": 0,
             "ticks": ""
            },
            "colorscale": [
             [
              0,
              "#0d0887"
             ],
             [
              0.1111111111111111,
              "#46039f"
             ],
             [
              0.2222222222222222,
              "#7201a8"
             ],
             [
              0.3333333333333333,
              "#9c179e"
             ],
             [
              0.4444444444444444,
              "#bd3786"
             ],
             [
              0.5555555555555556,
              "#d8576b"
             ],
             [
              0.6666666666666666,
              "#ed7953"
             ],
             [
              0.7777777777777778,
              "#fb9f3a"
             ],
             [
              0.8888888888888888,
              "#fdca26"
             ],
             [
              1,
              "#f0f921"
             ]
            ],
            "type": "histogram2d"
           }
          ],
          "histogram2dcontour": [
           {
            "colorbar": {
             "outlinewidth": 0,
             "ticks": ""
            },
            "colorscale": [
             [
              0,
              "#0d0887"
             ],
             [
              0.1111111111111111,
              "#46039f"
             ],
             [
              0.2222222222222222,
              "#7201a8"
             ],
             [
              0.3333333333333333,
              "#9c179e"
             ],
             [
              0.4444444444444444,
              "#bd3786"
             ],
             [
              0.5555555555555556,
              "#d8576b"
             ],
             [
              0.6666666666666666,
              "#ed7953"
             ],
             [
              0.7777777777777778,
              "#fb9f3a"
             ],
             [
              0.8888888888888888,
              "#fdca26"
             ],
             [
              1,
              "#f0f921"
             ]
            ],
            "type": "histogram2dcontour"
           }
          ],
          "mesh3d": [
           {
            "colorbar": {
             "outlinewidth": 0,
             "ticks": ""
            },
            "type": "mesh3d"
           }
          ],
          "parcoords": [
           {
            "line": {
             "colorbar": {
              "outlinewidth": 0,
              "ticks": ""
             }
            },
            "type": "parcoords"
           }
          ],
          "pie": [
           {
            "automargin": true,
            "type": "pie"
           }
          ],
          "scatter": [
           {
            "fillpattern": {
             "fillmode": "overlay",
             "size": 10,
             "solidity": 0.2
            },
            "type": "scatter"
           }
          ],
          "scatter3d": [
           {
            "line": {
             "colorbar": {
              "outlinewidth": 0,
              "ticks": ""
             }
            },
            "marker": {
             "colorbar": {
              "outlinewidth": 0,
              "ticks": ""
             }
            },
            "type": "scatter3d"
           }
          ],
          "scattercarpet": [
           {
            "marker": {
             "colorbar": {
              "outlinewidth": 0,
              "ticks": ""
             }
            },
            "type": "scattercarpet"
           }
          ],
          "scattergeo": [
           {
            "marker": {
             "colorbar": {
              "outlinewidth": 0,
              "ticks": ""
             }
            },
            "type": "scattergeo"
           }
          ],
          "scattergl": [
           {
            "marker": {
             "colorbar": {
              "outlinewidth": 0,
              "ticks": ""
             }
            },
            "type": "scattergl"
           }
          ],
          "scattermapbox": [
           {
            "marker": {
             "colorbar": {
              "outlinewidth": 0,
              "ticks": ""
             }
            },
            "type": "scattermapbox"
           }
          ],
          "scatterpolar": [
           {
            "marker": {
             "colorbar": {
              "outlinewidth": 0,
              "ticks": ""
             }
            },
            "type": "scatterpolar"
           }
          ],
          "scatterpolargl": [
           {
            "marker": {
             "colorbar": {
              "outlinewidth": 0,
              "ticks": ""
             }
            },
            "type": "scatterpolargl"
           }
          ],
          "scatterternary": [
           {
            "marker": {
             "colorbar": {
              "outlinewidth": 0,
              "ticks": ""
             }
            },
            "type": "scatterternary"
           }
          ],
          "surface": [
           {
            "colorbar": {
             "outlinewidth": 0,
             "ticks": ""
            },
            "colorscale": [
             [
              0,
              "#0d0887"
             ],
             [
              0.1111111111111111,
              "#46039f"
             ],
             [
              0.2222222222222222,
              "#7201a8"
             ],
             [
              0.3333333333333333,
              "#9c179e"
             ],
             [
              0.4444444444444444,
              "#bd3786"
             ],
             [
              0.5555555555555556,
              "#d8576b"
             ],
             [
              0.6666666666666666,
              "#ed7953"
             ],
             [
              0.7777777777777778,
              "#fb9f3a"
             ],
             [
              0.8888888888888888,
              "#fdca26"
             ],
             [
              1,
              "#f0f921"
             ]
            ],
            "type": "surface"
           }
          ],
          "table": [
           {
            "cells": {
             "fill": {
              "color": "#EBF0F8"
             },
             "line": {
              "color": "white"
             }
            },
            "header": {
             "fill": {
              "color": "#C8D4E3"
             },
             "line": {
              "color": "white"
             }
            },
            "type": "table"
           }
          ]
         },
         "layout": {
          "annotationdefaults": {
           "arrowcolor": "#2a3f5f",
           "arrowhead": 0,
           "arrowwidth": 1
          },
          "autotypenumbers": "strict",
          "coloraxis": {
           "colorbar": {
            "outlinewidth": 0,
            "ticks": ""
           }
          },
          "colorscale": {
           "diverging": [
            [
             0,
             "#8e0152"
            ],
            [
             0.1,
             "#c51b7d"
            ],
            [
             0.2,
             "#de77ae"
            ],
            [
             0.3,
             "#f1b6da"
            ],
            [
             0.4,
             "#fde0ef"
            ],
            [
             0.5,
             "#f7f7f7"
            ],
            [
             0.6,
             "#e6f5d0"
            ],
            [
             0.7,
             "#b8e186"
            ],
            [
             0.8,
             "#7fbc41"
            ],
            [
             0.9,
             "#4d9221"
            ],
            [
             1,
             "#276419"
            ]
           ],
           "sequential": [
            [
             0,
             "#0d0887"
            ],
            [
             0.1111111111111111,
             "#46039f"
            ],
            [
             0.2222222222222222,
             "#7201a8"
            ],
            [
             0.3333333333333333,
             "#9c179e"
            ],
            [
             0.4444444444444444,
             "#bd3786"
            ],
            [
             0.5555555555555556,
             "#d8576b"
            ],
            [
             0.6666666666666666,
             "#ed7953"
            ],
            [
             0.7777777777777778,
             "#fb9f3a"
            ],
            [
             0.8888888888888888,
             "#fdca26"
            ],
            [
             1,
             "#f0f921"
            ]
           ],
           "sequentialminus": [
            [
             0,
             "#0d0887"
            ],
            [
             0.1111111111111111,
             "#46039f"
            ],
            [
             0.2222222222222222,
             "#7201a8"
            ],
            [
             0.3333333333333333,
             "#9c179e"
            ],
            [
             0.4444444444444444,
             "#bd3786"
            ],
            [
             0.5555555555555556,
             "#d8576b"
            ],
            [
             0.6666666666666666,
             "#ed7953"
            ],
            [
             0.7777777777777778,
             "#fb9f3a"
            ],
            [
             0.8888888888888888,
             "#fdca26"
            ],
            [
             1,
             "#f0f921"
            ]
           ]
          },
          "colorway": [
           "#636efa",
           "#EF553B",
           "#00cc96",
           "#ab63fa",
           "#FFA15A",
           "#19d3f3",
           "#FF6692",
           "#B6E880",
           "#FF97FF",
           "#FECB52"
          ],
          "font": {
           "color": "#2a3f5f"
          },
          "geo": {
           "bgcolor": "white",
           "lakecolor": "white",
           "landcolor": "#E5ECF6",
           "showlakes": true,
           "showland": true,
           "subunitcolor": "white"
          },
          "hoverlabel": {
           "align": "left"
          },
          "hovermode": "closest",
          "mapbox": {
           "style": "light"
          },
          "paper_bgcolor": "white",
          "plot_bgcolor": "#E5ECF6",
          "polar": {
           "angularaxis": {
            "gridcolor": "white",
            "linecolor": "white",
            "ticks": ""
           },
           "bgcolor": "#E5ECF6",
           "radialaxis": {
            "gridcolor": "white",
            "linecolor": "white",
            "ticks": ""
           }
          },
          "scene": {
           "xaxis": {
            "backgroundcolor": "#E5ECF6",
            "gridcolor": "white",
            "gridwidth": 2,
            "linecolor": "white",
            "showbackground": true,
            "ticks": "",
            "zerolinecolor": "white"
           },
           "yaxis": {
            "backgroundcolor": "#E5ECF6",
            "gridcolor": "white",
            "gridwidth": 2,
            "linecolor": "white",
            "showbackground": true,
            "ticks": "",
            "zerolinecolor": "white"
           },
           "zaxis": {
            "backgroundcolor": "#E5ECF6",
            "gridcolor": "white",
            "gridwidth": 2,
            "linecolor": "white",
            "showbackground": true,
            "ticks": "",
            "zerolinecolor": "white"
           }
          },
          "shapedefaults": {
           "line": {
            "color": "#2a3f5f"
           }
          },
          "ternary": {
           "aaxis": {
            "gridcolor": "white",
            "linecolor": "white",
            "ticks": ""
           },
           "baxis": {
            "gridcolor": "white",
            "linecolor": "white",
            "ticks": ""
           },
           "bgcolor": "#E5ECF6",
           "caxis": {
            "gridcolor": "white",
            "linecolor": "white",
            "ticks": ""
           }
          },
          "title": {
           "x": 0.05
          },
          "xaxis": {
           "automargin": true,
           "gridcolor": "white",
           "linecolor": "white",
           "ticks": "",
           "title": {
            "standoff": 15
           },
           "zerolinecolor": "white",
           "zerolinewidth": 2
          },
          "yaxis": {
           "automargin": true,
           "gridcolor": "white",
           "linecolor": "white",
           "ticks": "",
           "title": {
            "standoff": 15
           },
           "zerolinecolor": "white",
           "zerolinewidth": 2
          }
         }
        },
        "title": {
         "text": "PR/SC"
        },
        "xaxis": {
         "anchor": "y",
         "domain": [
          0,
          1
         ],
         "title": {
          "text": "NOM_COMMUNE"
         }
        },
        "yaxis": {
         "anchor": "x",
         "domain": [
          0,
          1
         ],
         "title": {
          "text": "value"
         }
        }
       }
      }
     },
     "metadata": {},
     "output_type": "display_data"
    }
   ],
   "source": [
    "fig = px.bar(paris_pop, x=\"NOM_COMMUNE\", y=[\"P20_RSECOCC\", \"P20_RP_PROP\"], title=\"PR/SC\")\n",
    "fig.show()"
   ]
  },
  {
   "cell_type": "code",
   "execution_count": 104,
   "metadata": {},
   "outputs": [],
   "source": [
    "paris_pop[\"Geo Point\"] = paris_pop[\"Geo Point\"].str.split(\",\")\n",
    "paris_pop[\"latitude\"] = paris_pop[\"Geo Point\"].apply(lambda x: x[0])\n",
    "paris_pop[\"longitude\"] = paris_pop[\"Geo Point\"].apply(lambda x:x[1])\n",
    "paris_pop[\"latitude\"] = pd.to_numeric(paris_pop[\"latitude\"], errors=\"coerce\")\n",
    "paris_pop[\"longitude\"] = pd.to_numeric(paris_pop[\"longitude\"], errors=\"coerce\")"
   ]
  },
  {
   "cell_type": "code",
   "execution_count": 105,
   "metadata": {},
   "outputs": [
    {
     "data": {
      "application/vnd.plotly.v1+json": {
       "config": {
        "plotlyServerURL": "https://plot.ly"
       },
       "data": [
        {
         "customdata": [
          [
           16030
          ],
          [
           21130
          ],
          [
           33402
          ],
          [
           29064
          ],
          [
           57380
          ],
          [
           39625
          ],
          [
           48520
          ],
          [
           35631
          ],
          [
           60168
          ],
          [
           83459
          ],
          [
           144292
          ],
          [
           140311
          ],
          [
           177833
          ],
          [
           133967
          ],
          [
           229472
          ],
          [
           162820
          ],
          [
           166336
          ],
          [
           191135
          ],
          [
           183211
          ],
          [
           192120
          ]
         ],
         "hovertemplate": "<b>%{hovertext}</b><br><br>Population=%{marker.color}<br>latitude=%{lat}<br>longitude=%{lon}<extra></extra>",
         "hovertext": [
          "Paris 1er Arrondissement",
          "Paris 2e Arrondissement",
          "Paris 3e Arrondissement",
          "Paris 4e Arrondissement",
          "Paris 5e Arrondissement",
          "Paris 6e Arrondissement",
          "Paris 7e Arrondissement",
          "Paris 8e Arrondissement",
          "Paris 9e Arrondissement",
          "Paris 10e Arrondissement",
          "Paris 11e Arrondissement",
          "Paris 12e Arrondissement",
          "Paris 13e Arrondissement",
          "Paris 14e Arrondissement",
          "Paris 15e Arrondissement",
          "Paris 16e Arrondissement",
          "Paris 17e Arrondissement",
          "Paris 18e Arrondissement",
          "Paris 19e Arrondissement",
          "Paris 20e Arrondissement"
         ],
         "lat": [
          48.86255033202557,
          48.868266543022486,
          48.86287791016714,
          48.854350994896265,
          48.84445282346432,
          48.84912057035257,
          48.85616577458652,
          48.87272465172666,
          48.877165098330266,
          48.87612933396897,
          48.85905490787064,
          48.83496227343336,
          48.82842454645293,
          48.82926223279041,
          48.84007165276046,
          48.86037372234608,
          48.887331019480285,
          48.89257024376868,
          48.887051579946586,
          48.86345778949738
         ],
         "legendgroup": "",
         "lon": [
          2.3364182945556218,
          2.342785168509819,
          2.359998599994463,
          2.35762422246446,
          2.350706645178763,
          2.3328837930319914,
          2.3121535017842016,
          2.3125576647381223,
          2.337456046124668,
          2.3607151015030867,
          2.380025152577232,
          2.421386756564612,
          2.362253766221805,
          2.3265372671032485,
          2.292836774638188,
          2.2619681109525627,
          2.3067783164453077,
          2.348176243245637,
          2.3848218771032164,
          2.4011557988172
         ],
         "marker": {
          "color": [
           16030,
           21130,
           33402,
           29064,
           57380,
           39625,
           48520,
           35631,
           60168,
           83459,
           144292,
           140311,
           177833,
           133967,
           229472,
           162820,
           166336,
           191135,
           183211,
           192120
          ],
          "coloraxis": "coloraxis",
          "size": [
           16030,
           21130,
           33402,
           29064,
           57380,
           39625,
           48520,
           35631,
           60168,
           83459,
           144292,
           140311,
           177833,
           133967,
           229472,
           162820,
           166336,
           191135,
           183211,
           192120
          ],
          "sizemode": "area",
          "sizeref": 573.68
         },
         "mode": "markers",
         "name": "",
         "showlegend": false,
         "subplot": "mapbox",
         "type": "scattermapbox"
        }
       ],
       "layout": {
        "coloraxis": {
         "colorbar": {
          "title": {
           "text": "Population"
          }
         },
         "colorscale": [
          [
           0,
           "#0d0887"
          ],
          [
           0.1111111111111111,
           "#46039f"
          ],
          [
           0.2222222222222222,
           "#7201a8"
          ],
          [
           0.3333333333333333,
           "#9c179e"
          ],
          [
           0.4444444444444444,
           "#bd3786"
          ],
          [
           0.5555555555555556,
           "#d8576b"
          ],
          [
           0.6666666666666666,
           "#ed7953"
          ],
          [
           0.7777777777777778,
           "#fb9f3a"
          ],
          [
           0.8888888888888888,
           "#fdca26"
          ],
          [
           1,
           "#f0f921"
          ]
         ]
        },
        "height": 500,
        "legend": {
         "itemsizing": "constant",
         "tracegroupgap": 0
        },
        "mapbox": {
         "center": {
          "lat": 48.860318200044375,
          "lon": 2.3444619550777106
         },
         "domain": {
          "x": [
           0,
           1
          ],
          "y": [
           0,
           1
          ]
         },
         "style": "carto-positron",
         "zoom": 11
        },
        "margin": {
         "t": 60
        },
        "template": {
         "data": {
          "bar": [
           {
            "error_x": {
             "color": "#2a3f5f"
            },
            "error_y": {
             "color": "#2a3f5f"
            },
            "marker": {
             "line": {
              "color": "#E5ECF6",
              "width": 0.5
             },
             "pattern": {
              "fillmode": "overlay",
              "size": 10,
              "solidity": 0.2
             }
            },
            "type": "bar"
           }
          ],
          "barpolar": [
           {
            "marker": {
             "line": {
              "color": "#E5ECF6",
              "width": 0.5
             },
             "pattern": {
              "fillmode": "overlay",
              "size": 10,
              "solidity": 0.2
             }
            },
            "type": "barpolar"
           }
          ],
          "carpet": [
           {
            "aaxis": {
             "endlinecolor": "#2a3f5f",
             "gridcolor": "white",
             "linecolor": "white",
             "minorgridcolor": "white",
             "startlinecolor": "#2a3f5f"
            },
            "baxis": {
             "endlinecolor": "#2a3f5f",
             "gridcolor": "white",
             "linecolor": "white",
             "minorgridcolor": "white",
             "startlinecolor": "#2a3f5f"
            },
            "type": "carpet"
           }
          ],
          "choropleth": [
           {
            "colorbar": {
             "outlinewidth": 0,
             "ticks": ""
            },
            "type": "choropleth"
           }
          ],
          "contour": [
           {
            "colorbar": {
             "outlinewidth": 0,
             "ticks": ""
            },
            "colorscale": [
             [
              0,
              "#0d0887"
             ],
             [
              0.1111111111111111,
              "#46039f"
             ],
             [
              0.2222222222222222,
              "#7201a8"
             ],
             [
              0.3333333333333333,
              "#9c179e"
             ],
             [
              0.4444444444444444,
              "#bd3786"
             ],
             [
              0.5555555555555556,
              "#d8576b"
             ],
             [
              0.6666666666666666,
              "#ed7953"
             ],
             [
              0.7777777777777778,
              "#fb9f3a"
             ],
             [
              0.8888888888888888,
              "#fdca26"
             ],
             [
              1,
              "#f0f921"
             ]
            ],
            "type": "contour"
           }
          ],
          "contourcarpet": [
           {
            "colorbar": {
             "outlinewidth": 0,
             "ticks": ""
            },
            "type": "contourcarpet"
           }
          ],
          "heatmap": [
           {
            "colorbar": {
             "outlinewidth": 0,
             "ticks": ""
            },
            "colorscale": [
             [
              0,
              "#0d0887"
             ],
             [
              0.1111111111111111,
              "#46039f"
             ],
             [
              0.2222222222222222,
              "#7201a8"
             ],
             [
              0.3333333333333333,
              "#9c179e"
             ],
             [
              0.4444444444444444,
              "#bd3786"
             ],
             [
              0.5555555555555556,
              "#d8576b"
             ],
             [
              0.6666666666666666,
              "#ed7953"
             ],
             [
              0.7777777777777778,
              "#fb9f3a"
             ],
             [
              0.8888888888888888,
              "#fdca26"
             ],
             [
              1,
              "#f0f921"
             ]
            ],
            "type": "heatmap"
           }
          ],
          "heatmapgl": [
           {
            "colorbar": {
             "outlinewidth": 0,
             "ticks": ""
            },
            "colorscale": [
             [
              0,
              "#0d0887"
             ],
             [
              0.1111111111111111,
              "#46039f"
             ],
             [
              0.2222222222222222,
              "#7201a8"
             ],
             [
              0.3333333333333333,
              "#9c179e"
             ],
             [
              0.4444444444444444,
              "#bd3786"
             ],
             [
              0.5555555555555556,
              "#d8576b"
             ],
             [
              0.6666666666666666,
              "#ed7953"
             ],
             [
              0.7777777777777778,
              "#fb9f3a"
             ],
             [
              0.8888888888888888,
              "#fdca26"
             ],
             [
              1,
              "#f0f921"
             ]
            ],
            "type": "heatmapgl"
           }
          ],
          "histogram": [
           {
            "marker": {
             "pattern": {
              "fillmode": "overlay",
              "size": 10,
              "solidity": 0.2
             }
            },
            "type": "histogram"
           }
          ],
          "histogram2d": [
           {
            "colorbar": {
             "outlinewidth": 0,
             "ticks": ""
            },
            "colorscale": [
             [
              0,
              "#0d0887"
             ],
             [
              0.1111111111111111,
              "#46039f"
             ],
             [
              0.2222222222222222,
              "#7201a8"
             ],
             [
              0.3333333333333333,
              "#9c179e"
             ],
             [
              0.4444444444444444,
              "#bd3786"
             ],
             [
              0.5555555555555556,
              "#d8576b"
             ],
             [
              0.6666666666666666,
              "#ed7953"
             ],
             [
              0.7777777777777778,
              "#fb9f3a"
             ],
             [
              0.8888888888888888,
              "#fdca26"
             ],
             [
              1,
              "#f0f921"
             ]
            ],
            "type": "histogram2d"
           }
          ],
          "histogram2dcontour": [
           {
            "colorbar": {
             "outlinewidth": 0,
             "ticks": ""
            },
            "colorscale": [
             [
              0,
              "#0d0887"
             ],
             [
              0.1111111111111111,
              "#46039f"
             ],
             [
              0.2222222222222222,
              "#7201a8"
             ],
             [
              0.3333333333333333,
              "#9c179e"
             ],
             [
              0.4444444444444444,
              "#bd3786"
             ],
             [
              0.5555555555555556,
              "#d8576b"
             ],
             [
              0.6666666666666666,
              "#ed7953"
             ],
             [
              0.7777777777777778,
              "#fb9f3a"
             ],
             [
              0.8888888888888888,
              "#fdca26"
             ],
             [
              1,
              "#f0f921"
             ]
            ],
            "type": "histogram2dcontour"
           }
          ],
          "mesh3d": [
           {
            "colorbar": {
             "outlinewidth": 0,
             "ticks": ""
            },
            "type": "mesh3d"
           }
          ],
          "parcoords": [
           {
            "line": {
             "colorbar": {
              "outlinewidth": 0,
              "ticks": ""
             }
            },
            "type": "parcoords"
           }
          ],
          "pie": [
           {
            "automargin": true,
            "type": "pie"
           }
          ],
          "scatter": [
           {
            "fillpattern": {
             "fillmode": "overlay",
             "size": 10,
             "solidity": 0.2
            },
            "type": "scatter"
           }
          ],
          "scatter3d": [
           {
            "line": {
             "colorbar": {
              "outlinewidth": 0,
              "ticks": ""
             }
            },
            "marker": {
             "colorbar": {
              "outlinewidth": 0,
              "ticks": ""
             }
            },
            "type": "scatter3d"
           }
          ],
          "scattercarpet": [
           {
            "marker": {
             "colorbar": {
              "outlinewidth": 0,
              "ticks": ""
             }
            },
            "type": "scattercarpet"
           }
          ],
          "scattergeo": [
           {
            "marker": {
             "colorbar": {
              "outlinewidth": 0,
              "ticks": ""
             }
            },
            "type": "scattergeo"
           }
          ],
          "scattergl": [
           {
            "marker": {
             "colorbar": {
              "outlinewidth": 0,
              "ticks": ""
             }
            },
            "type": "scattergl"
           }
          ],
          "scattermapbox": [
           {
            "marker": {
             "colorbar": {
              "outlinewidth": 0,
              "ticks": ""
             }
            },
            "type": "scattermapbox"
           }
          ],
          "scatterpolar": [
           {
            "marker": {
             "colorbar": {
              "outlinewidth": 0,
              "ticks": ""
             }
            },
            "type": "scatterpolar"
           }
          ],
          "scatterpolargl": [
           {
            "marker": {
             "colorbar": {
              "outlinewidth": 0,
              "ticks": ""
             }
            },
            "type": "scatterpolargl"
           }
          ],
          "scatterternary": [
           {
            "marker": {
             "colorbar": {
              "outlinewidth": 0,
              "ticks": ""
             }
            },
            "type": "scatterternary"
           }
          ],
          "surface": [
           {
            "colorbar": {
             "outlinewidth": 0,
             "ticks": ""
            },
            "colorscale": [
             [
              0,
              "#0d0887"
             ],
             [
              0.1111111111111111,
              "#46039f"
             ],
             [
              0.2222222222222222,
              "#7201a8"
             ],
             [
              0.3333333333333333,
              "#9c179e"
             ],
             [
              0.4444444444444444,
              "#bd3786"
             ],
             [
              0.5555555555555556,
              "#d8576b"
             ],
             [
              0.6666666666666666,
              "#ed7953"
             ],
             [
              0.7777777777777778,
              "#fb9f3a"
             ],
             [
              0.8888888888888888,
              "#fdca26"
             ],
             [
              1,
              "#f0f921"
             ]
            ],
            "type": "surface"
           }
          ],
          "table": [
           {
            "cells": {
             "fill": {
              "color": "#EBF0F8"
             },
             "line": {
              "color": "white"
             }
            },
            "header": {
             "fill": {
              "color": "#C8D4E3"
             },
             "line": {
              "color": "white"
             }
            },
            "type": "table"
           }
          ]
         },
         "layout": {
          "annotationdefaults": {
           "arrowcolor": "#2a3f5f",
           "arrowhead": 0,
           "arrowwidth": 1
          },
          "autotypenumbers": "strict",
          "coloraxis": {
           "colorbar": {
            "outlinewidth": 0,
            "ticks": ""
           }
          },
          "colorscale": {
           "diverging": [
            [
             0,
             "#8e0152"
            ],
            [
             0.1,
             "#c51b7d"
            ],
            [
             0.2,
             "#de77ae"
            ],
            [
             0.3,
             "#f1b6da"
            ],
            [
             0.4,
             "#fde0ef"
            ],
            [
             0.5,
             "#f7f7f7"
            ],
            [
             0.6,
             "#e6f5d0"
            ],
            [
             0.7,
             "#b8e186"
            ],
            [
             0.8,
             "#7fbc41"
            ],
            [
             0.9,
             "#4d9221"
            ],
            [
             1,
             "#276419"
            ]
           ],
           "sequential": [
            [
             0,
             "#0d0887"
            ],
            [
             0.1111111111111111,
             "#46039f"
            ],
            [
             0.2222222222222222,
             "#7201a8"
            ],
            [
             0.3333333333333333,
             "#9c179e"
            ],
            [
             0.4444444444444444,
             "#bd3786"
            ],
            [
             0.5555555555555556,
             "#d8576b"
            ],
            [
             0.6666666666666666,
             "#ed7953"
            ],
            [
             0.7777777777777778,
             "#fb9f3a"
            ],
            [
             0.8888888888888888,
             "#fdca26"
            ],
            [
             1,
             "#f0f921"
            ]
           ],
           "sequentialminus": [
            [
             0,
             "#0d0887"
            ],
            [
             0.1111111111111111,
             "#46039f"
            ],
            [
             0.2222222222222222,
             "#7201a8"
            ],
            [
             0.3333333333333333,
             "#9c179e"
            ],
            [
             0.4444444444444444,
             "#bd3786"
            ],
            [
             0.5555555555555556,
             "#d8576b"
            ],
            [
             0.6666666666666666,
             "#ed7953"
            ],
            [
             0.7777777777777778,
             "#fb9f3a"
            ],
            [
             0.8888888888888888,
             "#fdca26"
            ],
            [
             1,
             "#f0f921"
            ]
           ]
          },
          "colorway": [
           "#636efa",
           "#EF553B",
           "#00cc96",
           "#ab63fa",
           "#FFA15A",
           "#19d3f3",
           "#FF6692",
           "#B6E880",
           "#FF97FF",
           "#FECB52"
          ],
          "font": {
           "color": "#2a3f5f"
          },
          "geo": {
           "bgcolor": "white",
           "lakecolor": "white",
           "landcolor": "#E5ECF6",
           "showlakes": true,
           "showland": true,
           "subunitcolor": "white"
          },
          "hoverlabel": {
           "align": "left"
          },
          "hovermode": "closest",
          "mapbox": {
           "style": "light"
          },
          "paper_bgcolor": "white",
          "plot_bgcolor": "#E5ECF6",
          "polar": {
           "angularaxis": {
            "gridcolor": "white",
            "linecolor": "white",
            "ticks": ""
           },
           "bgcolor": "#E5ECF6",
           "radialaxis": {
            "gridcolor": "white",
            "linecolor": "white",
            "ticks": ""
           }
          },
          "scene": {
           "xaxis": {
            "backgroundcolor": "#E5ECF6",
            "gridcolor": "white",
            "gridwidth": 2,
            "linecolor": "white",
            "showbackground": true,
            "ticks": "",
            "zerolinecolor": "white"
           },
           "yaxis": {
            "backgroundcolor": "#E5ECF6",
            "gridcolor": "white",
            "gridwidth": 2,
            "linecolor": "white",
            "showbackground": true,
            "ticks": "",
            "zerolinecolor": "white"
           },
           "zaxis": {
            "backgroundcolor": "#E5ECF6",
            "gridcolor": "white",
            "gridwidth": 2,
            "linecolor": "white",
            "showbackground": true,
            "ticks": "",
            "zerolinecolor": "white"
           }
          },
          "shapedefaults": {
           "line": {
            "color": "#2a3f5f"
           }
          },
          "ternary": {
           "aaxis": {
            "gridcolor": "white",
            "linecolor": "white",
            "ticks": ""
           },
           "baxis": {
            "gridcolor": "white",
            "linecolor": "white",
            "ticks": ""
           },
           "bgcolor": "#E5ECF6",
           "caxis": {
            "gridcolor": "white",
            "linecolor": "white",
            "ticks": ""
           }
          },
          "title": {
           "x": 0.05
          },
          "xaxis": {
           "automargin": true,
           "gridcolor": "white",
           "linecolor": "white",
           "ticks": "",
           "title": {
            "standoff": 15
           },
           "zerolinecolor": "white",
           "zerolinewidth": 2
          },
          "yaxis": {
           "automargin": true,
           "gridcolor": "white",
           "linecolor": "white",
           "ticks": "",
           "title": {
            "standoff": 15
           },
           "zerolinecolor": "white",
           "zerolinewidth": 2
          }
         }
        },
        "width": 800
       }
      }
     },
     "metadata": {},
     "output_type": "display_data"
    }
   ],
   "source": [
    "fig = px.scatter_mapbox(\n",
    "    paris_pop, \n",
    "    lat=\"latitude\",\n",
    "    lon=\"longitude\", \n",
    "    size=\"P20_POP\",  \n",
    "    hover_name=\"NOM_COMMUNE\",\n",
    "    hover_data={\"P20_POP\": True},\n",
    "    color=\"P20_POP\",\n",
    "    zoom=11,  \n",
    "    mapbox_style=\"carto-positron\",height=500,\n",
    "                     width=800,labels={\"P20_POP\": \"Population\"})\n",
    "\n",
    "fig.show()"
   ]
  },
  {
   "cell_type": "code",
   "execution_count": 106,
   "metadata": {},
   "outputs": [
    {
     "data": {
      "text/plain": [
       "1144    12\n",
       "277     14\n",
       "143     13\n",
       "1284    14\n",
       "776     11\n",
       "400     11\n",
       "1145     9\n",
       "531     10\n",
       "1146    11\n",
       "401     17\n",
       "278     15\n",
       "532     13\n",
       "144     17\n",
       "1147    13\n",
       "533     12\n",
       "1015    11\n",
       "1285    14\n",
       "1286    21\n",
       "1148    22\n",
       "145     20\n",
       "Name: TP6020, dtype: int64"
      ]
     },
     "execution_count": 106,
     "metadata": {},
     "output_type": "execute_result"
    }
   ],
   "source": [
    "paris_pop[\"TP6020\"]"
   ]
  },
  {
   "cell_type": "code",
   "execution_count": 107,
   "metadata": {},
   "outputs": [],
   "source": [
    "# Crminality in Paris\n",
    "crimenes = pd.read_csv(\"donnee-dep-data.gouv-2024-geographie2024-produit-le2025-01-26.csv\", delimiter=\";\")\n",
    "crimes_paris = crimenes[crimenes[\"Code_departement\"] == \"75\"]"
   ]
  },
  {
   "cell_type": "code",
   "execution_count": 108,
   "metadata": {},
   "outputs": [
    {
     "data": {
      "text/plain": [
       "Index(['Code_departement', 'Code_region', 'annee', 'indicateur',\n",
       "       'unite_de_compte', 'nombre', 'taux_pour_mille', 'insee_pop',\n",
       "       'insee_pop_millesime', 'insee_log', 'insee_log_millesime'],\n",
       "      dtype='object')"
      ]
     },
     "execution_count": 108,
     "metadata": {},
     "output_type": "execute_result"
    }
   ],
   "source": [
    "crimes_paris.columns"
   ]
  },
  {
   "cell_type": "code",
   "execution_count": 109,
   "metadata": {},
   "outputs": [
    {
     "data": {
      "text/html": [
       "<div>\n",
       "<style scoped>\n",
       "    .dataframe tbody tr th:only-of-type {\n",
       "        vertical-align: middle;\n",
       "    }\n",
       "\n",
       "    .dataframe tbody tr th {\n",
       "        vertical-align: top;\n",
       "    }\n",
       "\n",
       "    .dataframe thead th {\n",
       "        text-align: right;\n",
       "    }\n",
       "</style>\n",
       "<table border=\"1\" class=\"dataframe\">\n",
       "  <thead>\n",
       "    <tr style=\"text-align: right;\">\n",
       "      <th></th>\n",
       "      <th>Code_departement</th>\n",
       "      <th>Code_region</th>\n",
       "      <th>annee</th>\n",
       "      <th>indicateur</th>\n",
       "      <th>unite_de_compte</th>\n",
       "      <th>nombre</th>\n",
       "      <th>taux_pour_mille</th>\n",
       "      <th>insee_pop</th>\n",
       "      <th>insee_pop_millesime</th>\n",
       "      <th>insee_log</th>\n",
       "      <th>insee_log_millesime</th>\n",
       "    </tr>\n",
       "  </thead>\n",
       "  <tbody>\n",
       "    <tr>\n",
       "      <th>883</th>\n",
       "      <td>75</td>\n",
       "      <td>11</td>\n",
       "      <td>2024</td>\n",
       "      <td>Homicides</td>\n",
       "      <td>Victime</td>\n",
       "      <td>34</td>\n",
       "      <td>0,0160855</td>\n",
       "      <td>2113705</td>\n",
       "      <td>2022</td>\n",
       "      <td>1396753</td>\n",
       "      <td>2021</td>\n",
       "    </tr>\n",
       "    <tr>\n",
       "      <th>1792</th>\n",
       "      <td>75</td>\n",
       "      <td>11</td>\n",
       "      <td>2024</td>\n",
       "      <td>Tentatives d'homicides</td>\n",
       "      <td>Victime</td>\n",
       "      <td>187</td>\n",
       "      <td>0,0884702</td>\n",
       "      <td>2113705</td>\n",
       "      <td>2022</td>\n",
       "      <td>1396753</td>\n",
       "      <td>2021</td>\n",
       "    </tr>\n",
       "    <tr>\n",
       "      <th>2701</th>\n",
       "      <td>75</td>\n",
       "      <td>11</td>\n",
       "      <td>2024</td>\n",
       "      <td>Coups et blessures volontaires</td>\n",
       "      <td>Victime</td>\n",
       "      <td>12729</td>\n",
       "      <td>6,0221270</td>\n",
       "      <td>2113705</td>\n",
       "      <td>2022</td>\n",
       "      <td>1396753</td>\n",
       "      <td>2021</td>\n",
       "    </tr>\n",
       "    <tr>\n",
       "      <th>3610</th>\n",
       "      <td>75</td>\n",
       "      <td>11</td>\n",
       "      <td>2024</td>\n",
       "      <td>Coups et blessures volontaires intrafamiliaux</td>\n",
       "      <td>Victime</td>\n",
       "      <td>5307</td>\n",
       "      <td>2,5107572</td>\n",
       "      <td>2113705</td>\n",
       "      <td>2022</td>\n",
       "      <td>1396753</td>\n",
       "      <td>2021</td>\n",
       "    </tr>\n",
       "    <tr>\n",
       "      <th>4519</th>\n",
       "      <td>75</td>\n",
       "      <td>11</td>\n",
       "      <td>2024</td>\n",
       "      <td>Autres coups et blessures volontaires</td>\n",
       "      <td>Victime</td>\n",
       "      <td>7422</td>\n",
       "      <td>3,5113698</td>\n",
       "      <td>2113705</td>\n",
       "      <td>2022</td>\n",
       "      <td>1396753</td>\n",
       "      <td>2021</td>\n",
       "    </tr>\n",
       "    <tr>\n",
       "      <th>5428</th>\n",
       "      <td>75</td>\n",
       "      <td>11</td>\n",
       "      <td>2024</td>\n",
       "      <td>Violences sexuelles</td>\n",
       "      <td>Victime</td>\n",
       "      <td>5877</td>\n",
       "      <td>2,7804258</td>\n",
       "      <td>2113705</td>\n",
       "      <td>2022</td>\n",
       "      <td>1396753</td>\n",
       "      <td>2021</td>\n",
       "    </tr>\n",
       "    <tr>\n",
       "      <th>6337</th>\n",
       "      <td>75</td>\n",
       "      <td>11</td>\n",
       "      <td>2024</td>\n",
       "      <td>Vols avec armes</td>\n",
       "      <td>Infraction</td>\n",
       "      <td>369</td>\n",
       "      <td>0,1745750</td>\n",
       "      <td>2113705</td>\n",
       "      <td>2022</td>\n",
       "      <td>1396753</td>\n",
       "      <td>2021</td>\n",
       "    </tr>\n",
       "    <tr>\n",
       "      <th>7246</th>\n",
       "      <td>75</td>\n",
       "      <td>11</td>\n",
       "      <td>2024</td>\n",
       "      <td>Vols violents sans arme</td>\n",
       "      <td>Infraction</td>\n",
       "      <td>7433</td>\n",
       "      <td>3,5165740</td>\n",
       "      <td>2113705</td>\n",
       "      <td>2022</td>\n",
       "      <td>1396753</td>\n",
       "      <td>2021</td>\n",
       "    </tr>\n",
       "    <tr>\n",
       "      <th>8155</th>\n",
       "      <td>75</td>\n",
       "      <td>11</td>\n",
       "      <td>2024</td>\n",
       "      <td>Vols sans violence contre des personnes</td>\n",
       "      <td>Victime entendue</td>\n",
       "      <td>99076</td>\n",
       "      <td>46,8731445</td>\n",
       "      <td>2113705</td>\n",
       "      <td>2022</td>\n",
       "      <td>1396753</td>\n",
       "      <td>2021</td>\n",
       "    </tr>\n",
       "    <tr>\n",
       "      <th>9064</th>\n",
       "      <td>75</td>\n",
       "      <td>11</td>\n",
       "      <td>2024</td>\n",
       "      <td>Cambriolages de logement</td>\n",
       "      <td>Infraction</td>\n",
       "      <td>9249</td>\n",
       "      <td>6,6217857</td>\n",
       "      <td>2113705</td>\n",
       "      <td>2022</td>\n",
       "      <td>1396753</td>\n",
       "      <td>2021</td>\n",
       "    </tr>\n",
       "    <tr>\n",
       "      <th>9973</th>\n",
       "      <td>75</td>\n",
       "      <td>11</td>\n",
       "      <td>2024</td>\n",
       "      <td>Vols de véhicules</td>\n",
       "      <td>Véhicule</td>\n",
       "      <td>3955</td>\n",
       "      <td>1,8711220</td>\n",
       "      <td>2113705</td>\n",
       "      <td>2022</td>\n",
       "      <td>1396753</td>\n",
       "      <td>2021</td>\n",
       "    </tr>\n",
       "    <tr>\n",
       "      <th>10882</th>\n",
       "      <td>75</td>\n",
       "      <td>11</td>\n",
       "      <td>2024</td>\n",
       "      <td>Vols dans les véhicules</td>\n",
       "      <td>Véhicule</td>\n",
       "      <td>14813</td>\n",
       "      <td>7,0080735</td>\n",
       "      <td>2113705</td>\n",
       "      <td>2022</td>\n",
       "      <td>1396753</td>\n",
       "      <td>2021</td>\n",
       "    </tr>\n",
       "    <tr>\n",
       "      <th>11791</th>\n",
       "      <td>75</td>\n",
       "      <td>11</td>\n",
       "      <td>2024</td>\n",
       "      <td>Vols d'accessoires sur véhicules</td>\n",
       "      <td>Véhicule</td>\n",
       "      <td>2296</td>\n",
       "      <td>1,0862443</td>\n",
       "      <td>2113705</td>\n",
       "      <td>2022</td>\n",
       "      <td>1396753</td>\n",
       "      <td>2021</td>\n",
       "    </tr>\n",
       "    <tr>\n",
       "      <th>12700</th>\n",
       "      <td>75</td>\n",
       "      <td>11</td>\n",
       "      <td>2024</td>\n",
       "      <td>Destructions et dégradations volontaires</td>\n",
       "      <td>Infraction</td>\n",
       "      <td>17888</td>\n",
       "      <td>8,4628650</td>\n",
       "      <td>2113705</td>\n",
       "      <td>2022</td>\n",
       "      <td>1396753</td>\n",
       "      <td>2021</td>\n",
       "    </tr>\n",
       "    <tr>\n",
       "      <th>13609</th>\n",
       "      <td>75</td>\n",
       "      <td>11</td>\n",
       "      <td>2024</td>\n",
       "      <td>Escroqueries</td>\n",
       "      <td>Victime</td>\n",
       "      <td>24099</td>\n",
       "      <td>11,4013072</td>\n",
       "      <td>2113705</td>\n",
       "      <td>2022</td>\n",
       "      <td>1396753</td>\n",
       "      <td>2021</td>\n",
       "    </tr>\n",
       "    <tr>\n",
       "      <th>14518</th>\n",
       "      <td>75</td>\n",
       "      <td>11</td>\n",
       "      <td>2024</td>\n",
       "      <td>Trafic de stupéfiants</td>\n",
       "      <td>Mis en cause</td>\n",
       "      <td>4888</td>\n",
       "      <td>2,3125271</td>\n",
       "      <td>2113705</td>\n",
       "      <td>2022</td>\n",
       "      <td>1396753</td>\n",
       "      <td>2021</td>\n",
       "    </tr>\n",
       "    <tr>\n",
       "      <th>15427</th>\n",
       "      <td>75</td>\n",
       "      <td>11</td>\n",
       "      <td>2024</td>\n",
       "      <td>Usage de stupéfiants</td>\n",
       "      <td>Mis en cause</td>\n",
       "      <td>29799</td>\n",
       "      <td>14,0979938</td>\n",
       "      <td>2113705</td>\n",
       "      <td>2022</td>\n",
       "      <td>1396753</td>\n",
       "      <td>2021</td>\n",
       "    </tr>\n",
       "  </tbody>\n",
       "</table>\n",
       "</div>"
      ],
      "text/plain": [
       "      Code_departement  Code_region  annee  \\\n",
       "883                 75           11   2024   \n",
       "1792                75           11   2024   \n",
       "2701                75           11   2024   \n",
       "3610                75           11   2024   \n",
       "4519                75           11   2024   \n",
       "5428                75           11   2024   \n",
       "6337                75           11   2024   \n",
       "7246                75           11   2024   \n",
       "8155                75           11   2024   \n",
       "9064                75           11   2024   \n",
       "9973                75           11   2024   \n",
       "10882               75           11   2024   \n",
       "11791               75           11   2024   \n",
       "12700               75           11   2024   \n",
       "13609               75           11   2024   \n",
       "14518               75           11   2024   \n",
       "15427               75           11   2024   \n",
       "\n",
       "                                          indicateur   unite_de_compte  \\\n",
       "883                                        Homicides           Victime   \n",
       "1792                          Tentatives d'homicides           Victime   \n",
       "2701                  Coups et blessures volontaires           Victime   \n",
       "3610   Coups et blessures volontaires intrafamiliaux           Victime   \n",
       "4519           Autres coups et blessures volontaires           Victime   \n",
       "5428                             Violences sexuelles           Victime   \n",
       "6337                                 Vols avec armes        Infraction   \n",
       "7246                         Vols violents sans arme        Infraction   \n",
       "8155         Vols sans violence contre des personnes  Victime entendue   \n",
       "9064                        Cambriolages de logement        Infraction   \n",
       "9973                               Vols de véhicules          Véhicule   \n",
       "10882                        Vols dans les véhicules          Véhicule   \n",
       "11791               Vols d'accessoires sur véhicules          Véhicule   \n",
       "12700       Destructions et dégradations volontaires        Infraction   \n",
       "13609                                   Escroqueries           Victime   \n",
       "14518                          Trafic de stupéfiants      Mis en cause   \n",
       "15427                           Usage de stupéfiants      Mis en cause   \n",
       "\n",
       "       nombre taux_pour_mille  insee_pop  insee_pop_millesime  insee_log  \\\n",
       "883        34       0,0160855    2113705                 2022    1396753   \n",
       "1792      187       0,0884702    2113705                 2022    1396753   \n",
       "2701    12729       6,0221270    2113705                 2022    1396753   \n",
       "3610     5307       2,5107572    2113705                 2022    1396753   \n",
       "4519     7422       3,5113698    2113705                 2022    1396753   \n",
       "5428     5877       2,7804258    2113705                 2022    1396753   \n",
       "6337      369       0,1745750    2113705                 2022    1396753   \n",
       "7246     7433       3,5165740    2113705                 2022    1396753   \n",
       "8155    99076      46,8731445    2113705                 2022    1396753   \n",
       "9064     9249       6,6217857    2113705                 2022    1396753   \n",
       "9973     3955       1,8711220    2113705                 2022    1396753   \n",
       "10882   14813       7,0080735    2113705                 2022    1396753   \n",
       "11791    2296       1,0862443    2113705                 2022    1396753   \n",
       "12700   17888       8,4628650    2113705                 2022    1396753   \n",
       "13609   24099      11,4013072    2113705                 2022    1396753   \n",
       "14518    4888       2,3125271    2113705                 2022    1396753   \n",
       "15427   29799      14,0979938    2113705                 2022    1396753   \n",
       "\n",
       "       insee_log_millesime  \n",
       "883                   2021  \n",
       "1792                  2021  \n",
       "2701                  2021  \n",
       "3610                  2021  \n",
       "4519                  2021  \n",
       "5428                  2021  \n",
       "6337                  2021  \n",
       "7246                  2021  \n",
       "8155                  2021  \n",
       "9064                  2021  \n",
       "9973                  2021  \n",
       "10882                 2021  \n",
       "11791                 2021  \n",
       "12700                 2021  \n",
       "13609                 2021  \n",
       "14518                 2021  \n",
       "15427                 2021  "
      ]
     },
     "execution_count": 109,
     "metadata": {},
     "output_type": "execute_result"
    }
   ],
   "source": [
    "crimes_paris[crimes_paris[\"annee\"]==2024]"
   ]
  },
  {
   "cell_type": "code",
   "execution_count": 110,
   "metadata": {},
   "outputs": [
    {
     "data": {
      "text/plain": [
       "array(['Homicides', \"Tentatives d'homicides\",\n",
       "       'Coups et blessures volontaires',\n",
       "       'Coups et blessures volontaires intrafamiliaux',\n",
       "       'Autres coups et blessures volontaires', 'Violences sexuelles',\n",
       "       'Vols avec armes', 'Vols violents sans arme',\n",
       "       'Vols sans violence contre des personnes',\n",
       "       'Cambriolages de logement', 'Vols de véhicules',\n",
       "       'Vols dans les véhicules', \"Vols d'accessoires sur véhicules\",\n",
       "       'Destructions et dégradations volontaires', 'Escroqueries',\n",
       "       'Trafic de stupéfiants', 'Usage de stupéfiants'], dtype=object)"
      ]
     },
     "execution_count": 110,
     "metadata": {},
     "output_type": "execute_result"
    }
   ],
   "source": [
    "crimes_paris[\"indicateur\"].unique()"
   ]
  },
  {
   "cell_type": "code",
   "execution_count": 111,
   "metadata": {},
   "outputs": [],
   "source": [
    "vols_paris_mask = crimes_paris[\"indicateur\"].str.contains(\"vols\", case=False, na=False)\n",
    "vols_paris = crimes_paris[vols_paris_mask]\n",
    "non_vols_paris = crimes_paris[~vols_paris_mask]"
   ]
  },
  {
   "cell_type": "code",
   "execution_count": 112,
   "metadata": {},
   "outputs": [
    {
     "name": "stderr",
     "output_type": "stream",
     "text": [
      "C:\\Users\\crist\\AppData\\Local\\Temp\\ipykernel_37532\\132618187.py:21: SettingWithCopyWarning:\n",
      "\n",
      "\n",
      "A value is trying to be set on a copy of a slice from a DataFrame.\n",
      "Try using .loc[row_indexer,col_indexer] = value instead\n",
      "\n",
      "See the caveats in the documentation: https://pandas.pydata.org/pandas-docs/stable/user_guide/indexing.html#returning-a-view-versus-a-copy\n",
      "\n",
      "C:\\Users\\crist\\AppData\\Local\\Temp\\ipykernel_37532\\132618187.py:22: SettingWithCopyWarning:\n",
      "\n",
      "\n",
      "A value is trying to be set on a copy of a slice from a DataFrame.\n",
      "Try using .loc[row_indexer,col_indexer] = value instead\n",
      "\n",
      "See the caveats in the documentation: https://pandas.pydata.org/pandas-docs/stable/user_guide/indexing.html#returning-a-view-versus-a-copy\n",
      "\n"
     ]
    }
   ],
   "source": [
    "mapping_dict = {\n",
    "    'Homicides': 'Homicides',\n",
    "    \"Tentatives d'homicides\": \"Attempted Homicides\",\n",
    "    'Coups et blessures volontaires': 'Assault and Battery',\n",
    "    'Coups et blessures volontaires intrafamiliaux': 'Domestic Assault and Battery',\n",
    "    'Autres coups et blessures volontaires': 'Other Assault and Battery',\n",
    "    'Violences sexuelles': 'Sexual Violence',\n",
    "    'Vols avec armes': 'Robberies with Weapons',\n",
    "    'Vols violents sans arme': 'Violent Thefts without Weapons',\n",
    "    'Vols sans violence contre des personnes': 'Non-Violent Thefts Against Individuals',\n",
    "    'Cambriolages de logement': 'Home Burglaries',\n",
    "    'Vols de véhicules': 'Vehicle Thefts',\n",
    "    'Vols dans les véhicules': 'Thefts from Vehicles',\n",
    "    \"Vols d'accessoires sur véhicules\": 'Thefts of Vehicle Accessories',\n",
    "    'Destructions et dégradations volontaires': 'Intentional Destruction and Degradation',\n",
    "    'Escroqueries': 'Fraud',\n",
    "    'Trafic de stupéfiants': 'Drug Trafficking',\n",
    "    'Usage de stupéfiants': 'Drug Use'\n",
    "}\n",
    "\n",
    "vols_paris['indicateur'] = vols_paris['indicateur'].replace(mapping_dict)\n",
    "non_vols_paris['indicateur'] = non_vols_paris['indicateur'].replace(mapping_dict)"
   ]
  },
  {
   "cell_type": "code",
   "execution_count": 114,
   "metadata": {},
   "outputs": [
    {
     "name": "stderr",
     "output_type": "stream",
     "text": [
      "C:\\Users\\crist\\AppData\\Local\\Temp\\ipykernel_37532\\1344166851.py:4: UserWarning:\n",
      "\n",
      "The palette list has more values (12) than needed (11), which may not be intended.\n",
      "\n"
     ]
    },
    {
     "data": {
      "image/png": "[encoded data removed]",
      "text/plain": [
       "<Figure size 1200x600 with 1 Axes>"
      ]
     },
     "metadata": {},
     "output_type": "display_data"
    }
   ],
   "source": [
    "palette = sns.color_palette(\"tab20\", 12)\n",
    "\n",
    "plt.figure(figsize=(12, 6))\n",
    "sns.barplot(data=non_vols_paris, x=\"annee\", y=\"nombre\", hue=\"indicateur\", palette=palette)\n",
    "\n",
    "plt.xlabel(\"Year\")\n",
    "plt.ylabel(\"Number of crimes\")\n",
    "plt.title(\"Crime by year and type\")\n",
    "plt.legend(title=\"Crime type\", bbox_to_anchor=(1.05, 1), loc='upper left')\n",
    "\n",
    "plt.xticks(rotation=45)  \n",
    "plt.tight_layout() \n",
    "\n",
    "plt.show()"
   ]
  },
  {
   "cell_type": "code",
   "execution_count": 115,
   "metadata": {},
   "outputs": [
    {
     "data": {
      "image/png": "[encoded data removed]",
      "text/plain": [
       "<Figure size 1200x600 with 1 Axes>"
      ]
     },
     "metadata": {},
     "output_type": "display_data"
    }
   ],
   "source": [
    "plt.figure(figsize=(12, 6))\n",
    "sns.barplot(data=vols_paris, x=\"annee\", y=\"nombre\", hue=\"indicateur\", palette=\"hls\")\n",
    "\n",
    "plt.xlabel(\"Year\")\n",
    "plt.ylabel(\"Number of thefts\")\n",
    "plt.title(\"Thefts by year and type\")\n",
    "plt.legend(title=\"Crime type\", bbox_to_anchor=(1.05, 1), loc='upper left')\n",
    "\n",
    "plt.xticks(rotation=45)  \n",
    "plt.tight_layout() \n",
    "\n",
    "plt.show()\n"
   ]
  },
  {
   "cell_type": "code",
   "execution_count": 116,
   "metadata": {},
   "outputs": [
    {
     "data": {
      "text/html": [
       "<div>\n",
       "<style scoped>\n",
       "    .dataframe tbody tr th:only-of-type {\n",
       "        vertical-align: middle;\n",
       "    }\n",
       "\n",
       "    .dataframe tbody tr th {\n",
       "        vertical-align: top;\n",
       "    }\n",
       "\n",
       "    .dataframe thead th {\n",
       "        text-align: right;\n",
       "    }\n",
       "</style>\n",
       "<table border=\"1\" class=\"dataframe\">\n",
       "  <thead>\n",
       "    <tr style=\"text-align: right;\">\n",
       "      <th></th>\n",
       "      <th>annee</th>\n",
       "      <th>nombre</th>\n",
       "    </tr>\n",
       "  </thead>\n",
       "  <tbody>\n",
       "    <tr>\n",
       "      <th>0</th>\n",
       "      <td>2016</td>\n",
       "      <td>273078</td>\n",
       "    </tr>\n",
       "    <tr>\n",
       "      <th>1</th>\n",
       "      <td>2017</td>\n",
       "      <td>276499</td>\n",
       "    </tr>\n",
       "    <tr>\n",
       "      <th>2</th>\n",
       "      <td>2018</td>\n",
       "      <td>286397</td>\n",
       "    </tr>\n",
       "    <tr>\n",
       "      <th>3</th>\n",
       "      <td>2019</td>\n",
       "      <td>315870</td>\n",
       "    </tr>\n",
       "    <tr>\n",
       "      <th>4</th>\n",
       "      <td>2020</td>\n",
       "      <td>240541</td>\n",
       "    </tr>\n",
       "    <tr>\n",
       "      <th>5</th>\n",
       "      <td>2021</td>\n",
       "      <td>245183</td>\n",
       "    </tr>\n",
       "    <tr>\n",
       "      <th>6</th>\n",
       "      <td>2022</td>\n",
       "      <td>273444</td>\n",
       "    </tr>\n",
       "    <tr>\n",
       "      <th>7</th>\n",
       "      <td>2023</td>\n",
       "      <td>262658</td>\n",
       "    </tr>\n",
       "    <tr>\n",
       "      <th>8</th>\n",
       "      <td>2024</td>\n",
       "      <td>245421</td>\n",
       "    </tr>\n",
       "  </tbody>\n",
       "</table>\n",
       "</div>"
      ],
      "text/plain": [
       "   annee  nombre\n",
       "0   2016  273078\n",
       "1   2017  276499\n",
       "2   2018  286397\n",
       "3   2019  315870\n",
       "4   2020  240541\n",
       "5   2021  245183\n",
       "6   2022  273444\n",
       "7   2023  262658\n",
       "8   2024  245421"
      ]
     },
     "execution_count": 116,
     "metadata": {},
     "output_type": "execute_result"
    }
   ],
   "source": [
    "crime_trends = crimes_paris.groupby(\"annee\")[\"nombre\"].sum().reset_index()\n",
    "crime_trends"
   ]
  },
  {
   "cell_type": "code",
   "execution_count": 117,
   "metadata": {},
   "outputs": [
    {
     "data": {
      "application/vnd.plotly.v1+json": {
       "config": {
        "plotlyServerURL": "https://plot.ly"
       },
       "data": [
        {
         "hovertemplate": "annee=%{x}<br>nombre=%{y}<extra></extra>",
         "legendgroup": "",
         "line": {
          "color": "#bb8fce",
          "dash": "solid",
          "width": 3
         },
         "marker": {
          "symbol": "circle"
         },
         "mode": "lines+markers",
         "name": "",
         "orientation": "v",
         "showlegend": false,
         "type": "scatter",
         "x": [
          2016,
          2017,
          2018,
          2019,
          2020,
          2021,
          2022,
          2023,
          2024
         ],
         "xaxis": "x",
         "y": [
          273078,
          276499,
          286397,
          315870,
          240541,
          245183,
          273444,
          262658,
          245421
         ],
         "yaxis": "y"
        }
       ],
       "layout": {
        "height": 500,
        "hovermode": "x unified",
        "legend": {
         "tracegroupgap": 0
        },
        "template": {
         "data": {
          "bar": [
           {
            "error_x": {
             "color": "#2a3f5f"
            },
            "error_y": {
             "color": "#2a3f5f"
            },
            "marker": {
             "line": {
              "color": "white",
              "width": 0.5
             },
             "pattern": {
              "fillmode": "overlay",
              "size": 10,
              "solidity": 0.2
             }
            },
            "type": "bar"
           }
          ],
          "barpolar": [
           {
            "marker": {
             "line": {
              "color": "white",
              "width": 0.5
             },
             "pattern": {
              "fillmode": "overlay",
              "size": 10,
              "solidity": 0.2
             }
            },
            "type": "barpolar"
           }
          ],
          "carpet": [
           {
            "aaxis": {
             "endlinecolor": "#2a3f5f",
             "gridcolor": "#C8D4E3",
             "linecolor": "#C8D4E3",
             "minorgridcolor": "#C8D4E3",
             "startlinecolor": "#2a3f5f"
            },
            "baxis": {
             "endlinecolor": "#2a3f5f",
             "gridcolor": "#C8D4E3",
             "linecolor": "#C8D4E3",
             "minorgridcolor": "#C8D4E3",
             "startlinecolor": "#2a3f5f"
            },
            "type": "carpet"
           }
          ],
          "choropleth": [
           {
            "colorbar": {
             "outlinewidth": 0,
             "ticks": ""
            },
            "type": "choropleth"
           }
          ],
          "contour": [
           {
            "colorbar": {
             "outlinewidth": 0,
             "ticks": ""
            },
            "colorscale": [
             [
              0,
              "#0d0887"
             ],
             [
              0.1111111111111111,
              "#46039f"
             ],
             [
              0.2222222222222222,
              "#7201a8"
             ],
             [
              0.3333333333333333,
              "#9c179e"
             ],
             [
              0.4444444444444444,
              "#bd3786"
             ],
             [
              0.5555555555555556,
              "#d8576b"
             ],
             [
              0.6666666666666666,
              "#ed7953"
             ],
             [
              0.7777777777777778,
              "#fb9f3a"
             ],
             [
              0.8888888888888888,
              "#fdca26"
             ],
             [
              1,
              "#f0f921"
             ]
            ],
            "type": "contour"
           }
          ],
          "contourcarpet": [
           {
            "colorbar": {
             "outlinewidth": 0,
             "ticks": ""
            },
            "type": "contourcarpet"
           }
          ],
          "heatmap": [
           {
            "colorbar": {
             "outlinewidth": 0,
             "ticks": ""
            },
            "colorscale": [
             [
              0,
              "#0d0887"
             ],
             [
              0.1111111111111111,
              "#46039f"
             ],
             [
              0.2222222222222222,
              "#7201a8"
             ],
             [
              0.3333333333333333,
              "#9c179e"
             ],
             [
              0.4444444444444444,
              "#bd3786"
             ],
             [
              0.5555555555555556,
              "#d8576b"
             ],
             [
              0.6666666666666666,
              "#ed7953"
             ],
             [
              0.7777777777777778,
              "#fb9f3a"
             ],
             [
              0.8888888888888888,
              "#fdca26"
             ],
             [
              1,
              "#f0f921"
             ]
            ],
            "type": "heatmap"
           }
          ],
          "heatmapgl": [
           {
            "colorbar": {
             "outlinewidth": 0,
             "ticks": ""
            },
            "colorscale": [
             [
              0,
              "#0d0887"
             ],
             [
              0.1111111111111111,
              "#46039f"
             ],
             [
              0.2222222222222222,
              "#7201a8"
             ],
             [
              0.3333333333333333,
              "#9c179e"
             ],
             [
              0.4444444444444444,
              "#bd3786"
             ],
             [
              0.5555555555555556,
              "#d8576b"
             ],
             [
              0.6666666666666666,
              "#ed7953"
             ],
             [
              0.7777777777777778,
              "#fb9f3a"
             ],
             [
              0.8888888888888888,
              "#fdca26"
             ],
             [
              1,
              "#f0f921"
             ]
            ],
            "type": "heatmapgl"
           }
          ],
          "histogram": [
           {
            "marker": {
             "pattern": {
              "fillmode": "overlay",
              "size": 10,
              "solidity": 0.2
             }
            },
            "type": "histogram"
           }
          ],
          "histogram2d": [
           {
            "colorbar": {
             "outlinewidth": 0,
             "ticks": ""
            },
            "colorscale": [
             [
              0,
              "#0d0887"
             ],
             [
              0.1111111111111111,
              "#46039f"
             ],
             [
              0.2222222222222222,
              "#7201a8"
             ],
             [
              0.3333333333333333,
              "#9c179e"
             ],
             [
              0.4444444444444444,
              "#bd3786"
             ],
             [
              0.5555555555555556,
              "#d8576b"
             ],
             [
              0.6666666666666666,
              "#ed7953"
             ],
             [
              0.7777777777777778,
              "#fb9f3a"
             ],
             [
              0.8888888888888888,
              "#fdca26"
             ],
             [
              1,
              "#f0f921"
             ]
            ],
            "type": "histogram2d"
           }
          ],
          "histogram2dcontour": [
           {
            "colorbar": {
             "outlinewidth": 0,
             "ticks": ""
            },
            "colorscale": [
             [
              0,
              "#0d0887"
             ],
             [
              0.1111111111111111,
              "#46039f"
             ],
             [
              0.2222222222222222,
              "#7201a8"
             ],
             [
              0.3333333333333333,
              "#9c179e"
             ],
             [
              0.4444444444444444,
              "#bd3786"
             ],
             [
              0.5555555555555556,
              "#d8576b"
             ],
             [
              0.6666666666666666,
              "#ed7953"
             ],
             [
              0.7777777777777778,
              "#fb9f3a"
             ],
             [
              0.8888888888888888,
              "#fdca26"
             ],
             [
              1,
              "#f0f921"
             ]
            ],
            "type": "histogram2dcontour"
           }
          ],
          "mesh3d": [
           {
            "colorbar": {
             "outlinewidth": 0,
             "ticks": ""
            },
            "type": "mesh3d"
           }
          ],
          "parcoords": [
           {
            "line": {
             "colorbar": {
              "outlinewidth": 0,
              "ticks": ""
             }
            },
            "type": "parcoords"
           }
          ],
          "pie": [
           {
            "automargin": true,
            "type": "pie"
           }
          ],
          "scatter": [
           {
            "fillpattern": {
             "fillmode": "overlay",
             "size": 10,
             "solidity": 0.2
            },
            "type": "scatter"
           }
          ],
          "scatter3d": [
           {
            "line": {
             "colorbar": {
              "outlinewidth": 0,
              "ticks": ""
             }
            },
            "marker": {
             "colorbar": {
              "outlinewidth": 0,
              "ticks": ""
             }
            },
            "type": "scatter3d"
           }
          ],
          "scattercarpet": [
           {
            "marker": {
             "colorbar": {
              "outlinewidth": 0,
              "ticks": ""
             }
            },
            "type": "scattercarpet"
           }
          ],
          "scattergeo": [
           {
            "marker": {
             "colorbar": {
              "outlinewidth": 0,
              "ticks": ""
             }
            },
            "type": "scattergeo"
           }
          ],
          "scattergl": [
           {
            "marker": {
             "colorbar": {
              "outlinewidth": 0,
              "ticks": ""
             }
            },
            "type": "scattergl"
           }
          ],
          "scattermapbox": [
           {
            "marker": {
             "colorbar": {
              "outlinewidth": 0,
              "ticks": ""
             }
            },
            "type": "scattermapbox"
           }
          ],
          "scatterpolar": [
           {
            "marker": {
             "colorbar": {
              "outlinewidth": 0,
              "ticks": ""
             }
            },
            "type": "scatterpolar"
           }
          ],
          "scatterpolargl": [
           {
            "marker": {
             "colorbar": {
              "outlinewidth": 0,
              "ticks": ""
             }
            },
            "type": "scatterpolargl"
           }
          ],
          "scatterternary": [
           {
            "marker": {
             "colorbar": {
              "outlinewidth": 0,
              "ticks": ""
             }
            },
            "type": "scatterternary"
           }
          ],
          "surface": [
           {
            "colorbar": {
             "outlinewidth": 0,
             "ticks": ""
            },
            "colorscale": [
             [
              0,
              "#0d0887"
             ],
             [
              0.1111111111111111,
              "#46039f"
             ],
             [
              0.2222222222222222,
              "#7201a8"
             ],
             [
              0.3333333333333333,
              "#9c179e"
             ],
             [
              0.4444444444444444,
              "#bd3786"
             ],
             [
              0.5555555555555556,
              "#d8576b"
             ],
             [
              0.6666666666666666,
              "#ed7953"
             ],
             [
              0.7777777777777778,
              "#fb9f3a"
             ],
             [
              0.8888888888888888,
              "#fdca26"
             ],
             [
              1,
              "#f0f921"
             ]
            ],
            "type": "surface"
           }
          ],
          "table": [
           {
            "cells": {
             "fill": {
              "color": "#EBF0F8"
             },
             "line": {
              "color": "white"
             }
            },
            "header": {
             "fill": {
              "color": "#C8D4E3"
             },
             "line": {
              "color": "white"
             }
            },
            "type": "table"
           }
          ]
         },
         "layout": {
          "annotationdefaults": {
           "arrowcolor": "#2a3f5f",
           "arrowhead": 0,
           "arrowwidth": 1
          },
          "autotypenumbers": "strict",
          "coloraxis": {
           "colorbar": {
            "outlinewidth": 0,
            "ticks": ""
           }
          },
          "colorscale": {
           "diverging": [
            [
             0,
             "#8e0152"
            ],
            [
             0.1,
             "#c51b7d"
            ],
            [
             0.2,
             "#de77ae"
            ],
            [
             0.3,
             "#f1b6da"
            ],
            [
             0.4,
             "#fde0ef"
            ],
            [
             0.5,
             "#f7f7f7"
            ],
            [
             0.6,
             "#e6f5d0"
            ],
            [
             0.7,
             "#b8e186"
            ],
            [
             0.8,
             "#7fbc41"
            ],
            [
             0.9,
             "#4d9221"
            ],
            [
             1,
             "#276419"
            ]
           ],
           "sequential": [
            [
             0,
             "#0d0887"
            ],
            [
             0.1111111111111111,
             "#46039f"
            ],
            [
             0.2222222222222222,
             "#7201a8"
            ],
            [
             0.3333333333333333,
             "#9c179e"
            ],
            [
             0.4444444444444444,
             "#bd3786"
            ],
            [
             0.5555555555555556,
             "#d8576b"
            ],
            [
             0.6666666666666666,
             "#ed7953"
            ],
            [
             0.7777777777777778,
             "#fb9f3a"
            ],
            [
             0.8888888888888888,
             "#fdca26"
            ],
            [
             1,
             "#f0f921"
            ]
           ],
           "sequentialminus": [
            [
             0,
             "#0d0887"
            ],
            [
             0.1111111111111111,
             "#46039f"
            ],
            [
             0.2222222222222222,
             "#7201a8"
            ],
            [
             0.3333333333333333,
             "#9c179e"
            ],
            [
             0.4444444444444444,
             "#bd3786"
            ],
            [
             0.5555555555555556,
             "#d8576b"
            ],
            [
             0.6666666666666666,
             "#ed7953"
            ],
            [
             0.7777777777777778,
             "#fb9f3a"
            ],
            [
             0.8888888888888888,
             "#fdca26"
            ],
            [
             1,
             "#f0f921"
            ]
           ]
          },
          "colorway": [
           "#636efa",
           "#EF553B",
           "#00cc96",
           "#ab63fa",
           "#FFA15A",
           "#19d3f3",
           "#FF6692",
           "#B6E880",
           "#FF97FF",
           "#FECB52"
          ],
          "font": {
           "color": "#2a3f5f"
          },
          "geo": {
           "bgcolor": "white",
           "lakecolor": "white",
           "landcolor": "white",
           "showlakes": true,
           "showland": true,
           "subunitcolor": "#C8D4E3"
          },
          "hoverlabel": {
           "align": "left"
          },
          "hovermode": "closest",
          "mapbox": {
           "style": "light"
          },
          "paper_bgcolor": "white",
          "plot_bgcolor": "white",
          "polar": {
           "angularaxis": {
            "gridcolor": "#EBF0F8",
            "linecolor": "#EBF0F8",
            "ticks": ""
           },
           "bgcolor": "white",
           "radialaxis": {
            "gridcolor": "#EBF0F8",
            "linecolor": "#EBF0F8",
            "ticks": ""
           }
          },
          "scene": {
           "xaxis": {
            "backgroundcolor": "white",
            "gridcolor": "#DFE8F3",
            "gridwidth": 2,
            "linecolor": "#EBF0F8",
            "showbackground": true,
            "ticks": "",
            "zerolinecolor": "#EBF0F8"
           },
           "yaxis": {
            "backgroundcolor": "white",
            "gridcolor": "#DFE8F3",
            "gridwidth": 2,
            "linecolor": "#EBF0F8",
            "showbackground": true,
            "ticks": "",
            "zerolinecolor": "#EBF0F8"
           },
           "zaxis": {
            "backgroundcolor": "white",
            "gridcolor": "#DFE8F3",
            "gridwidth": 2,
            "linecolor": "#EBF0F8",
            "showbackground": true,
            "ticks": "",
            "zerolinecolor": "#EBF0F8"
           }
          },
          "shapedefaults": {
           "line": {
            "color": "#2a3f5f"
           }
          },
          "ternary": {
           "aaxis": {
            "gridcolor": "#DFE8F3",
            "linecolor": "#A2B1C6",
            "ticks": ""
           },
           "baxis": {
            "gridcolor": "#DFE8F3",
            "linecolor": "#A2B1C6",
            "ticks": ""
           },
           "bgcolor": "white",
           "caxis": {
            "gridcolor": "#DFE8F3",
            "linecolor": "#A2B1C6",
            "ticks": ""
           }
          },
          "title": {
           "x": 0.05
          },
          "xaxis": {
           "automargin": true,
           "gridcolor": "#EBF0F8",
           "linecolor": "#EBF0F8",
           "ticks": "",
           "title": {
            "standoff": 15
           },
           "zerolinecolor": "#EBF0F8",
           "zerolinewidth": 2
          },
          "yaxis": {
           "automargin": true,
           "gridcolor": "#EBF0F8",
           "linecolor": "#EBF0F8",
           "ticks": "",
           "title": {
            "standoff": 15
           },
           "zerolinecolor": "#EBF0F8",
           "zerolinewidth": 2
          }
         }
        },
        "title": {
         "text": "Total crimes over the years",
         "x": 0.5,
         "xanchor": "center",
         "y": 0.9,
         "yanchor": "top"
        },
        "width": 700,
        "xaxis": {
         "anchor": "y",
         "domain": [
          0,
          1
         ],
         "title": {
          "text": "Year"
         }
        },
        "yaxis": {
         "anchor": "x",
         "domain": [
          0,
          1
         ],
         "title": {
          "text": "Total crimes"
         }
        }
       }
      }
     },
     "metadata": {},
     "output_type": "display_data"
    }
   ],
   "source": [
    "fig = px.line(crime_trends, x=\"annee\", y=\"nombre\", \n",
    "              markers=True, title=\"Total crimes over the years\", width=700,height=500 )\n",
    "\n",
    "fig.update_layout(xaxis_title=\"Year\", yaxis_title=\"Total crimes\",\n",
    "                   template=\"plotly_white\",hovermode=\"x unified\")\n",
    "\n",
    "fig.update_traces(line=dict(color=\"#bb8fce\", width=3))  \n",
    "\n",
    "fig.update_layout(title={'xanchor': 'center', 'y':0.9,\n",
    "        'x':0.5,\n",
    "        'yanchor': 'top'})\n",
    "\n",
    "fig.show()\n"
   ]
  },
  {
   "cell_type": "code",
   "execution_count": null,
   "metadata": {},
   "outputs": [],
   "source": [
    "## Getting weather data of London\n",
    "\n",
    "url = \"https://archive-api.open-meteo.com/v1/archive\"\n",
    "params = {\n",
    "\t\"latitude\": 51.50853,\n",
    "\t\"longitude\": -0.12574,\n",
    "\t\"start_date\": \"2024-01-01\",\n",
    "\t\"end_date\": \"2024-12-31\",\n",
    "    \"temperature_unit\": \"celsius\",\n",
    "    \"precipitation_unit\": \"mm\",\n",
    "    \"daily\": \"temperature_2m_max,temperature_2m_min,precipitation_sum,precipitation_hours,sunshine_duration\",\n",
    "    \"timezone\": \"Europe/Paris\"}\n",
    "\n",
    "response = requests.get(url, params=params)\n",
    "data = response.json()\n",
    "daily_data = data.get(\"daily\", {})\n",
    "weather_london = pd.DataFrame(daily_data)\n",
    "weather_london[\"time\"] = pd.to_datetime(weather_london[\"time\"])\n",
    "weather_london[\"year_season\"] = weather_london[\"time\"].apply(get_season)\n",
    "days_rain = weather_london[weather_london[\"precipitation_sum\"] != 0]\n",
    "\n",
    "frequency_table = days_rain[\"year_season\"].value_counts()"
   ]
  },
  {
   "cell_type": "code",
   "execution_count": null,
   "metadata": {},
   "outputs": [
    {
     "data": {
      "text/plain": [
       "(240, 7)"
      ]
     },
     "execution_count": 269,
     "metadata": {},
     "output_type": "execute_result"
    }
   ],
   "source": [
    "days_rain.shape"
   ]
  },
  {
   "cell_type": "code",
   "execution_count": null,
   "metadata": {},
   "outputs": [],
   "source": [
    "days_rain_more_five = weather_london[weather_london[\"precipitation_sum\"] > 5]\n",
    "frequency_table_2 = days_rain_more_five[\"year_season\"].value_counts()"
   ]
  },
  {
   "cell_type": "code",
   "execution_count": null,
   "metadata": {},
   "outputs": [
    {
     "data": {
      "application/vnd.plotly.v1+json": {
       "config": {
        "plotlyServerURL": "https://plot.ly"
       },
       "data": [
        {
         "marker": {
          "color": "LightSkyBlue"
         },
         "name": "Rainy days",
         "text": [
          68,
          61,
          58,
          53
         ],
         "textposition": "outside",
         "type": "bar",
         "x": [
          "Spring",
          "Winter",
          "Autumn",
          "Summer"
         ],
         "y": [
          68,
          61,
          58,
          53
         ]
        },
        {
         "marker": {
          "color": "MediumPurple"
         },
         "name": "Days with >5h rain",
         "text": [
          19,
          16,
          13,
          12
         ],
         "textposition": "outside",
         "type": "bar",
         "x": [
          "Autumn",
          "Winter",
          "Spring",
          "Summer"
         ],
         "y": [
          19,
          16,
          13,
          12
         ]
        }
       ],
       "layout": {
        "barmode": "overlay",
        "height": 500,
        "paper_bgcolor": "white",
        "plot_bgcolor": "white",
        "template": {
         "data": {
          "bar": [
           {
            "error_x": {
             "color": "#2a3f5f"
            },
            "error_y": {
             "color": "#2a3f5f"
            },
            "marker": {
             "line": {
              "color": "#E5ECF6",
              "width": 0.5
             },
             "pattern": {
              "fillmode": "overlay",
              "size": 10,
              "solidity": 0.2
             }
            },
            "type": "bar"
           }
          ],
          "barpolar": [
           {
            "marker": {
             "line": {
              "color": "#E5ECF6",
              "width": 0.5
             },
             "pattern": {
              "fillmode": "overlay",
              "size": 10,
              "solidity": 0.2
             }
            },
            "type": "barpolar"
           }
          ],
          "carpet": [
           {
            "aaxis": {
             "endlinecolor": "#2a3f5f",
             "gridcolor": "white",
             "linecolor": "white",
             "minorgridcolor": "white",
             "startlinecolor": "#2a3f5f"
            },
            "baxis": {
             "endlinecolor": "#2a3f5f",
             "gridcolor": "white",
             "linecolor": "white",
             "minorgridcolor": "white",
             "startlinecolor": "#2a3f5f"
            },
            "type": "carpet"
           }
          ],
          "choropleth": [
           {
            "colorbar": {
             "outlinewidth": 0,
             "ticks": ""
            },
            "type": "choropleth"
           }
          ],
          "contour": [
           {
            "colorbar": {
             "outlinewidth": 0,
             "ticks": ""
            },
            "colorscale": [
             [
              0,
              "#0d0887"
             ],
             [
              0.1111111111111111,
              "#46039f"
             ],
             [
              0.2222222222222222,
              "#7201a8"
             ],
             [
              0.3333333333333333,
              "#9c179e"
             ],
             [
              0.4444444444444444,
              "#bd3786"
             ],
             [
              0.5555555555555556,
              "#d8576b"
             ],
             [
              0.6666666666666666,
              "#ed7953"
             ],
             [
              0.7777777777777778,
              "#fb9f3a"
             ],
             [
              0.8888888888888888,
              "#fdca26"
             ],
             [
              1,
              "#f0f921"
             ]
            ],
            "type": "contour"
           }
          ],
          "contourcarpet": [
           {
            "colorbar": {
             "outlinewidth": 0,
             "ticks": ""
            },
            "type": "contourcarpet"
           }
          ],
          "heatmap": [
           {
            "colorbar": {
             "outlinewidth": 0,
             "ticks": ""
            },
            "colorscale": [
             [
              0,
              "#0d0887"
             ],
             [
              0.1111111111111111,
              "#46039f"
             ],
             [
              0.2222222222222222,
              "#7201a8"
             ],
             [
              0.3333333333333333,
              "#9c179e"
             ],
             [
              0.4444444444444444,
              "#bd3786"
             ],
             [
              0.5555555555555556,
              "#d8576b"
             ],
             [
              0.6666666666666666,
              "#ed7953"
             ],
             [
              0.7777777777777778,
              "#fb9f3a"
             ],
             [
              0.8888888888888888,
              "#fdca26"
             ],
             [
              1,
              "#f0f921"
             ]
            ],
            "type": "heatmap"
           }
          ],
          "heatmapgl": [
           {
            "colorbar": {
             "outlinewidth": 0,
             "ticks": ""
            },
            "colorscale": [
             [
              0,
              "#0d0887"
             ],
             [
              0.1111111111111111,
              "#46039f"
             ],
             [
              0.2222222222222222,
              "#7201a8"
             ],
             [
              0.3333333333333333,
              "#9c179e"
             ],
             [
              0.4444444444444444,
              "#bd3786"
             ],
             [
              0.5555555555555556,
              "#d8576b"
             ],
             [
              0.6666666666666666,
              "#ed7953"
             ],
             [
              0.7777777777777778,
              "#fb9f3a"
             ],
             [
              0.8888888888888888,
              "#fdca26"
             ],
             [
              1,
              "#f0f921"
             ]
            ],
            "type": "heatmapgl"
           }
          ],
          "histogram": [
           {
            "marker": {
             "pattern": {
              "fillmode": "overlay",
              "size": 10,
              "solidity": 0.2
             }
            },
            "type": "histogram"
           }
          ],
          "histogram2d": [
           {
            "colorbar": {
             "outlinewidth": 0,
             "ticks": ""
            },
            "colorscale": [
             [
              0,
              "#0d0887"
             ],
             [
              0.1111111111111111,
              "#46039f"
             ],
             [
              0.2222222222222222,
              "#7201a8"
             ],
             [
              0.3333333333333333,
              "#9c179e"
             ],
             [
              0.4444444444444444,
              "#bd3786"
             ],
             [
              0.5555555555555556,
              "#d8576b"
             ],
             [
              0.6666666666666666,
              "#ed7953"
             ],
             [
              0.7777777777777778,
              "#fb9f3a"
             ],
             [
              0.8888888888888888,
              "#fdca26"
             ],
             [
              1,
              "#f0f921"
             ]
            ],
            "type": "histogram2d"
           }
          ],
          "histogram2dcontour": [
           {
            "colorbar": {
             "outlinewidth": 0,
             "ticks": ""
            },
            "colorscale": [
             [
              0,
              "#0d0887"
             ],
             [
              0.1111111111111111,
              "#46039f"
             ],
             [
              0.2222222222222222,
              "#7201a8"
             ],
             [
              0.3333333333333333,
              "#9c179e"
             ],
             [
              0.4444444444444444,
              "#bd3786"
             ],
             [
              0.5555555555555556,
              "#d8576b"
             ],
             [
              0.6666666666666666,
              "#ed7953"
             ],
             [
              0.7777777777777778,
              "#fb9f3a"
             ],
             [
              0.8888888888888888,
              "#fdca26"
             ],
             [
              1,
              "#f0f921"
             ]
            ],
            "type": "histogram2dcontour"
           }
          ],
          "mesh3d": [
           {
            "colorbar": {
             "outlinewidth": 0,
             "ticks": ""
            },
            "type": "mesh3d"
           }
          ],
          "parcoords": [
           {
            "line": {
             "colorbar": {
              "outlinewidth": 0,
              "ticks": ""
             }
            },
            "type": "parcoords"
           }
          ],
          "pie": [
           {
            "automargin": true,
            "type": "pie"
           }
          ],
          "scatter": [
           {
            "fillpattern": {
             "fillmode": "overlay",
             "size": 10,
             "solidity": 0.2
            },
            "type": "scatter"
           }
          ],
          "scatter3d": [
           {
            "line": {
             "colorbar": {
              "outlinewidth": 0,
              "ticks": ""
             }
            },
            "marker": {
             "colorbar": {
              "outlinewidth": 0,
              "ticks": ""
             }
            },
            "type": "scatter3d"
           }
          ],
          "scattercarpet": [
           {
            "marker": {
             "colorbar": {
              "outlinewidth": 0,
              "ticks": ""
             }
            },
            "type": "scattercarpet"
           }
          ],
          "scattergeo": [
           {
            "marker": {
             "colorbar": {
              "outlinewidth": 0,
              "ticks": ""
             }
            },
            "type": "scattergeo"
           }
          ],
          "scattergl": [
           {
            "marker": {
             "colorbar": {
              "outlinewidth": 0,
              "ticks": ""
             }
            },
            "type": "scattergl"
           }
          ],
          "scattermapbox": [
           {
            "marker": {
             "colorbar": {
              "outlinewidth": 0,
              "ticks": ""
             }
            },
            "type": "scattermapbox"
           }
          ],
          "scatterpolar": [
           {
            "marker": {
             "colorbar": {
              "outlinewidth": 0,
              "ticks": ""
             }
            },
            "type": "scatterpolar"
           }
          ],
          "scatterpolargl": [
           {
            "marker": {
             "colorbar": {
              "outlinewidth": 0,
              "ticks": ""
             }
            },
            "type": "scatterpolargl"
           }
          ],
          "scatterternary": [
           {
            "marker": {
             "colorbar": {
              "outlinewidth": 0,
              "ticks": ""
             }
            },
            "type": "scatterternary"
           }
          ],
          "surface": [
           {
            "colorbar": {
             "outlinewidth": 0,
             "ticks": ""
            },
            "colorscale": [
             [
              0,
              "#0d0887"
             ],
             [
              0.1111111111111111,
              "#46039f"
             ],
             [
              0.2222222222222222,
              "#7201a8"
             ],
             [
              0.3333333333333333,
              "#9c179e"
             ],
             [
              0.4444444444444444,
              "#bd3786"
             ],
             [
              0.5555555555555556,
              "#d8576b"
             ],
             [
              0.6666666666666666,
              "#ed7953"
             ],
             [
              0.7777777777777778,
              "#fb9f3a"
             ],
             [
              0.8888888888888888,
              "#fdca26"
             ],
             [
              1,
              "#f0f921"
             ]
            ],
            "type": "surface"
           }
          ],
          "table": [
           {
            "cells": {
             "fill": {
              "color": "#EBF0F8"
             },
             "line": {
              "color": "white"
             }
            },
            "header": {
             "fill": {
              "color": "#C8D4E3"
             },
             "line": {
              "color": "white"
             }
            },
            "type": "table"
           }
          ]
         },
         "layout": {
          "annotationdefaults": {
           "arrowcolor": "#2a3f5f",
           "arrowhead": 0,
           "arrowwidth": 1
          },
          "autotypenumbers": "strict",
          "coloraxis": {
           "colorbar": {
            "outlinewidth": 0,
            "ticks": ""
           }
          },
          "colorscale": {
           "diverging": [
            [
             0,
             "#8e0152"
            ],
            [
             0.1,
             "#c51b7d"
            ],
            [
             0.2,
             "#de77ae"
            ],
            [
             0.3,
             "#f1b6da"
            ],
            [
             0.4,
             "#fde0ef"
            ],
            [
             0.5,
             "#f7f7f7"
            ],
            [
             0.6,
             "#e6f5d0"
            ],
            [
             0.7,
             "#b8e186"
            ],
            [
             0.8,
             "#7fbc41"
            ],
            [
             0.9,
             "#4d9221"
            ],
            [
             1,
             "#276419"
            ]
           ],
           "sequential": [
            [
             0,
             "#0d0887"
            ],
            [
             0.1111111111111111,
             "#46039f"
            ],
            [
             0.2222222222222222,
             "#7201a8"
            ],
            [
             0.3333333333333333,
             "#9c179e"
            ],
            [
             0.4444444444444444,
             "#bd3786"
            ],
            [
             0.5555555555555556,
             "#d8576b"
            ],
            [
             0.6666666666666666,
             "#ed7953"
            ],
            [
             0.7777777777777778,
             "#fb9f3a"
            ],
            [
             0.8888888888888888,
             "#fdca26"
            ],
            [
             1,
             "#f0f921"
            ]
           ],
           "sequentialminus": [
            [
             0,
             "#0d0887"
            ],
            [
             0.1111111111111111,
             "#46039f"
            ],
            [
             0.2222222222222222,
             "#7201a8"
            ],
            [
             0.3333333333333333,
             "#9c179e"
            ],
            [
             0.4444444444444444,
             "#bd3786"
            ],
            [
             0.5555555555555556,
             "#d8576b"
            ],
            [
             0.6666666666666666,
             "#ed7953"
            ],
            [
             0.7777777777777778,
             "#fb9f3a"
            ],
            [
             0.8888888888888888,
             "#fdca26"
            ],
            [
             1,
             "#f0f921"
            ]
           ]
          },
          "colorway": [
           "#636efa",
           "#EF553B",
           "#00cc96",
           "#ab63fa",
           "#FFA15A",
           "#19d3f3",
           "#FF6692",
           "#B6E880",
           "#FF97FF",
           "#FECB52"
          ],
          "font": {
           "color": "#2a3f5f"
          },
          "geo": {
           "bgcolor": "white",
           "lakecolor": "white",
           "landcolor": "#E5ECF6",
           "showlakes": true,
           "showland": true,
           "subunitcolor": "white"
          },
          "hoverlabel": {
           "align": "left"
          },
          "hovermode": "closest",
          "mapbox": {
           "style": "light"
          },
          "paper_bgcolor": "white",
          "plot_bgcolor": "#E5ECF6",
          "polar": {
           "angularaxis": {
            "gridcolor": "white",
            "linecolor": "white",
            "ticks": ""
           },
           "bgcolor": "#E5ECF6",
           "radialaxis": {
            "gridcolor": "white",
            "linecolor": "white",
            "ticks": ""
           }
          },
          "scene": {
           "xaxis": {
            "backgroundcolor": "#E5ECF6",
            "gridcolor": "white",
            "gridwidth": 2,
            "linecolor": "white",
            "showbackground": true,
            "ticks": "",
            "zerolinecolor": "white"
           },
           "yaxis": {
            "backgroundcolor": "#E5ECF6",
            "gridcolor": "white",
            "gridwidth": 2,
            "linecolor": "white",
            "showbackground": true,
            "ticks": "",
            "zerolinecolor": "white"
           },
           "zaxis": {
            "backgroundcolor": "#E5ECF6",
            "gridcolor": "white",
            "gridwidth": 2,
            "linecolor": "white",
            "showbackground": true,
            "ticks": "",
            "zerolinecolor": "white"
           }
          },
          "shapedefaults": {
           "line": {
            "color": "#2a3f5f"
           }
          },
          "ternary": {
           "aaxis": {
            "gridcolor": "white",
            "linecolor": "white",
            "ticks": ""
           },
           "baxis": {
            "gridcolor": "white",
            "linecolor": "white",
            "ticks": ""
           },
           "bgcolor": "#E5ECF6",
           "caxis": {
            "gridcolor": "white",
            "linecolor": "white",
            "ticks": ""
           }
          },
          "title": {
           "x": 0.05
          },
          "xaxis": {
           "automargin": true,
           "gridcolor": "white",
           "linecolor": "white",
           "ticks": "",
           "title": {
            "standoff": 15
           },
           "zerolinecolor": "white",
           "zerolinewidth": 2
          },
          "yaxis": {
           "automargin": true,
           "gridcolor": "white",
           "linecolor": "white",
           "ticks": "",
           "title": {
            "standoff": 15
           },
           "zerolinecolor": "white",
           "zerolinewidth": 2
          }
         }
        },
        "title": {
         "text": "Rainy days in London",
         "x": 0.5
        },
        "width": 750,
        "xaxis": {
         "title": {
          "text": "Season"
         }
        },
        "yaxis": {
         "gridcolor": "lightgray",
         "showgrid": true,
         "title": {
          "text": "Amount of days"
         }
        }
       }
      }
     },
     "metadata": {},
     "output_type": "display_data"
    }
   ],
   "source": [
    "fig = go.Figure()\n",
    "\n",
    "fig.add_trace(go.Bar(\n",
    "    x=frequency_table.index, \n",
    "    y=frequency_table.values, \n",
    "    text=frequency_table.values, \n",
    "    textposition=\"outside\",\n",
    "    name=\"Rainy days\",\n",
    "    marker_color=\"LightSkyBlue\"\n",
    "))\n",
    "\n",
    "fig.add_trace(go.Bar(\n",
    "    x=frequency_table_2.index, \n",
    "    y=frequency_table_2.values, \n",
    "    text=frequency_table_2.values, \n",
    "    textposition=\"outside\",\n",
    "    name=\"Days with >5h rain\",\n",
    "    marker_color=\"MediumPurple\"\n",
    "))\n",
    "\n",
    "fig.update_layout(\n",
    "    title=\"Rainy days in London\",\n",
    "    xaxis_title=\"Season\",\n",
    "    yaxis_title=\"Amount of days\",\n",
    "    barmode=\"overlay\",\n",
    "    plot_bgcolor=\"white\",\n",
    "    paper_bgcolor=\"white\",\n",
    "    yaxis=dict(showgrid=True, gridcolor=\"lightgray\"),\n",
    "    title_x=0.5,\n",
    "    width=750,height=500 \n",
    ")\n",
    "\n",
    "fig.show()\n"
   ]
  }
 ],
 "metadata": {
  "kernelspec": {
   "display_name": "base",
   "language": "python",
   "name": "python3"
  },
  "language_info": {
   "codemirror_mode": {
    "name": "ipython",
    "version": 3
   },
   "file_extension": ".py",
   "mimetype": "text/x-python",
   "name": "python",
   "nbconvert_exporter": "python",
   "pygments_lexer": "ipython3",
   "version": "3.12.3"
  }
 },
 "nbformat": 4,
 "nbformat_minor": 2
}
